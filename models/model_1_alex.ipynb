{
 "cells": [
  {
   "cell_type": "markdown",
   "id": "d2720872",
   "metadata": {},
   "source": [
    "# Model 1: one airline, one airport"
   ]
  },
  {
   "cell_type": "code",
   "execution_count": 1,
   "id": "aed35dfe",
   "metadata": {},
   "outputs": [],
   "source": [
    "# initialization\n",
    "import datetime, warnings, scipy \n",
    "import pandas as pd\n",
    "import numpy as np\n",
    "import seaborn as sns\n",
    "import matplotlib as mpl\n",
    "import matplotlib.pyplot as plt\n",
    "import matplotlib.patches as patches\n",
    "from matplotlib.patches import ConnectionPatch\n",
    "from collections import OrderedDict\n",
    "from matplotlib.gridspec import GridSpec\n",
    "from mpl_toolkits.basemap import Basemap\n",
    "from sklearn import metrics, linear_model\n",
    "from sklearn.preprocessing import PolynomialFeatures, StandardScaler\n",
    "from sklearn.preprocessing import LabelEncoder, OneHotEncoder\n",
    "from sklearn.model_selection import train_test_split, cross_val_score, cross_val_predict\n",
    "from scipy.optimize import curve_fit\n",
    "plt.rcParams[\"patch.force_edgecolor\"] = True\n",
    "plt.style.use('fivethirtyeight')\n",
    "mpl.rc('patch', edgecolor = 'dimgray', linewidth=1)\n",
    "from IPython.core.interactiveshell import InteractiveShell\n",
    "InteractiveShell.ast_node_interactivity = \"last_expr\"\n",
    "pd.options.display.max_columns = 50\n",
    "%matplotlib inline\n",
    "warnings.filterwarnings(\"ignore\")\n",
    "from sklearn.linear_model import Ridge"
   ]
  },
  {
   "cell_type": "code",
   "execution_count": 2,
   "id": "0ea7b993",
   "metadata": {},
   "outputs": [],
   "source": [
    "# load files\n",
    "airlines = pd.read_csv('data_alex/airlines.csv')\n",
    "airports = pd.read_csv('data_alex/airports.csv')\n",
    "train = pd.read_csv('data_alex/flights_train.csv')\n",
    "test = pd.read_csv('data_alex/flights_test.csv')\n",
    "submit = pd.read_csv('data_alex/submit_sample.csv')"
   ]
  },
  {
   "cell_type": "code",
   "execution_count": 3,
   "id": "2cc57966",
   "metadata": {},
   "outputs": [],
   "source": [
    "# add DATE column\n",
    "train['DATE'] = pd.to_datetime(train[['YEAR','MONTH', 'DAY']])\n",
    "test['DATE'] = pd.to_datetime(test[['YEAR','MONTH', 'DAY']])"
   ]
  },
  {
   "cell_type": "code",
   "execution_count": 4,
   "id": "01990cca",
   "metadata": {},
   "outputs": [],
   "source": [
    "# Function that convert the 'HHMM' string to datetime.time\n",
    "def format_heure(chaine):\n",
    "    if pd.isnull(chaine):\n",
    "        return np.nan\n",
    "    else:\n",
    "        if chaine == 2400: chaine = 0\n",
    "        chaine = \"{0:04d}\".format(int(chaine))\n",
    "        heure = datetime.time(int(chaine[0:2]), int(chaine[2:4]))\n",
    "        return heure\n",
    "#_____________________________________________________________________\n",
    "# Function that combines a date and time to produce a datetime.datetime\n",
    "def combine_date_heure(x):\n",
    "    if pd.isnull(x[0]) or pd.isnull(x[1]):\n",
    "        return np.nan\n",
    "    else:\n",
    "        return datetime.datetime.combine(x[0],x[1])\n",
    "#_______________________________________________________________________________\n",
    "# Function that combine two columns of the dataframe to create a datetime format\n",
    "def create_flight_time(df, col):    \n",
    "    liste = []\n",
    "    for index, cols in df[['DATE', col]].iterrows():    \n",
    "        if pd.isnull(cols[1]):\n",
    "            liste.append(np.nan)\n",
    "        elif float(cols[1]) == 2400:\n",
    "            cols[0] += datetime.timedelta(days=1)\n",
    "            cols[1] = datetime.time(0,0)\n",
    "            liste.append(combine_date_heure(cols))\n",
    "        else:\n",
    "            cols[1] = format_heure(cols[1])\n",
    "            liste.append(combine_date_heure(cols))\n",
    "    return pd.Series(liste)"
   ]
  },
  {
   "cell_type": "code",
   "execution_count": 5,
   "id": "ad45d89d",
   "metadata": {},
   "outputs": [],
   "source": [
    "# add departure delay\n",
    "train['DEPARTURE_DELAY'] = train['DEPARTURE_TIME'] - train['SCHEDULED_DEPARTURE']\n",
    "test['DEPARTURE_DELAY'] = test['DEPARTURE_TIME'] - test['SCHEDULED_DEPARTURE']"
   ]
  },
  {
   "cell_type": "code",
   "execution_count": 6,
   "id": "caa0196f",
   "metadata": {},
   "outputs": [],
   "source": [
    "# modify train dataframe variables\n",
    "train['SCHEDULED_DEPARTURE'] = create_flight_time(train, 'SCHEDULED_DEPARTURE')\n",
    "train['DEPARTURE_TIME'] = train['DEPARTURE_TIME'].apply(format_heure)\n",
    "train['SCHEDULED_ARRIVAL'] = train['SCHEDULED_ARRIVAL'].apply(format_heure)"
   ]
  },
  {
   "cell_type": "code",
   "execution_count": 7,
   "id": "f4209b84",
   "metadata": {},
   "outputs": [],
   "source": [
    "# modify test dataframe variables\n",
    "test['SCHEDULED_DEPARTURE'] = create_flight_time(test, 'SCHEDULED_DEPARTURE')\n",
    "test['DEPARTURE_TIME'] = test['DEPARTURE_TIME'].apply(format_heure)\n",
    "test['SCHEDULED_ARRIVAL'] = test['SCHEDULED_ARRIVAL'].apply(format_heure)"
   ]
  },
  {
   "cell_type": "code",
   "execution_count": 8,
   "id": "c33b5c1e",
   "metadata": {},
   "outputs": [],
   "source": [
    "#__________________________________________________________________\n",
    "# function that extract statistical parameters from a grouby objet:\n",
    "def get_stats(group):\n",
    "    return {'min': group.min(), 'max': group.max(),\n",
    "            'count': group.count(), 'mean': group.mean()}"
   ]
  },
  {
   "cell_type": "code",
   "execution_count": 9,
   "id": "44cae0c8",
   "metadata": {},
   "outputs": [],
   "source": [
    "# a class to produce graphs\n",
    "class Figure_style():\n",
    "    #_________________________________________________________________\n",
    "    def __init__(self, size_x = 11, size_y = 5, nrows = 1, ncols = 1):\n",
    "        sns.set_style(\"white\")\n",
    "        sns.set_context(\"notebook\", font_scale=1.2, rc={\"lines.linewidth\": 2.5})\n",
    "        self.fig, axs = plt.subplots(nrows = nrows, ncols = ncols, figsize=(size_x,size_y,))\n",
    "        #________________________________\n",
    "        # convert self.axs to 2D array\n",
    "        if nrows == 1 and ncols == 1:\n",
    "            self.axs = np.reshape(axs, (1, -1))\n",
    "        elif nrows == 1:\n",
    "            self.axs = np.reshape(axs, (1, -1))\n",
    "        elif ncols == 1:\n",
    "            self.axs = np.reshape(axs, (-1, 1))\n",
    "    #_____________________________\n",
    "    def pos_update(self, ix, iy):\n",
    "        self.ix, self.iy = ix, iy\n",
    "    #_______________\n",
    "    def style(self):\n",
    "        self.axs[self.ix, self.iy].spines['right'].set_visible(False)\n",
    "        self.axs[self.ix, self.iy].spines['top'].set_visible(False)\n",
    "        self.axs[self.ix, self.iy].yaxis.grid(color='lightgray', linestyle=':')\n",
    "        self.axs[self.ix, self.iy].xaxis.grid(color='lightgray', linestyle=':')\n",
    "        self.axs[self.ix, self.iy].tick_params(axis='both', which='major',\n",
    "                                               labelsize=10, size = 5)\n",
    "    #________________________________________\n",
    "    def draw_legend(self, location='upper right'):\n",
    "        legend = self.axs[self.ix, self.iy].legend(loc = location, shadow=True,\n",
    "                                        facecolor = 'g', frameon = True)\n",
    "        legend.get_frame().set_facecolor('whitesmoke')\n",
    "    #_________________________________________________________________________________\n",
    "    def cust_plot(self, x, y, color='b', linestyle='-', linewidth=1, marker=None, label=''):\n",
    "        if marker:\n",
    "            markerfacecolor, marker, markersize = marker[:]\n",
    "            self.axs[self.ix, self.iy].plot(x, y, color = color, linestyle = linestyle,\n",
    "                                linewidth = linewidth, marker = marker, label = label,\n",
    "                                markerfacecolor = markerfacecolor, markersize = markersize)\n",
    "        else:\n",
    "            self.axs[self.ix, self.iy].plot(x, y, color = color, linestyle = linestyle,\n",
    "                                        linewidth = linewidth, label=label)\n",
    "        self.fig.autofmt_xdate()\n",
    "    #________________________________________________________________________\n",
    "    def cust_plot_date(self, x, y, color='lightblue', linestyle='-',\n",
    "                       linewidth=1, markeredge=False, label=''):\n",
    "        markeredgewidth = 1 if markeredge else 0\n",
    "        self.axs[self.ix, self.iy].plot_date(x, y, color='lightblue', markeredgecolor='grey',\n",
    "                                  markeredgewidth = markeredgewidth, label=label)\n",
    "    #________________________________________________________________________\n",
    "    def cust_scatter(self, x, y, color = 'lightblue', markeredge = False, label=''):\n",
    "        markeredgewidth = 1 if markeredge else 0\n",
    "        self.axs[self.ix, self.iy].scatter(x, y, color=color,  edgecolor='grey',\n",
    "                                  linewidths = markeredgewidth, label=label)    \n",
    "    #___________________________________________\n",
    "    def set_xlabel(self, label, fontsize = 14):\n",
    "        self.axs[self.ix, self.iy].set_xlabel(label, fontsize = fontsize)\n",
    "    #___________________________________________\n",
    "    def set_ylabel(self, label, fontsize = 14):\n",
    "        self.axs[self.ix, self.iy].set_ylabel(label, fontsize = fontsize)\n",
    "    #____________________________________\n",
    "    def set_xlim(self, lim_inf, lim_sup):\n",
    "        self.axs[self.ix, self.iy].set_xlim([lim_inf, lim_sup])\n",
    "    #____________________________________\n",
    "    def set_ylim(self, lim_inf, lim_sup):\n",
    "        self.axs[self.ix, self.iy].set_ylim([lim_inf, lim_sup])      "
   ]
  },
  {
   "cell_type": "markdown",
   "id": "b20e09e8",
   "metadata": {},
   "source": [
    "Model the delays by considering separately the different airlines and by splitting the data according to the different home airports. This first model can be seen as a \"toy-model\" that enables to identify problems that may arise at the production stage. When treating the whole dataset, the number of fits will be large. Hence we have to be sure that the automation of the whole process is robust enough to insure the quality of the fits.\n",
    "\n",
    "Pitfalls 1 airline, 1 airport:\n",
    "- unsufficient data: the least visited airports only have a few flights per month (unfit for linear regression)\n",
    "- extreme delays: large delays create bias and significantly change the model (with small sets)"
   ]
  },
  {
   "cell_type": "markdown",
   "id": "9f627def",
   "metadata": {},
   "source": [
    "**Polynomial degree: splitting the dataset**\n",
    "- Instead of simple linear regression, we can improve the model doing a fit with a polynomial of order  N.\n",
    "- Doing so, it is necessary to define the degree  N  which is optimal to represent the data. \n",
    "- When increasing the polynomial order, it is important to prevent over-fitting and we do this by splitting the dataset in test and training sets.\n",
    "\n",
    "A problem that may arise with this procedure is that the model ends by indirectly learning the contents of the test set and is thus biased. To avoid this, the data can be re-separated into 3 sets: train, test and validation. An alternative to this technique, which is often more robust, is the so-called cross-validation method. This method consists of performing a first separation of the data in training and test sets. As always, learning is done on the training set, but to avoid over-learning, it is split into several pieces that are used alternately for training and testing.\n",
    "\n",
    "Note that if the data set is small, the separation in test & training sets can introduce a bias in the estimation of the parameters. In practice, the cross-validation method avoids such bias. In fact, in the current model, we will encounter this type of problem and in what follows, I will highlight this. For example, we can consider an extreme case where, after separation, the training set would contain only hours  < 20h and the test set would have hours >  20h. The model would then be unable to reproduce precisely this data, of which it would not have seen equivalent during the training. The cross-validation method avoids this bias because all the data are used successively to drive the model."
   ]
  },
  {
   "cell_type": "code",
   "execution_count": 10,
   "id": "e6c734a9",
   "metadata": {},
   "outputs": [],
   "source": [
    "class fit_polynome:\n",
    "\n",
    "    def __init__(self, data):\n",
    "        self.data = data[['mean', 'heure_depart_min']].dropna(how='any', axis = 0)\n",
    "\n",
    "    def split(self, method):        \n",
    "        self.method = method        \n",
    "        self.X = np.array(self.data['heure_depart_min'])\n",
    "        self.Y = np.array(self.data['mean'])\n",
    "        self.X = self.X.reshape(len(self.X),1)\n",
    "        self.Y = self.Y.reshape(len(self.Y),1)\n",
    "\n",
    "        if method == 'all':\n",
    "            self.X_train = self.X\n",
    "            self.Y_train = self.Y\n",
    "            self.X_test  = self.X\n",
    "            self.Y_test  = self.Y                        \n",
    "        elif method == 'split':            \n",
    "            self.X_train, self.X_test, self.Y_train, self.Y_test = \\\n",
    "                train_test_split(self.X, self.Y, test_size=0.3)\n",
    "    \n",
    "    def train(self, pol_order):\n",
    "        self.poly = PolynomialFeatures(degree = pol_order)\n",
    "        self.regr = linear_model.LinearRegression()\n",
    "        self.X_ = self.poly.fit_transform(self.X_train)\n",
    "        self.regr.fit(self.X_, self.Y_train)\n",
    "    \n",
    "    def predict(self, X):\n",
    "        self.X_ = self.poly.fit_transform(X)\n",
    "        self.result = self.regr.predict(self.X_)\n",
    "    \n",
    "    def calc_score(self):        \n",
    "        X_ = self.poly.fit_transform(self.X_test)\n",
    "        result = self.regr.predict(X_)\n",
    "        self.score = metrics.mean_squared_error(result, self.Y_test)"
   ]
  },
  {
   "cell_type": "markdown",
   "id": "94c4d1ca",
   "metadata": {},
   "source": [
    "The fit_polynome class allows you to perform all operations related to a fit and to save the results. When calling the split() method, the variable 'method' defines how the initial data is separated:\n",
    "\n",
    "- method = 'all' : all input data is used to train and then test the model\n",
    "- method = 'split' : we use the train_test_split() method of sklearn to define test & training sets\n",
    "\n",
    "Then, the other methods of the class have the following functions:\n",
    "\n",
    "- train (n) : drives the data on the training set and makes a polynomial of order n\n",
    "- predict (X) : calculates the Y points associated with the X input and for the previously driven model\n",
    "- calc_score () : calculates the model score in relation to the test set data"
   ]
  },
  {
   "cell_type": "markdown",
   "id": "d8f98cb1",
   "metadata": {},
   "source": [
    "First of all, I consider the American Airlines flights and make a census of the number of flights that left each airport:"
   ]
  },
  {
   "cell_type": "code",
   "execution_count": 11,
   "id": "98a17a7a",
   "metadata": {},
   "outputs": [
    {
     "data": {
      "text/html": [
       "<div>\n",
       "<style scoped>\n",
       "    .dataframe tbody tr th:only-of-type {\n",
       "        vertical-align: middle;\n",
       "    }\n",
       "\n",
       "    .dataframe tbody tr th {\n",
       "        vertical-align: top;\n",
       "    }\n",
       "\n",
       "    .dataframe thead th {\n",
       "        text-align: right;\n",
       "    }\n",
       "</style>\n",
       "<table border=\"1\" class=\"dataframe\">\n",
       "  <thead>\n",
       "    <tr style=\"text-align: right;\">\n",
       "      <th></th>\n",
       "      <th>min</th>\n",
       "      <th>max</th>\n",
       "      <th>count</th>\n",
       "      <th>mean</th>\n",
       "    </tr>\n",
       "    <tr>\n",
       "      <th>ORIGIN_AIRPORT</th>\n",
       "      <th></th>\n",
       "      <th></th>\n",
       "      <th></th>\n",
       "      <th></th>\n",
       "    </tr>\n",
       "  </thead>\n",
       "  <tbody>\n",
       "    <tr>\n",
       "      <th>GUC</th>\n",
       "      <td>-62.0</td>\n",
       "      <td>773.0</td>\n",
       "      <td>94.0</td>\n",
       "      <td>9.702128</td>\n",
       "    </tr>\n",
       "    <tr>\n",
       "      <th>ANC</th>\n",
       "      <td>-6.0</td>\n",
       "      <td>114.0</td>\n",
       "      <td>27.0</td>\n",
       "      <td>25.000000</td>\n",
       "    </tr>\n",
       "    <tr>\n",
       "      <th>XNA</th>\n",
       "      <td>-53.0</td>\n",
       "      <td>2.0</td>\n",
       "      <td>16.0</td>\n",
       "      <td>-14.937500</td>\n",
       "    </tr>\n",
       "    <tr>\n",
       "      <th>MTJ</th>\n",
       "      <td>-12.0</td>\n",
       "      <td>91.0</td>\n",
       "      <td>13.0</td>\n",
       "      <td>18.769231</td>\n",
       "    </tr>\n",
       "    <tr>\n",
       "      <th>LIT</th>\n",
       "      <td>-45.0</td>\n",
       "      <td>114.0</td>\n",
       "      <td>9.0</td>\n",
       "      <td>8.111111</td>\n",
       "    </tr>\n",
       "  </tbody>\n",
       "</table>\n",
       "</div>"
      ],
      "text/plain": [
       "                 min    max  count       mean\n",
       "ORIGIN_AIRPORT                               \n",
       "GUC            -62.0  773.0   94.0   9.702128\n",
       "ANC             -6.0  114.0   27.0  25.000000\n",
       "XNA            -53.0    2.0   16.0 -14.937500\n",
       "MTJ            -12.0   91.0   13.0  18.769231\n",
       "LIT            -45.0  114.0    9.0   8.111111"
      ]
     },
     "execution_count": 11,
     "metadata": {},
     "output_type": "execute_result"
    }
   ],
   "source": [
    "carrier = 'AA'\n",
    "check_airports = train[(train['AIRLINE'] == carrier)]['DEPARTURE_DELAY'].groupby(\n",
    "                         train['ORIGIN_AIRPORT']).apply(get_stats).unstack()\n",
    "check_airports.sort_values('count', ascending = False, inplace = True)\n",
    "check_airports[-5:]"
   ]
  },
  {
   "cell_type": "markdown",
   "id": "f1763c17",
   "metadata": {},
   "source": [
    "Define a function that calculates the mean flights delay per airline and per airport:"
   ]
  },
  {
   "cell_type": "code",
   "execution_count": 12,
   "id": "d92fa611",
   "metadata": {},
   "outputs": [],
   "source": [
    "def get_flight_delays(train, carrier, id_airport, extrem_values = False):\n",
    "    df2 = train[(train['AIRLINE'] == carrier) & (train['ORIGIN_AIRPORT'] == id_airport)]\n",
    "    #_______________________________________\n",
    "    # remove extreme values before fitting\n",
    "    if extrem_values:\n",
    "        df2['DEPARTURE_DELAY'] = df2['DEPARTURE_DELAY'].apply(lambda x:x if x < 60 else np.nan)\n",
    "        df2.dropna(how = 'any')\n",
    "    #__________________________________\n",
    "    # Conversion: date + heure -> heure\n",
    "    df2.sort_values('SCHEDULED_DEPARTURE', inplace = True)\n",
    "    df2['heure_depart'] =  df2['SCHEDULED_DEPARTURE'].apply(lambda x:x.time())\n",
    "    #___________________________________________________________________\n",
    "    # regroupement des vols par heure de départ et calcul de la moyenne\n",
    "    test2 = df2['DEPARTURE_DELAY'].groupby(df2['heure_depart']).apply(get_stats).unstack()\n",
    "    test2.reset_index(inplace=True)\n",
    "    #___________________________________\n",
    "    # conversion de l'heure en secondes\n",
    "    fct = lambda x:x.hour*3600+x.minute*60+x.second\n",
    "    test2.reset_index(inplace=True)\n",
    "    test2['heure_depart_min'] = test2['heure_depart'].apply(fct)\n",
    "    return test2"
   ]
  },
  {
   "cell_type": "markdown",
   "id": "30ef8c5a",
   "metadata": {},
   "source": [
    "One of the advantages of the cross-validation method is that it avoids the bias that has just been put forward when choosing the polynomial degree. In order to use this method, I define a new class that I will use later to perform the fits:"
   ]
  },
  {
   "cell_type": "code",
   "execution_count": 13,
   "id": "279c93fd",
   "metadata": {},
   "outputs": [],
   "source": [
    "class fit_polynome_cv:\n",
    "\n",
    "    def __init__(self, data):\n",
    "        self.data = data[['mean', 'heure_depart_min']].dropna(how='any', axis = 0)\n",
    "        self.X = np.array(self.data['heure_depart_min'])\n",
    "        self.Y = np.array(self.data['mean'])\n",
    "        self.X = self.X.reshape(len(self.X),1)\n",
    "        self.Y = self.Y.reshape(len(self.Y),1)\n",
    "\n",
    "    def train(self, pol_order, nb_folds):\n",
    "        self.poly = PolynomialFeatures(degree = pol_order)\n",
    "        self.regr = linear_model.LinearRegression()\n",
    "        self.X_ = self.poly.fit_transform(self.X)\n",
    "        self.result = cross_val_predict(self.regr, self.X_, self.Y, cv = nb_folds)\n",
    "    \n",
    "    def calc_score(self, pol_order, nb_folds):\n",
    "        self.poly = PolynomialFeatures(degree = pol_order)\n",
    "        self.regr = linear_model.LinearRegression()\n",
    "        self.X_ = self.poly.fit_transform(self.X)\n",
    "        self.score = np.mean(cross_val_score(self.regr, self.X_, self.Y,\n",
    "                                             cv = nb_folds, scoring = 'neg_mean_squared_error'))"
   ]
  },
  {
   "cell_type": "code",
   "execution_count": 14,
   "id": "ccaa6c13",
   "metadata": {},
   "outputs": [
    {
     "ename": "NameError",
     "evalue": "name 'test2' is not defined",
     "output_type": "error",
     "traceback": [
      "\u001b[1;31m---------------------------------------------------------------------------\u001b[0m",
      "\u001b[1;31mNameError\u001b[0m                                 Traceback (most recent call last)",
      "\u001b[1;32m~\\AppData\\Local\\Temp/ipykernel_22940/1143548415.py\u001b[0m in \u001b[0;36m<module>\u001b[1;34m\u001b[0m\n\u001b[0;32m      1\u001b[0m \u001b[1;31m#id_airport = 1129804\u001b[0m\u001b[1;33m\u001b[0m\u001b[1;33m\u001b[0m\u001b[1;33m\u001b[0m\u001b[0m\n\u001b[0;32m      2\u001b[0m \u001b[0mnb_folds\u001b[0m \u001b[1;33m=\u001b[0m \u001b[1;36m10\u001b[0m\u001b[1;33m\u001b[0m\u001b[1;33m\u001b[0m\u001b[0m\n\u001b[1;32m----> 3\u001b[1;33m \u001b[0mprint\u001b[0m\u001b[1;33m(\u001b[0m\u001b[1;34m'Max possible number of folds: {} \\n'\u001b[0m\u001b[1;33m.\u001b[0m\u001b[0mformat\u001b[0m\u001b[1;33m(\u001b[0m\u001b[0mtest2\u001b[0m\u001b[1;33m.\u001b[0m\u001b[0mshape\u001b[0m\u001b[1;33m[\u001b[0m\u001b[1;36m0\u001b[0m\u001b[1;33m]\u001b[0m\u001b[1;33m-\u001b[0m\u001b[1;36m1\u001b[0m\u001b[1;33m)\u001b[0m\u001b[1;33m)\u001b[0m\u001b[1;33m\u001b[0m\u001b[1;33m\u001b[0m\u001b[0m\n\u001b[0m\u001b[0;32m      4\u001b[0m \u001b[0mfit2\u001b[0m \u001b[1;33m=\u001b[0m \u001b[0mfit_polynome_cv\u001b[0m\u001b[1;33m(\u001b[0m\u001b[0mtest2\u001b[0m\u001b[1;33m)\u001b[0m\u001b[1;33m\u001b[0m\u001b[1;33m\u001b[0m\u001b[0m\n\u001b[0;32m      5\u001b[0m \u001b[1;32mfor\u001b[0m \u001b[0mi\u001b[0m \u001b[1;32min\u001b[0m \u001b[0mrange\u001b[0m\u001b[1;33m(\u001b[0m\u001b[1;36m1\u001b[0m\u001b[1;33m,\u001b[0m \u001b[1;36m8\u001b[0m\u001b[1;33m)\u001b[0m\u001b[1;33m:\u001b[0m\u001b[1;33m\u001b[0m\u001b[1;33m\u001b[0m\u001b[0m\n",
      "\u001b[1;31mNameError\u001b[0m: name 'test2' is not defined"
     ]
    }
   ],
   "source": [
    "#id_airport = 1129804 \n",
    "nb_folds = 10\n",
    "print('Max possible number of folds: {} \\n'.format(test2.shape[0]-1))\n",
    "fit2 = fit_polynome_cv(test2)\n",
    "for i in range(1, 8):\n",
    "    fit2.calc_score(i, nb_folds)\n",
    "    print('n={} -> MSE = {}'.format(i, round(abs(fit2.score),3)))"
   ]
  },
  {
   "cell_type": "markdown",
   "id": "d56f78b5",
   "metadata": {},
   "source": [
    "We can see that using this method gives us that the best model (ie the best generalized model) is obtained with a polynomial of order 3. At this stage of the procedure, the choice of the polynomial order a has been validated and we can now use all the data in order to perform the fit:"
   ]
  },
  {
   "cell_type": "code",
   "execution_count": 19,
   "id": "265b7c08",
   "metadata": {},
   "outputs": [],
   "source": [
    "fit = fit_polynome(test2)\n",
    "fit.split('all')\n",
    "fit.train(pol_order = 3)\n",
    "fit.predict(fit.X)"
   ]
  },
  {
   "cell_type": "code",
   "execution_count": 20,
   "id": "dfbf50d6",
   "metadata": {},
   "outputs": [],
   "source": [
    "fit2.train(pol_order = 3, nb_folds = nb_folds)"
   ]
  },
  {
   "cell_type": "markdown",
   "id": "d42be1e4",
   "metadata": {},
   "source": [
    "Thus, in the following figure, the juxtaposition of the K = 50 polynomial fits corresponding to the cross validation calculation leads to the red curve. The polynomial fit corresponding to the final model corresponds to the blue curve."
   ]
  },
  {
   "cell_type": "code",
   "execution_count": 23,
   "id": "10858d35",
   "metadata": {},
   "outputs": [
    {
     "data": {
      "image/png": "[encoded data removed]",
      "text/plain": [
       "<Figure size 576x288 with 1 Axes>"
      ]
     },
     "metadata": {},
     "output_type": "display_data"
    }
   ],
   "source": [
    "fig1 = Figure_style(8, 4, 1, 1) ; fig1.pos_update(0, 0)\n",
    "fig1.cust_scatter(fit2.X, fit2.Y, markeredge = True, label = 'initial data points')\n",
    "fig1.cust_plot(fit.X,fit2.result,color=u'#1f77b4',linestyle='--',linewidth=2,label='CV output')\n",
    "fig1.cust_plot(fit.X,fit.result,color=u'#ff7f0e',linewidth = 3,label='final fit')\n",
    "fig1.style(); fig1.draw_legend('upper left')\n",
    "fig1.set_ylabel('Delay (minutes)') ; fig1.set_xlabel('Departure time')\n",
    "#____________________________________\n",
    "# convert and set the x ticks labels\n",
    "fct_convert = lambda x: (int(x/3600) , int(divmod(x,3600)[1]/60))\n",
    "fig1.axs[fig1.ix, fig1.iy].set_xticklabels(['{:2.0f}h{:2.0f}m'.format(*fct_convert(x))\n",
    "                                            for x in fig1.axs[fig1.ix, fig1.iy].get_xticks()]);"
   ]
  },
  {
   "cell_type": "code",
   "execution_count": 24,
   "id": "d6b9be88",
   "metadata": {},
   "outputs": [
    {
     "data": {
      "text/plain": [
       "106.02582415979914"
      ]
     },
     "execution_count": 24,
     "metadata": {},
     "output_type": "execute_result"
    }
   ],
   "source": [
    "score = metrics.mean_squared_error(fit.result, fit2.Y)\n",
    "score"
   ]
  },
  {
   "cell_type": "markdown",
   "id": "0651fbd6",
   "metadata": {},
   "source": [
    "At this stage, the model was driven is tested on the training set. We now look at the comparison of predictions and observations for the test set."
   ]
  },
  {
   "cell_type": "code",
   "execution_count": 25,
   "id": "18c261ca",
   "metadata": {},
   "outputs": [],
   "source": [
    "test_data = get_flight_delays(test, carrier, id_airport, True)\n",
    "test_data = test_data[['mean', 'heure_depart_min']].dropna(how='any', axis = 0)\n",
    "X_test = np.array(test_data['heure_depart_min'])\n",
    "Y_test = np.array(test_data['mean'])\n",
    "X_test = X_test.reshape(len(X_test),1)\n",
    "Y_test = Y_test.reshape(len(Y_test),1)\n",
    "fit.predict(X_test)"
   ]
  },
  {
   "cell_type": "code",
   "execution_count": 26,
   "id": "69ddd4b2",
   "metadata": {},
   "outputs": [
    {
     "data": {
      "text/plain": [
       "102.38779638300275"
      ]
     },
     "execution_count": 26,
     "metadata": {},
     "output_type": "execute_result"
    }
   ],
   "source": [
    "score = metrics.mean_squared_error(fit.result, Y_test)\n",
    "score"
   ]
  },
  {
   "cell_type": "markdown",
   "id": "01efb8b8",
   "metadata": {},
   "source": [
    "The difference in minutes between the predicted delay and the actual delay."
   ]
  },
  {
   "cell_type": "code",
   "execution_count": 28,
   "id": "b3d67381",
   "metadata": {},
   "outputs": [
    {
     "data": {
      "text/plain": [
       "'Ecart = 10.12 min'"
      ]
     },
     "execution_count": 28,
     "metadata": {},
     "output_type": "execute_result"
    }
   ],
   "source": [
    "'Ecart = {:.2f} min'.format(np.sqrt(score))"
   ]
  }
 ],
 "metadata": {
  "kernelspec": {
   "display_name": "Python 3 (ipykernel)",
   "language": "python",
   "name": "python3"
  },
  "language_info": {
   "codemirror_mode": {
    "name": "ipython",
    "version": 3
   },
   "file_extension": ".py",
   "mimetype": "text/x-python",
   "name": "python",
   "nbconvert_exporter": "python",
   "pygments_lexer": "ipython3",
   "version": "3.8.8"
  }
 },
 "nbformat": 4,
 "nbformat_minor": 5
}
