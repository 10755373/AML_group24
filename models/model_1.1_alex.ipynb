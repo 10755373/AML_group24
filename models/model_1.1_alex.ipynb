{
 "cells": [
  {
   "cell_type": "markdown",
   "id": "b613a3f7",
   "metadata": {},
   "source": [
    "# Model 1: one airline, one airport\n",
    "\n",
    "Pitfalls 1 airline, 1 airport:\n",
    "- unsufficient data: the least visited airports only have a few flights per month (unfit for linear regression)\n",
    "- extreme delays: large delays create bias and significantly change the model (with small sets)"
   ]
  },
  {
   "cell_type": "code",
   "execution_count": 3,
   "id": "7965916f",
   "metadata": {},
   "outputs": [],
   "source": [
    "# package initialization\n",
    "import datetime, warnings, scipy \n",
    "import pandas as pd\n",
    "import numpy as np\n",
    "import seaborn as sns\n",
    "import matplotlib as mpl\n",
    "import matplotlib.pyplot as plt\n",
    "import matplotlib.patches as patches\n",
    "from matplotlib.patches import ConnectionPatch\n",
    "from collections import OrderedDict\n",
    "from matplotlib.gridspec import GridSpec\n",
    "from mpl_toolkits.basemap import Basemap\n",
    "from sklearn import metrics, linear_model\n",
    "from sklearn.preprocessing import PolynomialFeatures, StandardScaler\n",
    "from sklearn.preprocessing import LabelEncoder, OneHotEncoder\n",
    "from sklearn.model_selection import train_test_split, cross_val_score, cross_val_predict\n",
    "from scipy.optimize import curve_fit\n",
    "plt.rcParams[\"patch.force_edgecolor\"] = True\n",
    "plt.style.use('fivethirtyeight')\n",
    "mpl.rc('patch', edgecolor = 'dimgray', linewidth=1)\n",
    "from IPython.core.interactiveshell import InteractiveShell\n",
    "InteractiveShell.ast_node_interactivity = \"last_expr\"\n",
    "pd.options.display.max_columns = 50\n",
    "%matplotlib inline\n",
    "warnings.filterwarnings(\"ignore\")\n",
    "from sklearn.linear_model import Ridge"
   ]
  },
  {
   "cell_type": "code",
   "execution_count": 4,
   "id": "06873eff",
   "metadata": {},
   "outputs": [],
   "source": [
    "# folder initialization\n",
    "from functions import *\n",
    "from data_loading import load_data"
   ]
  },
  {
   "cell_type": "code",
   "execution_count": 5,
   "id": "2ed3c33f",
   "metadata": {},
   "outputs": [],
   "source": [
    "# load data\n",
    "airlines = pd.read_csv('data/airlines.csv')\n",
    "airports = pd.read_csv('data/airports.csv')\n",
    "train = pd.read_csv('data/flights_train.csv')\n",
    "test = pd.read_csv('data/flights_test.csv')\n",
    "submit = pd.read_csv('data/submit_sample.csv')"
   ]
  },
  {
   "cell_type": "code",
   "execution_count": 6,
   "id": "cc700844",
   "metadata": {},
   "outputs": [],
   "source": [
    "# add DATE column\n",
    "train['DATE'] = pd.to_datetime(train[['YEAR','MONTH', 'DAY']])\n",
    "test['DATE'] = pd.to_datetime(test[['YEAR','MONTH', 'DAY']])"
   ]
  },
  {
   "cell_type": "code",
   "execution_count": 7,
   "id": "c2a5a23e",
   "metadata": {},
   "outputs": [],
   "source": [
    "# a class to produce graphs\n",
    "class Figure_style():\n",
    "    #_________________________________________________________________\n",
    "    def __init__(self, size_x = 11, size_y = 5, nrows = 1, ncols = 1):\n",
    "        sns.set_style(\"white\")\n",
    "        sns.set_context(\"notebook\", font_scale=1.2, rc={\"lines.linewidth\": 2.5})\n",
    "        self.fig, axs = plt.subplots(nrows = nrows, ncols = ncols, figsize=(size_x,size_y,))\n",
    "        #________________________________\n",
    "        # convert self.axs to 2D array\n",
    "        if nrows == 1 and ncols == 1:\n",
    "            self.axs = np.reshape(axs, (1, -1))\n",
    "        elif nrows == 1:\n",
    "            self.axs = np.reshape(axs, (1, -1))\n",
    "        elif ncols == 1:\n",
    "            self.axs = np.reshape(axs, (-1, 1))\n",
    "    #_____________________________\n",
    "    def pos_update(self, ix, iy):\n",
    "        self.ix, self.iy = ix, iy\n",
    "    #_______________\n",
    "    def style(self):\n",
    "        self.axs[self.ix, self.iy].spines['right'].set_visible(False)\n",
    "        self.axs[self.ix, self.iy].spines['top'].set_visible(False)\n",
    "        self.axs[self.ix, self.iy].yaxis.grid(color='lightgray', linestyle=':')\n",
    "        self.axs[self.ix, self.iy].xaxis.grid(color='lightgray', linestyle=':')\n",
    "        self.axs[self.ix, self.iy].tick_params(axis='both', which='major',\n",
    "                                               labelsize=10, size = 5)\n",
    "    #________________________________________\n",
    "    def draw_legend(self, location='upper right'):\n",
    "        legend = self.axs[self.ix, self.iy].legend(loc = location, shadow=True,\n",
    "                                        facecolor = 'g', frameon = True)\n",
    "        legend.get_frame().set_facecolor('whitesmoke')\n",
    "    #_________________________________________________________________________________\n",
    "    def cust_plot(self, x, y, color='b', linestyle='-', linewidth=1, marker=None, label=''):\n",
    "        if marker:\n",
    "            markerfacecolor, marker, markersize = marker[:]\n",
    "            self.axs[self.ix, self.iy].plot(x, y, color = color, linestyle = linestyle,\n",
    "                                linewidth = linewidth, marker = marker, label = label,\n",
    "                                markerfacecolor = markerfacecolor, markersize = markersize)\n",
    "        else:\n",
    "            self.axs[self.ix, self.iy].plot(x, y, color = color, linestyle = linestyle,\n",
    "                                        linewidth = linewidth, label=label)\n",
    "        self.fig.autofmt_xdate()\n",
    "    #________________________________________________________________________\n",
    "    def cust_plot_date(self, x, y, color='lightblue', linestyle='-',\n",
    "                       linewidth=1, markeredge=False, label=''):\n",
    "        markeredgewidth = 1 if markeredge else 0\n",
    "        self.axs[self.ix, self.iy].plot_date(x, y, color='lightblue', markeredgecolor='grey',\n",
    "                                  markeredgewidth = markeredgewidth, label=label)\n",
    "    #________________________________________________________________________\n",
    "    def cust_scatter(self, x, y, color = 'lightblue', markeredge = False, label=''):\n",
    "        markeredgewidth = 1 if markeredge else 0\n",
    "        self.axs[self.ix, self.iy].scatter(x, y, color=color,  edgecolor='grey',\n",
    "                                  linewidths = markeredgewidth, label=label)    \n",
    "    #___________________________________________\n",
    "    def set_xlabel(self, label, fontsize = 14):\n",
    "        self.axs[self.ix, self.iy].set_xlabel(label, fontsize = fontsize)\n",
    "    #___________________________________________\n",
    "    def set_ylabel(self, label, fontsize = 14):\n",
    "        self.axs[self.ix, self.iy].set_ylabel(label, fontsize = fontsize)\n",
    "    #____________________________________\n",
    "    def set_xlim(self, lim_inf, lim_sup):\n",
    "        self.axs[self.ix, self.iy].set_xlim([lim_inf, lim_sup])\n",
    "    #____________________________________\n",
    "    def set_ylim(self, lim_inf, lim_sup):\n",
    "        self.axs[self.ix, self.iy].set_ylim([lim_inf, lim_sup])    "
   ]
  },
  {
   "cell_type": "code",
   "execution_count": 8,
   "id": "85bb6362",
   "metadata": {},
   "outputs": [],
   "source": [
    "#__________________________________________________________________\n",
    "# function that extract statistical parameters from a grouby objet:\n",
    "def get_stats(group):\n",
    "    return {'min': group.min(), 'max': group.max(),\n",
    "            'count': group.count(), 'mean': group.mean()}"
   ]
  },
  {
   "cell_type": "markdown",
   "id": "fa337654",
   "metadata": {},
   "source": [
    "**Datetime functions**"
   ]
  },
  {
   "cell_type": "code",
   "execution_count": 9,
   "id": "cc18b8c1",
   "metadata": {},
   "outputs": [],
   "source": [
    "# Function that convert the 'HHMM' string to datetime.time\n",
    "def format_heure(chaine):\n",
    "    if pd.isnull(chaine):\n",
    "        return np.nan\n",
    "    else:\n",
    "        if chaine == 2400: chaine = 0\n",
    "        chaine = \"{0:04d}\".format(int(chaine))\n",
    "        heure = datetime.time(int(chaine[0:2]), int(chaine[2:4]))\n",
    "        return heure\n",
    "#_____________________________________________________________________\n",
    "# Function that combines a date and time to produce a datetime.datetime\n",
    "def combine_date_heure(x):\n",
    "    if pd.isnull(x[0]) or pd.isnull(x[1]):\n",
    "        return np.nan\n",
    "    else:\n",
    "        return datetime.datetime.combine(x[0],x[1])\n",
    "#_______________________________________________________________________________\n",
    "# Function that combine two columns of the dataframe to create a datetime format\n",
    "def create_flight_time(df, col):    \n",
    "    liste = []\n",
    "    for index, cols in df[['DATE', col]].iterrows():    \n",
    "        if pd.isnull(cols[1]):\n",
    "            liste.append(np.nan)\n",
    "        elif float(cols[1]) == 2400:\n",
    "            cols[0] += datetime.timedelta(days=1)\n",
    "            cols[1] = datetime.time(0,0)\n",
    "            liste.append(combine_date_heure(cols))\n",
    "        else:\n",
    "            cols[1] = format_heure(cols[1])\n",
    "            liste.append(combine_date_heure(cols))\n",
    "    return pd.Series(liste)"
   ]
  },
  {
   "cell_type": "code",
   "execution_count": 10,
   "id": "a4b41b36",
   "metadata": {},
   "outputs": [],
   "source": [
    "def aggregate_date_time(values):\n",
    "    if(len(values) == 5):\n",
    "        year, month, day, time, departure = values\n",
    "        year = int(year)\n",
    "        month = int(month)\n",
    "        day = int(day)\n",
    "        time = int(time)\n",
    "\n",
    "        hour, minutes = int(time/100), time % 100\n",
    "        if(hour == 24):\n",
    "            hour = 0\n",
    "        dateTime = datetime.datetime(year, month, day, hour, minutes)\n",
    "        if(dateTime < departure and (departure-dateTime).total_seconds()/60 > 50):\n",
    "            return dateTime + datetime.timedelta(days=1)\n",
    "        return dateTime\n",
    "\n",
    "    year, month, day, time = [int(x) for x in values]\n",
    "    hour, minutes = int(time/100), time % 100\n",
    "    if(hour == 24):\n",
    "        hour = 0\n",
    "    return datetime.datetime(year, month, day, hour, minutes)"
   ]
  },
  {
   "cell_type": "code",
   "execution_count": 11,
   "id": "280cc030",
   "metadata": {},
   "outputs": [],
   "source": [
    "def aggregate_time_in_minutes(dateTime):\n",
    "    return dateTime.hour*60 + dateTime.minute"
   ]
  },
  {
   "cell_type": "code",
   "execution_count": 12,
   "id": "4ae2ae99",
   "metadata": {},
   "outputs": [],
   "source": [
    "def preprocessing(x):\n",
    "    x['scheduled_departure_date_time'] = x[['YEAR', 'MONTH', 'DAY',\n",
    "                                            'SCHEDULED_DEPARTURE']].apply(lambda x: aggregate_date_time(x), axis=1)\n",
    "    x['scheduled_departure_date'] = x['scheduled_departure_date_time'].apply(\n",
    "        lambda x: x.date())\n",
    "    x['scheduled_departure_timestamp'] = x['scheduled_departure_date_time'].apply(\n",
    "        lambda x: x.timestamp())\n",
    "    # x['scheduled_arrival_date_time'] = x[['YEAR', 'MONTH', 'DAY', 'SCHEDULED_ARRIVAL']].apply(lambda x: aggregate_date_time(x), axis=1)\n",
    "    x['departure_date_time'] = x[['YEAR', 'MONTH', 'DAY', 'DEPARTURE_TIME',\n",
    "                                  'scheduled_departure_date_time']].apply(lambda x: aggregate_date_time(x), axis=1)\n",
    "    x['departure_timestamp'] = x['departure_date_time'].apply(\n",
    "        lambda x: x.timestamp())\n",
    "    # x['scheduled_departure_minutes'] = x['scheduled_departure_date_time'].apply(lambda x: aggregate_time_in_minutes(x))\n",
    "    x['DEPARTURE_DELAY'] = (x['departure_date_time'] -\n",
    "                          x['scheduled_departure_date_time']).apply(lambda x: x.total_seconds() / 60)\n",
    "    return x"
   ]
  },
  {
   "cell_type": "markdown",
   "id": "ce6b9553",
   "metadata": {},
   "source": [
    "**Preprocessing**"
   ]
  },
  {
   "cell_type": "code",
   "execution_count": 13,
   "id": "d072af09",
   "metadata": {},
   "outputs": [],
   "source": [
    "train = preprocessing(train)\n",
    "test = preprocessing(test)"
   ]
  },
  {
   "cell_type": "code",
   "execution_count": 14,
   "id": "17c11707",
   "metadata": {},
   "outputs": [],
   "source": [
    "# modify train dataframe variables\n",
    "train['SCHEDULED_DEPARTURE'] = create_flight_time(train, 'SCHEDULED_DEPARTURE')\n",
    "train['DEPARTURE_TIME'] = train['DEPARTURE_TIME'].apply(format_heure)\n",
    "train['SCHEDULED_ARRIVAL'] = train['SCHEDULED_ARRIVAL'].apply(format_heure)\n",
    "# modify test dataframe variables\n",
    "test['SCHEDULED_DEPARTURE'] = create_flight_time(test, 'SCHEDULED_DEPARTURE')\n",
    "test['DEPARTURE_TIME'] = test['DEPARTURE_TIME'].apply(format_heure)\n",
    "test['SCHEDULED_ARRIVAL'] = test['SCHEDULED_ARRIVAL'].apply(format_heure)"
   ]
  },
  {
   "cell_type": "markdown",
   "id": "b3b0e7dc",
   "metadata": {},
   "source": [
    "**American Airlines Statistics**\n",
    "Least visited airports only have a few flights per month, not good enough for regression"
   ]
  },
  {
   "cell_type": "code",
   "execution_count": 15,
   "id": "e8550057",
   "metadata": {},
   "outputs": [
    {
     "data": {
      "text/html": [
       "<div>\n",
       "<style scoped>\n",
       "    .dataframe tbody tr th:only-of-type {\n",
       "        vertical-align: middle;\n",
       "    }\n",
       "\n",
       "    .dataframe tbody tr th {\n",
       "        vertical-align: top;\n",
       "    }\n",
       "\n",
       "    .dataframe thead th {\n",
       "        text-align: right;\n",
       "    }\n",
       "</style>\n",
       "<table border=\"1\" class=\"dataframe\">\n",
       "  <thead>\n",
       "    <tr style=\"text-align: right;\">\n",
       "      <th></th>\n",
       "      <th>min</th>\n",
       "      <th>max</th>\n",
       "      <th>count</th>\n",
       "      <th>mean</th>\n",
       "    </tr>\n",
       "    <tr>\n",
       "      <th>ORIGIN_AIRPORT</th>\n",
       "      <th></th>\n",
       "      <th></th>\n",
       "      <th></th>\n",
       "      <th></th>\n",
       "    </tr>\n",
       "  </thead>\n",
       "  <tbody>\n",
       "    <tr>\n",
       "      <th>GUC</th>\n",
       "      <td>-24.0</td>\n",
       "      <td>453.0</td>\n",
       "      <td>94.0</td>\n",
       "      <td>5.021277</td>\n",
       "    </tr>\n",
       "    <tr>\n",
       "      <th>ANC</th>\n",
       "      <td>-6.0</td>\n",
       "      <td>74.0</td>\n",
       "      <td>27.0</td>\n",
       "      <td>13.148148</td>\n",
       "    </tr>\n",
       "    <tr>\n",
       "      <th>XNA</th>\n",
       "      <td>-13.0</td>\n",
       "      <td>2.0</td>\n",
       "      <td>16.0</td>\n",
       "      <td>-7.437500</td>\n",
       "    </tr>\n",
       "    <tr>\n",
       "      <th>MTJ</th>\n",
       "      <td>-12.0</td>\n",
       "      <td>51.0</td>\n",
       "      <td>13.0</td>\n",
       "      <td>9.538462</td>\n",
       "    </tr>\n",
       "    <tr>\n",
       "      <th>LIT</th>\n",
       "      <td>-5.0</td>\n",
       "      <td>74.0</td>\n",
       "      <td>9.0</td>\n",
       "      <td>12.555556</td>\n",
       "    </tr>\n",
       "  </tbody>\n",
       "</table>\n",
       "</div>"
      ],
      "text/plain": [
       "                 min    max  count       mean\n",
       "ORIGIN_AIRPORT                               \n",
       "GUC            -24.0  453.0   94.0   5.021277\n",
       "ANC             -6.0   74.0   27.0  13.148148\n",
       "XNA            -13.0    2.0   16.0  -7.437500\n",
       "MTJ            -12.0   51.0   13.0   9.538462\n",
       "LIT             -5.0   74.0    9.0  12.555556"
      ]
     },
     "execution_count": 15,
     "metadata": {},
     "output_type": "execute_result"
    }
   ],
   "source": [
    "carrier = 'AA'\n",
    "check_airports = train[(train['AIRLINE'] == carrier)]['DEPARTURE_DELAY'].groupby(\n",
    "                         train['ORIGIN_AIRPORT']).apply(get_stats).unstack()\n",
    "check_airports.sort_values('count', ascending = False, inplace = True)\n",
    "check_airports[-5:]"
   ]
  },
  {
   "cell_type": "markdown",
   "id": "30c889a7",
   "metadata": {},
   "source": [
    "Function that calculates the mean flights delay per airline and per airport:"
   ]
  },
  {
   "cell_type": "code",
   "execution_count": 16,
   "id": "9d335450",
   "metadata": {},
   "outputs": [],
   "source": [
    "def get_flight_delays(train, carrier, id_airport, extrem_values = False):\n",
    "    df2 = train[(train['AIRLINE'] == carrier) & (train['ORIGIN_AIRPORT'] == id_airport)]\n",
    "    #_______________________________________\n",
    "    # remove extreme values before fitting\n",
    "    if extrem_values:\n",
    "        df2['DEPARTURE_DELAY'] = df2['DEPARTURE_DELAY'].apply(lambda x:x if x < 60 else np.nan)\n",
    "        df2.dropna(how = 'any')\n",
    "    #__________________________________\n",
    "    # Conversion: date + heure -> heure\n",
    "    df2.sort_values('SCHEDULED_DEPARTURE', inplace = True)\n",
    "    df2['heure_depart'] =  df2['SCHEDULED_DEPARTURE'].apply(lambda x:x.time())\n",
    "    #___________________________________________________________________\n",
    "    # regroupement des vols par heure de départ et calcul de la moyenne\n",
    "    test2 = df2['DEPARTURE_DELAY'].groupby(df2['heure_depart']).apply(get_stats).unstack()\n",
    "    test2.reset_index(inplace=True)\n",
    "    #___________________________________\n",
    "    # conversion de l'heure en secondes\n",
    "    fct = lambda x:x.hour*3600+x.minute*60+x.second\n",
    "    test2.reset_index(inplace=True)\n",
    "    test2['heure_depart_min'] = test2['heure_depart'].apply(fct)\n",
    "    return test2"
   ]
  },
  {
   "cell_type": "markdown",
   "id": "0546383e",
   "metadata": {},
   "source": [
    "**Polynomial Regression with cross-validation**"
   ]
  },
  {
   "cell_type": "code",
   "execution_count": 17,
   "id": "9a57368c",
   "metadata": {},
   "outputs": [],
   "source": [
    "class fit_polynome:\n",
    "\n",
    "    def __init__(self, data):\n",
    "        self.data = data[['mean', 'heure_depart_min']].dropna(how='any', axis = 0)\n",
    "\n",
    "    def split(self, method):        \n",
    "        self.method = method        \n",
    "        self.X = np.array(self.data['heure_depart_min'])\n",
    "        self.Y = np.array(self.data['mean'])\n",
    "        self.X = self.X.reshape(len(self.X),1)\n",
    "        self.Y = self.Y.reshape(len(self.Y),1)\n",
    "\n",
    "        if method == 'all':\n",
    "            self.X_train = self.X\n",
    "            self.Y_train = self.Y\n",
    "            self.X_test  = self.X\n",
    "            self.Y_test  = self.Y                        \n",
    "        elif method == 'split':            \n",
    "            self.X_train, self.X_test, self.Y_train, self.Y_test = \\\n",
    "                train_test_split(self.X, self.Y, test_size=0.3)\n",
    "    \n",
    "    def train(self, pol_order):\n",
    "        self.poly = PolynomialFeatures(degree = pol_order)\n",
    "        self.regr = linear_model.LinearRegression()\n",
    "        self.X_ = self.poly.fit_transform(self.X_train)\n",
    "        self.regr.fit(self.X_, self.Y_train)\n",
    "    \n",
    "    def predict(self, X):\n",
    "        self.X_ = self.poly.fit_transform(X)\n",
    "        self.result = self.regr.predict(self.X_)\n",
    "    \n",
    "    def calc_score(self):        \n",
    "        X_ = self.poly.fit_transform(self.X_test)\n",
    "        result = self.regr.predict(X_)\n",
    "        self.score = metrics.mean_squared_error(result, self.Y_test)"
   ]
  },
  {
   "cell_type": "code",
   "execution_count": 18,
   "id": "68d5325b",
   "metadata": {},
   "outputs": [],
   "source": [
    "class fit_polynome_cv:\n",
    "\n",
    "    def __init__(self, data):\n",
    "        self.data = data[['mean', 'heure_depart_min']].dropna(how='any', axis = 0)\n",
    "        self.X = np.array(self.data['heure_depart_min'])\n",
    "        self.Y = np.array(self.data['mean'])\n",
    "        self.X = self.X.reshape(len(self.X),1)\n",
    "        self.Y = self.Y.reshape(len(self.Y),1)\n",
    "\n",
    "    def train(self, pol_order, nb_folds):\n",
    "        self.poly = PolynomialFeatures(degree = pol_order)\n",
    "        self.regr = linear_model.LinearRegression()\n",
    "        self.X_ = self.poly.fit_transform(self.X)\n",
    "        self.result = cross_val_predict(self.regr, self.X_, self.Y, cv = nb_folds)\n",
    "    \n",
    "    def calc_score(self, pol_order, nb_folds):\n",
    "        self.poly = PolynomialFeatures(degree = pol_order)\n",
    "        self.regr = linear_model.LinearRegression()\n",
    "        self.X_ = self.poly.fit_transform(self.X)\n",
    "        self.score = np.mean(cross_val_score(self.regr, self.X_, self.Y,\n",
    "                                             cv = nb_folds, scoring = 'neg_mean_squared_error'))"
   ]
  },
  {
   "cell_type": "markdown",
   "id": "eb12380c",
   "metadata": {},
   "source": [
    "**Determening the best polynomial order**"
   ]
  },
  {
   "cell_type": "code",
   "execution_count": 19,
   "id": "0fe35c65",
   "metadata": {},
   "outputs": [],
   "source": [
    "id_airport = 'BNA'\n",
    "test2 = get_flight_delays(train, carrier, id_airport, True)"
   ]
  },
  {
   "cell_type": "code",
   "execution_count": 20,
   "id": "8bfb3888",
   "metadata": {},
   "outputs": [
    {
     "name": "stdout",
     "output_type": "stream",
     "text": [
      "Max possible number of folds: 42 \n",
      "\n",
      "n=1 -> MSE = 49.189\n",
      "n=2 -> MSE = 55.748\n",
      "n=3 -> MSE = 50.144\n",
      "n=4 -> MSE = 49.745\n",
      "n=5 -> MSE = 49.477\n",
      "n=6 -> MSE = 49.051\n",
      "n=7 -> MSE = 47.996\n"
     ]
    }
   ],
   "source": [
    "#id_airport = 1129804 \n",
    "nb_folds = 10\n",
    "print('Max possible number of folds: {} \\n'.format(test2.shape[0]-1))\n",
    "fit2 = fit_polynome_cv(test2)\n",
    "for i in range(1, 8):\n",
    "    fit2.calc_score(i, nb_folds)\n",
    "    print('n={} -> MSE = {}'.format(i, round(abs(fit2.score),3)))"
   ]
  },
  {
   "cell_type": "code",
   "execution_count": 21,
   "id": "eee194d2",
   "metadata": {},
   "outputs": [],
   "source": [
    "fit = fit_polynome(test2)\n",
    "fit.split('all')\n",
    "fit.train(pol_order = 3)\n",
    "fit.predict(fit.X)"
   ]
  },
  {
   "cell_type": "code",
   "execution_count": 22,
   "id": "c75f6ac8",
   "metadata": {},
   "outputs": [],
   "source": [
    "fit2.train(pol_order = 3, nb_folds = nb_folds)"
   ]
  },
  {
   "cell_type": "code",
   "execution_count": 23,
   "id": "c81c4b17",
   "metadata": {},
   "outputs": [
    {
     "data": {
      "image/png": "[encoded data removed]",
      "text/plain": [
       "<Figure size 576x288 with 1 Axes>"
      ]
     },
     "metadata": {},
     "output_type": "display_data"
    }
   ],
   "source": [
    "fig1 = Figure_style(8, 4, 1, 1) ; fig1.pos_update(0, 0)\n",
    "fig1.cust_scatter(fit2.X, fit2.Y, markeredge = True, label = 'initial data points')\n",
    "fig1.cust_plot(fit.X,fit2.result,color=u'#1f77b4',linestyle='--',linewidth=2,label='CV output')\n",
    "fig1.cust_plot(fit.X,fit.result,color=u'#ff7f0e',linewidth = 3,label='final fit')\n",
    "fig1.style(); fig1.draw_legend('upper left')\n",
    "fig1.set_ylabel('Delay (minutes)') ; fig1.set_xlabel('Departure time')\n",
    "#____________________________________\n",
    "# convert and set the x ticks labels\n",
    "fct_convert = lambda x: (int(x/3600) , int(divmod(x,3600)[1]/60))\n",
    "fig1.axs[fig1.ix, fig1.iy].set_xticklabels(['{:2.0f}h{:2.0f}m'.format(*fct_convert(x))\n",
    "                                            for x in fig1.axs[fig1.ix, fig1.iy].get_xticks()]);"
   ]
  },
  {
   "cell_type": "code",
   "execution_count": 24,
   "id": "a2fdb0e6",
   "metadata": {},
   "outputs": [
    {
     "data": {
      "text/plain": [
       "37.64658288578202"
      ]
     },
     "execution_count": 24,
     "metadata": {},
     "output_type": "execute_result"
    }
   ],
   "source": [
    "score = metrics.mean_squared_error(fit.result, fit2.Y)\n",
    "score"
   ]
  },
  {
   "cell_type": "markdown",
   "id": "1ae6a530",
   "metadata": {},
   "source": [
    "**Testing**"
   ]
  },
  {
   "cell_type": "code",
   "execution_count": 25,
   "id": "2d84a82f",
   "metadata": {},
   "outputs": [],
   "source": [
    "test_data = get_flight_delays(test, carrier, id_airport, True)\n",
    "test_data = test_data[['mean', 'heure_depart_min']].dropna(how='any', axis = 0)\n",
    "X_test = np.array(test_data['heure_depart_min'])\n",
    "Y_test = np.array(test_data['mean'])\n",
    "X_test = X_test.reshape(len(X_test),1)\n",
    "Y_test = Y_test.reshape(len(Y_test),1)\n",
    "fit.predict(X_test)"
   ]
  },
  {
   "cell_type": "code",
   "execution_count": 26,
   "id": "435df2f3",
   "metadata": {},
   "outputs": [
    {
     "data": {
      "text/plain": [
       "29.508677934360502"
      ]
     },
     "execution_count": 26,
     "metadata": {},
     "output_type": "execute_result"
    }
   ],
   "source": [
    "score = metrics.mean_squared_error(fit.result, Y_test)\n",
    "score"
   ]
  },
  {
   "cell_type": "markdown",
   "id": "a660d6ec",
   "metadata": {},
   "source": [
    "**The difference in minutes between the predicted delay and the actual delay.**"
   ]
  },
  {
   "cell_type": "code",
   "execution_count": 27,
   "id": "40615edb",
   "metadata": {},
   "outputs": [
    {
     "data": {
      "text/plain": [
       "'Difference = 5.43 min'"
      ]
     },
     "execution_count": 27,
     "metadata": {},
     "output_type": "execute_result"
    }
   ],
   "source": [
    "'Difference = {:.2f} min'.format(np.sqrt(score))"
   ]
  },
  {
   "cell_type": "code",
   "execution_count": 31,
   "id": "6ae824d3",
   "metadata": {},
   "outputs": [],
   "source": [
    "model = fit_polynome_cv.train(fit2, pol_order = 3, nb_folds = nb_folds)"
   ]
  }
 ],
 "metadata": {
  "kernelspec": {
   "display_name": "Python 3 (ipykernel)",
   "language": "python",
   "name": "python3"
  },
  "language_info": {
   "codemirror_mode": {
    "name": "ipython",
    "version": 3
   },
   "file_extension": ".py",
   "mimetype": "text/x-python",
   "name": "python",
   "nbconvert_exporter": "python",
   "pygments_lexer": "ipython3",
   "version": "3.8.8"
  }
 },
 "nbformat": 4,
 "nbformat_minor": 5
}
