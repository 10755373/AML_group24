{
  "cells": [
    {
      "cell_type": "code",
      "execution_count": 1,
      "source": [
        "# Numerical libraries\n",
        "import numpy as np   \n",
        "\n",
        "# Import Linear Regression machine learning library\n",
        "from sklearn.linear_model import LinearRegression\n",
        "from sklearn.linear_model import Ridge\n",
        "from sklearn.linear_model import Lasso\n",
        "from sklearn.ensemble import RandomForestRegressor\n",
        "from sklearn.pipeline import Pipeline\n",
        "\n",
        "from sklearn.metrics import r2_score\n",
        "\n",
        "# to handle data in form of rows and columns \n",
        "import pandas as pd    \n",
        "\n",
        "# importing ploting libraries\n",
        "import matplotlib.pyplot as plt   \n",
        "\n",
        "import statsmodels.formula.api as sm\n",
        "\n",
        "#importing seaborn for statistical plots\n",
        "import seaborn as sns\n",
        "\n",
        "import hashlib\n",
        "import datetime\n",
        "\n",
        "# import time\n",
        "# from datetime import datetime\n",
        "from time import strftime, gmtime\n",
        "\n",
        "import statsmodels.formula.api as smf\n",
        "#maschine learning libraries\n",
        "from sklearn.preprocessing import OneHotEncoder\n",
        "from sklearn.compose import ColumnTransformer\n",
        "\n",
        "from sklearn.feature_selection import SelectFromModel\n",
        "from sklearn.ensemble import RandomForestClassifier\n",
        "from sklearn.ensemble import RandomForestRegressor\n",
        "from sklearn.model_selection import train_test_split\n",
        "from sklearn.metrics import confusion_matrix \n",
        "\n",
        "from sklearn.metrics import mean_absolute_error\n",
        "from sklearn.svm import SVC\n",
        "from random import sample\n",
        "\n",
        "sns.set_theme(style=\"darkgrid\")\n",
        "from data_loading import load_data\n",
        "from functions import *\n",
        "\n",
        "\n",
        "from sklearn.preprocessing import StandardScaler\n",
        "from sklearn.model_selection import train_test_split\n",
        "from sklearn.preprocessing import LabelEncoder\n",
        "from sklearn.linear_model import Lasso,LinearRegression,Ridge\n",
        "from sklearn.tree import DecisionTreeRegressor\n",
        "from sklearn.ensemble import RandomForestRegressor,AdaBoostRegressor,BaggingRegressor\n",
        "from sklearn.metrics import mean_absolute_error,mean_squared_error,r2_score"
      ],
      "outputs": [
        {
          "output_type": "stream",
          "name": "stderr",
          "text": [
            "/usr/local/lib/python3.7/dist-packages/statsmodels/tools/_testing.py:19: FutureWarning: pandas.util.testing is deprecated. Use the functions in the public API at pandas.testing instead.\n",
            "  import pandas.util.testing as tm\n"
          ]
        }
      ],
      "metadata": {
        "colab": {
          "base_uri": "https://localhost:8080/"
        },
        "id": "7ZgFmGCYZlat",
        "outputId": "094c199c-a910-454e-c8a9-dfef19b6f727"
      }
    },
    {
      "cell_type": "code",
      "execution_count": 2,
      "source": [
        "# import data by using the load_data() function\n",
        "flights_test, flights_train = load_data('flights_test.csv', 'flights_train.csv')\n"
      ],
      "outputs": [],
      "metadata": {
        "id": "NhbZlwpPZlax"
      }
    },
    {
      "cell_type": "code",
      "execution_count": 3,
      "source": [
        "origin_features =  ['DISTANCE', 'SCHEDULED_TIME', 'initial_delay',\n",
        "                    'SCHEDULED_ARRIVAL', 'scheduled_departure_timestamp',\n",
        "                    'TAXI_OUT', 'SCHEDULED_DEPARTURE', 'DEPARTURE_TIME',\n",
        "                    'WHEELS_OFF', 'departure_timestamp', 'DAY', \n",
        "                    # 'FLIGHT_NUMBER', 'TAIL_NUMBER', \n",
        "                    # 'ORIGIN_AIRPORT', 'DESTINATION_AIRPORT'\n",
        "                    ]\n",
        "\n",
        "arrival_delay = 'ARRIVAL_DELAY'\n",
        "\n",
        "# using the full set for training\n",
        "training_set = flights_train[origin_features + [arrival_delay]].sample(300000)\n",
        "\n",
        "# separating the variable that is to be predicted by the model from the rest\n",
        "X = training_set.drop(arrival_delay, axis=1)\n",
        "y = training_set[arrival_delay]\n",
        "\n",
        "features = X.columns\n",
        "\n",
        "# built a validation set on flights_train\n",
        "X_train, X_test, y_train, y_test = train_test_split(X, y, test_size=0.2)\n"
      ],
      "outputs": [],
      "metadata": {
        "id": "jq3KEOnyZlax"
      }
    },
    {
      "cell_type": "code",
      "execution_count": 4,
      "source": [
        "Las = Lasso()\n",
        "LinR = LinearRegression()\n",
        "Rid = Ridge()\n",
        "Rfc = RandomForestRegressor(random_state=2)\n",
        "Dtc = DecisionTreeRegressor(random_state = 2)\n",
        "Boost_Lin = AdaBoostRegressor(base_estimator=LinR,random_state=2)\n",
        "Boost_las = AdaBoostRegressor(base_estimator=Las,random_state=2)\n",
        "Boost_rid = AdaBoostRegressor(base_estimator=Rid,random_state=2)\n",
        "Bg_Lin = BaggingRegressor(base_estimator=LinR,random_state=2)\n",
        "Bg_las = BaggingRegressor(base_estimator=Las,random_state=2)\n",
        "Bg_rid = BaggingRegressor(base_estimator=Rid,random_state=2)\n",
        "\n",
        "# le = LabelEncoder()\n"
      ],
      "outputs": [],
      "metadata": {
        "id": "lgmr4ndoZlay"
      }
    },
    {
      "cell_type": "code",
      "execution_count": 5,
      "source": [
        "# sc1=StandardScaler()\n",
        "# X_train_sc=sc1.fit_transform(X_train)\n",
        "# X_test_sc=sc1.transform(X_test)"
      ],
      "outputs": [],
      "metadata": {
        "id": "AqyJWvIsZlay"
      }
    },
    {
      "cell_type": "code",
      "execution_count": null,
      "source": [
        "import pandas as pd\n",
        "import pickle\n",
        "from sklearn.linear_model import BayesianRidge, LinearRegression\n",
        "import lightgbm as lgbm\n",
        "\n",
        "df = pd.DataFrame({'model': [], 'mse': [], 'mae': []})\n",
        "\n",
        "with open('LGBM_MSE_94_29.pkl', 'rb') as f:\n",
        "    gbm = pickle.load(f)\n",
        "\n",
        "with open('RandomForest.pkl', 'rb') as f:\n",
        "    random_forest = pickle.load(f)\n",
        "\n",
        "# with open('model_1.1_alex.pkl', 'rb') as f:\n",
        "#     random_forest = pickle.load(f)\n",
        "\n",
        "train_data = lgbm.Dataset(X_train, label=y_train, categorical_feature='auto')\n",
        "test_data = lgbm.Dataset(X_test, label=y_test, categorical_feature='auto')\n",
        "parameters = {}\n",
        "\n",
        "gbm_untuned = lgbm.train(parameters,\n",
        "                       train_data,\n",
        "                       valid_sets=test_data)\n",
        "\n",
        "models = [\n",
        "          # ['Lasso', Las],\n",
        "          # ['Linear Regression', LinR],\n",
        "          # ['Bayesian Ridge', BayesianRidge(compute_score=True)],\n",
        "          # ['Decision Tree', Dtc],\n",
        "          ['Gradient Boost', gbm],\n",
        "          ['Gradient Boost untuned', gbm_untuned],\n",
        "          ['Random Forest', random_forest],\n",
        "          ['Random Forest untuned', Rfc],\n",
        "]\n",
        "\n",
        "for name, model in models:\n",
        "    print(\"Training of: \", name)\n",
        "    if name.startswith('Gradient Boost') or name == 'Random Forest':\n",
        "      print(\"Pretrained model, skipping.\")\n",
        "    else:\n",
        "      model = model.fit(X_train,y_train)\n",
        "\n",
        "for name, model in models:\n",
        "    print(\"Prediction of: \", name)\n",
        "    Y_predict=model.predict(X_test)\n",
        "    row = {'model': name, 'mse': mean_squared_error(y_test, Y_predict), 'mae': mean_absolute_error(y_test, Y_predict)}\n",
        "    df = df.append(row, ignore_index=True)\n",
        "\n",
        "\n",
        "df.set_index('model')\n",
        "df"
      ],
      "outputs": [
        {
          "output_type": "stream",
          "name": "stderr",
          "text": [
            "/usr/local/lib/python3.7/dist-packages/sklearn/base.py:333: UserWarning: Trying to unpickle estimator DecisionTreeRegressor from version 1.0.rc2 when using version 1.0.1. This might lead to breaking code or invalid results. Use at your own risk. For more info please refer to:\n",
            "https://scikit-learn.org/stable/modules/model_persistence.html#security-maintainability-limitations\n",
            "  UserWarning,\n",
            "/usr/local/lib/python3.7/dist-packages/sklearn/base.py:333: UserWarning: Trying to unpickle estimator RandomForestRegressor from version 1.0.rc2 when using version 1.0.1. This might lead to breaking code or invalid results. Use at your own risk. For more info please refer to:\n",
            "https://scikit-learn.org/stable/modules/model_persistence.html#security-maintainability-limitations\n",
            "  UserWarning,\n"
          ]
        },
        {
          "output_type": "stream",
          "name": "stdout",
          "text": [
            "Gradient Boost\n",
            "Gradient Boost untuned\n",
            "Random Forest\n",
            "Random Forest untuned\n"
          ]
        }
      ],
      "metadata": {
        "colab": {
          "base_uri": "https://localhost:8080/"
        },
        "id": "GgXkVaYaZlaz",
        "outputId": "effef934-3d44-410a-a072-ed54a6aded1f"
      }
    },
    {
      "cell_type": "code",
      "source": [
        ""
      ],
      "metadata": {
        "id": "jJlwi-8dglsE"
      },
      "execution_count": null,
      "outputs": []
    },
    {
      "cell_type": "code",
      "execution_count": 47,
      "source": [
        "# df['C'] = df['C'].apply(np.int64)\n",
        "\n",
        "sns.barplot(y=\"model\", x=\"mse\", data=df)\n",
        "# tr'ARRIVAL_DELAY'\n",
        "# y = training_set[arrival_delay]\n",
        "\n",
        "df"
      ],
      "outputs": [
        {
          "output_type": "execute_result",
          "data": {
            "text/html": [
              "\n",
              "  <div id=\"df-d8ecbce2-4ba4-4f9c-b774-33b0545c8589\">\n",
              "    <div class=\"colab-df-container\">\n",
              "      <div>\n",
              "<style scoped>\n",
              "    .dataframe tbody tr th:only-of-type {\n",
              "        vertical-align: middle;\n",
              "    }\n",
              "\n",
              "    .dataframe tbody tr th {\n",
              "        vertical-align: top;\n",
              "    }\n",
              "\n",
              "    .dataframe thead th {\n",
              "        text-align: right;\n",
              "    }\n",
              "</style>\n",
              "<table border=\"1\" class=\"dataframe\">\n",
              "  <thead>\n",
              "    <tr style=\"text-align: right;\">\n",
              "      <th></th>\n",
              "      <th>model</th>\n",
              "      <th>mse</th>\n",
              "      <th>mae</th>\n",
              "    </tr>\n",
              "  </thead>\n",
              "  <tbody>\n",
              "    <tr>\n",
              "      <th>0</th>\n",
              "      <td>Linear Regression</td>\n",
              "      <td>177.472991</td>\n",
              "      <td>7.474710</td>\n",
              "    </tr>\n",
              "    <tr>\n",
              "      <th>1</th>\n",
              "      <td>Bayesian Ridge</td>\n",
              "      <td>177.472981</td>\n",
              "      <td>7.474709</td>\n",
              "    </tr>\n",
              "    <tr>\n",
              "      <th>2</th>\n",
              "      <td>Random Forest</td>\n",
              "      <td>117.217127</td>\n",
              "      <td>7.075300</td>\n",
              "    </tr>\n",
              "    <tr>\n",
              "      <th>3</th>\n",
              "      <td>Gradient Boost</td>\n",
              "      <td>88.823069</td>\n",
              "      <td>6.269082</td>\n",
              "    </tr>\n",
              "  </tbody>\n",
              "</table>\n",
              "</div>\n",
              "      <button class=\"colab-df-convert\" onclick=\"convertToInteractive('df-d8ecbce2-4ba4-4f9c-b774-33b0545c8589')\"\n",
              "              title=\"Convert this dataframe to an interactive table.\"\n",
              "              style=\"display:none;\">\n",
              "        \n",
              "  <svg xmlns=\"http://www.w3.org/2000/svg\" height=\"24px\"viewBox=\"0 0 24 24\"\n",
              "       width=\"24px\">\n",
              "    <path d=\"M0 0h24v24H0V0z\" fill=\"none\"/>\n",
              "    <path d=\"M18.56 5.44l.94 2.06.94-2.06 2.06-.94-2.06-.94-.94-2.06-.94 2.06-2.06.94zm-11 1L8.5 8.5l.94-2.06 2.06-.94-2.06-.94L8.5 2.5l-.94 2.06-2.06.94zm10 10l.94 2.06.94-2.06 2.06-.94-2.06-.94-.94-2.06-.94 2.06-2.06.94z\"/><path d=\"M17.41 7.96l-1.37-1.37c-.4-.4-.92-.59-1.43-.59-.52 0-1.04.2-1.43.59L10.3 9.45l-7.72 7.72c-.78.78-.78 2.05 0 2.83L4 21.41c.39.39.9.59 1.41.59.51 0 1.02-.2 1.41-.59l7.78-7.78 2.81-2.81c.8-.78.8-2.07 0-2.86zM5.41 20L4 18.59l7.72-7.72 1.47 1.35L5.41 20z\"/>\n",
              "  </svg>\n",
              "      </button>\n",
              "      \n",
              "  <style>\n",
              "    .colab-df-container {\n",
              "      display:flex;\n",
              "      flex-wrap:wrap;\n",
              "      gap: 12px;\n",
              "    }\n",
              "\n",
              "    .colab-df-convert {\n",
              "      background-color: #E8F0FE;\n",
              "      border: none;\n",
              "      border-radius: 50%;\n",
              "      cursor: pointer;\n",
              "      display: none;\n",
              "      fill: #1967D2;\n",
              "      height: 32px;\n",
              "      padding: 0 0 0 0;\n",
              "      width: 32px;\n",
              "    }\n",
              "\n",
              "    .colab-df-convert:hover {\n",
              "      background-color: #E2EBFA;\n",
              "      box-shadow: 0px 1px 2px rgba(60, 64, 67, 0.3), 0px 1px 3px 1px rgba(60, 64, 67, 0.15);\n",
              "      fill: #174EA6;\n",
              "    }\n",
              "\n",
              "    [theme=dark] .colab-df-convert {\n",
              "      background-color: #3B4455;\n",
              "      fill: #D2E3FC;\n",
              "    }\n",
              "\n",
              "    [theme=dark] .colab-df-convert:hover {\n",
              "      background-color: #434B5C;\n",
              "      box-shadow: 0px 1px 3px 1px rgba(0, 0, 0, 0.15);\n",
              "      filter: drop-shadow(0px 1px 2px rgba(0, 0, 0, 0.3));\n",
              "      fill: #FFFFFF;\n",
              "    }\n",
              "  </style>\n",
              "\n",
              "      <script>\n",
              "        const buttonEl =\n",
              "          document.querySelector('#df-d8ecbce2-4ba4-4f9c-b774-33b0545c8589 button.colab-df-convert');\n",
              "        buttonEl.style.display =\n",
              "          google.colab.kernel.accessAllowed ? 'block' : 'none';\n",
              "\n",
              "        async function convertToInteractive(key) {\n",
              "          const element = document.querySelector('#df-d8ecbce2-4ba4-4f9c-b774-33b0545c8589');\n",
              "          const dataTable =\n",
              "            await google.colab.kernel.invokeFunction('convertToInteractive',\n",
              "                                                     [key], {});\n",
              "          if (!dataTable) return;\n",
              "\n",
              "          const docLinkHtml = 'Like what you see? Visit the ' +\n",
              "            '<a target=\"_blank\" href=https://colab.research.google.com/notebooks/data_table.ipynb>data table notebook</a>'\n",
              "            + ' to learn more about interactive tables.';\n",
              "          element.innerHTML = '';\n",
              "          dataTable['output_type'] = 'display_data';\n",
              "          await google.colab.output.renderOutput(dataTable, element);\n",
              "          const docLink = document.createElement('div');\n",
              "          docLink.innerHTML = docLinkHtml;\n",
              "          element.appendChild(docLink);\n",
              "        }\n",
              "      </script>\n",
              "    </div>\n",
              "  </div>\n",
              "  "
            ],
            "text/plain": [
              "               model         mse       mae\n",
              "0  Linear Regression  177.472991  7.474710\n",
              "1     Bayesian Ridge  177.472981  7.474709\n",
              "2      Random Forest  117.217127  7.075300\n",
              "3     Gradient Boost   88.823069  6.269082"
            ]
          },
          "metadata": {},
          "execution_count": 47
        },
        {
          "output_type": "display_data",
          "data": {
            "image/png": "[encoded data removed]",
            "text/plain": [
              "<Figure size 432x288 with 1 Axes>"
            ]
          },
          "metadata": {
            "needs_background": "light"
          }
        }
      ],
      "metadata": {
        "colab": {
          "base_uri": "https://localhost:8080/",
          "height": 443
        },
        "id": "A17OF255Zla0",
        "outputId": "54828357-19f0-4f52-97ab-a7d84d8eaeb1"
      }
    },
    {
      "cell_type": "code",
      "source": [
        "g = sns.catplot(\n",
        "    data=df, kind=\"bar\",\n",
        "    x=\"mse\", y=\"model\", hue=\"sex\",\n",
        "    # ci=\"sd\", \n",
        "    palette=\"dark\", alpha=.6, height=6\n",
        ")\n",
        "g.despine(left=True)\n",
        "g.set_axis_labels(\"mean squared error\", \"Machine Learning Model\")\n",
        "g.legend.set_title(\"\")"
      ],
      "metadata": {
        "id": "1Ihgik8WR5uW"
      },
      "execution_count": null,
      "outputs": []
    },
    {
      "cell_type": "code",
      "execution_count": null,
      "source": [
        "from sklearn.model_selection import cross_val_score\n",
        "from sklearn.metrics import roc_curve\n",
        "from sklearn.metrics import auc\n",
        "\n",
        "model_columns = []\n",
        "models_compare = pd.DataFrame(columns = model_columns)\n",
        "results=[]\n",
        "\n",
        "row_index = 0\n",
        "for model, name in zip([Las,LinR,Rid,Dtc,Rfc,Boost_Lin,Boost_las,Boost_rid,Bg_Lin,Bg_las,Bg_rid], \n",
        "     ['Lasso','Linear Regression','Ridge','Random forest Regressor','Decision Tree Regressor','Boosted Linear',\n",
        "      'Boosted Lasso','Boosted Ridge','Bagged Linear','Bagged Lasso','Bagged Ridge']):\n",
        "\n",
        "    model1 = model.fit(X_train,y_train)\n",
        "    Y_predict = model1.predict(X_test)\n",
        "    results.append(Y_predict)\n",
        "    mae_score = mean_absolute_error(y_test, Y_predict)\n",
        "    mse_score = mean_squared_error(y_test, Y_predict)\n",
        "    rmse_score = np.sqrt(mean_squared_error(y_test, Y_predict))\n",
        "    # r2_score = r2_score(y_test, Y_predict)\n",
        "    # MLA_name = alg.__class__.__name__\n",
        "    models_compare.loc[row_index,'Model Name'] = name\n",
        "    models_compare.loc[row_index, 'MAE'] = mae_score\n",
        "    models_compare.loc[row_index, 'MSE'] = mse_score\n",
        "    models_compare.loc[row_index, 'RMSE'] = rmse_score   \n",
        "\n",
        "    # cv_results = cross_val_score(model, X_train, y_train, cv=10)\n",
        "    # results.append(cv_results)\n",
        "    # predicted = model.fit(X_train, y_train).predict(X_test)\n",
        "    # fp, tp, th = roc_curve(y_test, predicted)\n",
        "    # MLA_name = model.__class__.__name__\n",
        "    # MLA_compare.loc[row_index,'Model Name'] = model\n",
        "    # MLA_compare.loc[row_index, 'Model Train Accuracy'] = round(model.score(X_train, y_train), 4)\n",
        "    # MLA_compare.loc[row_index, 'Model Test Accuracy'] = round(model.score(X_test, y_test), 4)\n",
        "    # MLA_compare.loc[row_index, 'Model AUC'] = auc(fp, tp)\n",
        "    \n",
        "    row_index+=1\n",
        "    \n",
        "models_compare.sort_values(by = ['MSE'], ascending = True, inplace = True)    \n",
        "models_compare\n"
      ],
      "outputs": [
        {
          "output_type": "stream",
          "name": "stderr",
          "text": [
            "/Users/rinusvangrunsven/opt/anaconda3/envs/aml/lib/python3.6/site-packages/sklearn/linear_model/_coordinate_descent.py:532: ConvergenceWarning: Objective did not converge. You might want to increase the number of iterations. Duality gap: 415330.76997706754, tolerance: 1402.2714339875\n",
            "  positive)\n",
            "/Users/rinusvangrunsven/opt/anaconda3/envs/aml/lib/python3.6/site-packages/sklearn/linear_model/_ridge.py:148: LinAlgWarning: Ill-conditioned matrix (rcond=2.85515e-18): result may not be accurate.\n",
            "  overwrite_a=True).T\n",
            "/Users/rinusvangrunsven/opt/anaconda3/envs/aml/lib/python3.6/site-packages/sklearn/linear_model/_coordinate_descent.py:532: ConvergenceWarning: Objective did not converge. You might want to increase the number of iterations. Duality gap: 434280.55930217664, tolerance: 1274.2548918874998\n",
            "  positive)\n",
            "/Users/rinusvangrunsven/opt/anaconda3/envs/aml/lib/python3.6/site-packages/sklearn/linear_model/_coordinate_descent.py:532: ConvergenceWarning: Objective did not converge. You might want to increase the number of iterations. Duality gap: 769839.0247387165, tolerance: 1535.3107724875001\n",
            "  positive)\n",
            "/Users/rinusvangrunsven/opt/anaconda3/envs/aml/lib/python3.6/site-packages/sklearn/linear_model/_coordinate_descent.py:532: ConvergenceWarning: Objective did not converge. You might want to increase the number of iterations. Duality gap: 1519346.5910195208, tolerance: 2261.1772346875\n",
            "  positive)\n",
            "/Users/rinusvangrunsven/opt/anaconda3/envs/aml/lib/python3.6/site-packages/sklearn/linear_model/_coordinate_descent.py:532: ConvergenceWarning: Objective did not converge. You might want to increase the number of iterations. Duality gap: 2789147.4991264855, tolerance: 2786.598378887499\n",
            "  positive)\n",
            "/Users/rinusvangrunsven/opt/anaconda3/envs/aml/lib/python3.6/site-packages/sklearn/linear_model/_coordinate_descent.py:532: ConvergenceWarning: Objective did not converge. You might want to increase the number of iterations. Duality gap: 4198491.893419267, tolerance: 3620.418049687501\n",
            "  positive)\n",
            "/Users/rinusvangrunsven/opt/anaconda3/envs/aml/lib/python3.6/site-packages/sklearn/linear_model/_coordinate_descent.py:532: ConvergenceWarning: Objective did not converge. You might want to increase the number of iterations. Duality gap: 4780523.298284811, tolerance: 3940.039366199994\n",
            "  positive)\n",
            "/Users/rinusvangrunsven/opt/anaconda3/envs/aml/lib/python3.6/site-packages/sklearn/linear_model/_coordinate_descent.py:532: ConvergenceWarning: Objective did not converge. You might want to increase the number of iterations. Duality gap: 5096387.361668761, tolerance: 3763.7476493874938\n",
            "  positive)\n",
            "/Users/rinusvangrunsven/opt/anaconda3/envs/aml/lib/python3.6/site-packages/sklearn/linear_model/_coordinate_descent.py:532: ConvergenceWarning: Objective did not converge. You might want to increase the number of iterations. Duality gap: 5465116.673370193, tolerance: 3971.4148549875017\n",
            "  positive)\n",
            "/Users/rinusvangrunsven/opt/anaconda3/envs/aml/lib/python3.6/site-packages/sklearn/linear_model/_coordinate_descent.py:532: ConvergenceWarning: Objective did not converge. You might want to increase the number of iterations. Duality gap: 5444796.236399651, tolerance: 3996.7954191999975\n",
            "  positive)\n",
            "/Users/rinusvangrunsven/opt/anaconda3/envs/aml/lib/python3.6/site-packages/sklearn/linear_model/_coordinate_descent.py:532: ConvergenceWarning: Objective did not converge. You might want to increase the number of iterations. Duality gap: 5531062.177283527, tolerance: 3921.8807950000028\n",
            "  positive)\n",
            "/Users/rinusvangrunsven/opt/anaconda3/envs/aml/lib/python3.6/site-packages/sklearn/linear_model/_coordinate_descent.py:532: ConvergenceWarning: Objective did not converge. You might want to increase the number of iterations. Duality gap: 5616948.285908213, tolerance: 4403.104083949995\n",
            "  positive)\n",
            "/Users/rinusvangrunsven/opt/anaconda3/envs/aml/lib/python3.6/site-packages/sklearn/linear_model/_coordinate_descent.py:532: ConvergenceWarning: Objective did not converge. You might want to increase the number of iterations. Duality gap: 6033947.709017579, tolerance: 4504.505227887515\n",
            "  positive)\n",
            "/Users/rinusvangrunsven/opt/anaconda3/envs/aml/lib/python3.6/site-packages/sklearn/linear_model/_coordinate_descent.py:532: ConvergenceWarning: Objective did not converge. You might want to increase the number of iterations. Duality gap: 6128076.410588433, tolerance: 4773.78649988751\n",
            "  positive)\n",
            "/Users/rinusvangrunsven/opt/anaconda3/envs/aml/lib/python3.6/site-packages/sklearn/linear_model/_ridge.py:148: LinAlgWarning: Ill-conditioned matrix (rcond=2.94004e-18): result may not be accurate.\n",
            "  overwrite_a=True).T\n",
            "/Users/rinusvangrunsven/opt/anaconda3/envs/aml/lib/python3.6/site-packages/sklearn/linear_model/_ridge.py:148: LinAlgWarning: Ill-conditioned matrix (rcond=2.92395e-18): result may not be accurate.\n",
            "  overwrite_a=True).T\n",
            "/Users/rinusvangrunsven/opt/anaconda3/envs/aml/lib/python3.6/site-packages/sklearn/linear_model/_ridge.py:148: LinAlgWarning: Ill-conditioned matrix (rcond=2.92203e-18): result may not be accurate.\n",
            "  overwrite_a=True).T\n",
            "/Users/rinusvangrunsven/opt/anaconda3/envs/aml/lib/python3.6/site-packages/sklearn/linear_model/_ridge.py:148: LinAlgWarning: Ill-conditioned matrix (rcond=2.6906e-18): result may not be accurate.\n",
            "  overwrite_a=True).T\n",
            "/Users/rinusvangrunsven/opt/anaconda3/envs/aml/lib/python3.6/site-packages/sklearn/linear_model/_ridge.py:148: LinAlgWarning: Ill-conditioned matrix (rcond=2.54761e-18): result may not be accurate.\n",
            "  overwrite_a=True).T\n",
            "/Users/rinusvangrunsven/opt/anaconda3/envs/aml/lib/python3.6/site-packages/sklearn/linear_model/_ridge.py:148: LinAlgWarning: Ill-conditioned matrix (rcond=2.53985e-18): result may not be accurate.\n",
            "  overwrite_a=True).T\n",
            "/Users/rinusvangrunsven/opt/anaconda3/envs/aml/lib/python3.6/site-packages/sklearn/linear_model/_ridge.py:148: LinAlgWarning: Ill-conditioned matrix (rcond=2.0451e-18): result may not be accurate.\n",
            "  overwrite_a=True).T\n",
            "/Users/rinusvangrunsven/opt/anaconda3/envs/aml/lib/python3.6/site-packages/sklearn/linear_model/_ridge.py:148: LinAlgWarning: Ill-conditioned matrix (rcond=2.51059e-18): result may not be accurate.\n",
            "  overwrite_a=True).T\n",
            "/Users/rinusvangrunsven/opt/anaconda3/envs/aml/lib/python3.6/site-packages/sklearn/linear_model/_ridge.py:148: LinAlgWarning: Ill-conditioned matrix (rcond=2.42511e-18): result may not be accurate.\n",
            "  overwrite_a=True).T\n",
            "/Users/rinusvangrunsven/opt/anaconda3/envs/aml/lib/python3.6/site-packages/sklearn/linear_model/_ridge.py:148: LinAlgWarning: Ill-conditioned matrix (rcond=2.43555e-18): result may not be accurate.\n",
            "  overwrite_a=True).T\n",
            "/Users/rinusvangrunsven/opt/anaconda3/envs/aml/lib/python3.6/site-packages/sklearn/linear_model/_ridge.py:148: LinAlgWarning: Ill-conditioned matrix (rcond=2.24468e-18): result may not be accurate.\n",
            "  overwrite_a=True).T\n",
            "/Users/rinusvangrunsven/opt/anaconda3/envs/aml/lib/python3.6/site-packages/sklearn/linear_model/_ridge.py:148: LinAlgWarning: Ill-conditioned matrix (rcond=2.73562e-18): result may not be accurate.\n",
            "  overwrite_a=True).T\n",
            "/Users/rinusvangrunsven/opt/anaconda3/envs/aml/lib/python3.6/site-packages/sklearn/linear_model/_coordinate_descent.py:532: ConvergenceWarning: Objective did not converge. You might want to increase the number of iterations. Duality gap: 425010.15867180825, tolerance: 1204.9655099875\n",
            "  positive)\n",
            "/Users/rinusvangrunsven/opt/anaconda3/envs/aml/lib/python3.6/site-packages/sklearn/linear_model/_coordinate_descent.py:532: ConvergenceWarning: Objective did not converge. You might want to increase the number of iterations. Duality gap: 416341.1568309012, tolerance: 1328.3614799999993\n",
            "  positive)\n",
            "/Users/rinusvangrunsven/opt/anaconda3/envs/aml/lib/python3.6/site-packages/sklearn/linear_model/_coordinate_descent.py:532: ConvergenceWarning: Objective did not converge. You might want to increase the number of iterations. Duality gap: 423814.30673536926, tolerance: 1405.4509757999995\n",
            "  positive)\n",
            "/Users/rinusvangrunsven/opt/anaconda3/envs/aml/lib/python3.6/site-packages/sklearn/linear_model/_coordinate_descent.py:532: ConvergenceWarning: Objective did not converge. You might want to increase the number of iterations. Duality gap: 422042.7534256376, tolerance: 1204.22008\n",
            "  positive)\n",
            "/Users/rinusvangrunsven/opt/anaconda3/envs/aml/lib/python3.6/site-packages/sklearn/linear_model/_coordinate_descent.py:532: ConvergenceWarning: Objective did not converge. You might want to increase the number of iterations. Duality gap: 416951.8621999728, tolerance: 1429.93798355\n",
            "  positive)\n",
            "/Users/rinusvangrunsven/opt/anaconda3/envs/aml/lib/python3.6/site-packages/sklearn/linear_model/_coordinate_descent.py:532: ConvergenceWarning: Objective did not converge. You might want to increase the number of iterations. Duality gap: 407447.79345748224, tolerance: 1281.3672075500003\n",
            "  positive)\n",
            "/Users/rinusvangrunsven/opt/anaconda3/envs/aml/lib/python3.6/site-packages/sklearn/linear_model/_coordinate_descent.py:532: ConvergenceWarning: Objective did not converge. You might want to increase the number of iterations. Duality gap: 423438.8939590023, tolerance: 1507.0437502000007\n",
            "  positive)\n",
            "/Users/rinusvangrunsven/opt/anaconda3/envs/aml/lib/python3.6/site-packages/sklearn/linear_model/_coordinate_descent.py:532: ConvergenceWarning: Objective did not converge. You might want to increase the number of iterations. Duality gap: 394860.40484695055, tolerance: 1219.0225819875006\n",
            "  positive)\n",
            "/Users/rinusvangrunsven/opt/anaconda3/envs/aml/lib/python3.6/site-packages/sklearn/linear_model/_coordinate_descent.py:532: ConvergenceWarning: Objective did not converge. You might want to increase the number of iterations. Duality gap: 415597.25927469955, tolerance: 1362.6142883875002\n",
            "  positive)\n",
            "/Users/rinusvangrunsven/opt/anaconda3/envs/aml/lib/python3.6/site-packages/sklearn/linear_model/_coordinate_descent.py:532: ConvergenceWarning: Objective did not converge. You might want to increase the number of iterations. Duality gap: 402043.54262287536, tolerance: 1259.7633859500013\n",
            "  positive)\n",
            "/Users/rinusvangrunsven/opt/anaconda3/envs/aml/lib/python3.6/site-packages/sklearn/linear_model/_ridge.py:148: LinAlgWarning: Ill-conditioned matrix (rcond=2.95488e-18): result may not be accurate.\n",
            "  overwrite_a=True).T\n",
            "/Users/rinusvangrunsven/opt/anaconda3/envs/aml/lib/python3.6/site-packages/sklearn/linear_model/_ridge.py:148: LinAlgWarning: Ill-conditioned matrix (rcond=3.00705e-18): result may not be accurate.\n",
            "  overwrite_a=True).T\n",
            "/Users/rinusvangrunsven/opt/anaconda3/envs/aml/lib/python3.6/site-packages/sklearn/linear_model/_ridge.py:148: LinAlgWarning: Ill-conditioned matrix (rcond=3.07698e-18): result may not be accurate.\n",
            "  overwrite_a=True).T\n",
            "/Users/rinusvangrunsven/opt/anaconda3/envs/aml/lib/python3.6/site-packages/sklearn/linear_model/_ridge.py:148: LinAlgWarning: Ill-conditioned matrix (rcond=2.96843e-18): result may not be accurate.\n",
            "  overwrite_a=True).T\n",
            "/Users/rinusvangrunsven/opt/anaconda3/envs/aml/lib/python3.6/site-packages/sklearn/linear_model/_ridge.py:148: LinAlgWarning: Ill-conditioned matrix (rcond=3.00512e-18): result may not be accurate.\n",
            "  overwrite_a=True).T\n",
            "/Users/rinusvangrunsven/opt/anaconda3/envs/aml/lib/python3.6/site-packages/sklearn/linear_model/_ridge.py:148: LinAlgWarning: Ill-conditioned matrix (rcond=2.99198e-18): result may not be accurate.\n",
            "  overwrite_a=True).T\n",
            "/Users/rinusvangrunsven/opt/anaconda3/envs/aml/lib/python3.6/site-packages/sklearn/linear_model/_ridge.py:148: LinAlgWarning: Ill-conditioned matrix (rcond=3.04056e-18): result may not be accurate.\n",
            "  overwrite_a=True).T\n",
            "/Users/rinusvangrunsven/opt/anaconda3/envs/aml/lib/python3.6/site-packages/sklearn/linear_model/_ridge.py:148: LinAlgWarning: Ill-conditioned matrix (rcond=2.92933e-18): result may not be accurate.\n",
            "  overwrite_a=True).T\n",
            "/Users/rinusvangrunsven/opt/anaconda3/envs/aml/lib/python3.6/site-packages/sklearn/linear_model/_ridge.py:148: LinAlgWarning: Ill-conditioned matrix (rcond=3.0607e-18): result may not be accurate.\n",
            "  overwrite_a=True).T\n",
            "/Users/rinusvangrunsven/opt/anaconda3/envs/aml/lib/python3.6/site-packages/sklearn/linear_model/_ridge.py:148: LinAlgWarning: Ill-conditioned matrix (rcond=2.96004e-18): result may not be accurate.\n",
            "  overwrite_a=True).T\n"
          ]
        },
        {
          "output_type": "execute_result",
          "data": {
            "text/html": [
              "<div>\n",
              "<style scoped>\n",
              "    .dataframe tbody tr th:only-of-type {\n",
              "        vertical-align: middle;\n",
              "    }\n",
              "\n",
              "    .dataframe tbody tr th {\n",
              "        vertical-align: top;\n",
              "    }\n",
              "\n",
              "    .dataframe thead th {\n",
              "        text-align: right;\n",
              "    }\n",
              "</style>\n",
              "<table border=\"1\" class=\"dataframe\">\n",
              "  <thead>\n",
              "    <tr style=\"text-align: right;\">\n",
              "      <th></th>\n",
              "      <th>Model Name</th>\n",
              "      <th>MAE</th>\n",
              "      <th>MSE</th>\n",
              "      <th>RMSE</th>\n",
              "    </tr>\n",
              "  </thead>\n",
              "  <tbody>\n",
              "    <tr>\n",
              "      <th>0</th>\n",
              "      <td>Lasso</td>\n",
              "      <td>7.478207</td>\n",
              "      <td>110.838099</td>\n",
              "      <td>10.527967</td>\n",
              "    </tr>\n",
              "    <tr>\n",
              "      <th>2</th>\n",
              "      <td>Ridge</td>\n",
              "      <td>7.478472</td>\n",
              "      <td>110.885209</td>\n",
              "      <td>10.530205</td>\n",
              "    </tr>\n",
              "    <tr>\n",
              "      <th>1</th>\n",
              "      <td>Linear Regression</td>\n",
              "      <td>7.478578</td>\n",
              "      <td>110.887259</td>\n",
              "      <td>10.530302</td>\n",
              "    </tr>\n",
              "    <tr>\n",
              "      <th>9</th>\n",
              "      <td>Bagged Lasso</td>\n",
              "      <td>7.479410</td>\n",
              "      <td>110.961987</td>\n",
              "      <td>10.533850</td>\n",
              "    </tr>\n",
              "    <tr>\n",
              "      <th>8</th>\n",
              "      <td>Bagged Linear</td>\n",
              "      <td>7.479120</td>\n",
              "      <td>110.993509</td>\n",
              "      <td>10.535346</td>\n",
              "    </tr>\n",
              "    <tr>\n",
              "      <th>10</th>\n",
              "      <td>Bagged Ridge</td>\n",
              "      <td>7.479123</td>\n",
              "      <td>110.993823</td>\n",
              "      <td>10.535361</td>\n",
              "    </tr>\n",
              "    <tr>\n",
              "      <th>7</th>\n",
              "      <td>Boosted Ridge</td>\n",
              "      <td>7.738000</td>\n",
              "      <td>113.864855</td>\n",
              "      <td>10.670748</td>\n",
              "    </tr>\n",
              "    <tr>\n",
              "      <th>5</th>\n",
              "      <td>Boosted Linear</td>\n",
              "      <td>7.729947</td>\n",
              "      <td>113.871730</td>\n",
              "      <td>10.671070</td>\n",
              "    </tr>\n",
              "    <tr>\n",
              "      <th>6</th>\n",
              "      <td>Boosted Lasso</td>\n",
              "      <td>7.755158</td>\n",
              "      <td>114.381046</td>\n",
              "      <td>10.694907</td>\n",
              "    </tr>\n",
              "    <tr>\n",
              "      <th>4</th>\n",
              "      <td>Decision Tree Regressor</td>\n",
              "      <td>8.173250</td>\n",
              "      <td>142.869362</td>\n",
              "      <td>11.952797</td>\n",
              "    </tr>\n",
              "    <tr>\n",
              "      <th>3</th>\n",
              "      <td>Random forest Regressor</td>\n",
              "      <td>11.346000</td>\n",
              "      <td>245.298000</td>\n",
              "      <td>15.661992</td>\n",
              "    </tr>\n",
              "  </tbody>\n",
              "</table>\n",
              "</div>"
            ],
            "text/plain": [
              "                 Model Name        MAE         MSE       RMSE\n",
              "0                     Lasso   7.478207  110.838099  10.527967\n",
              "2                     Ridge   7.478472  110.885209  10.530205\n",
              "1         Linear Regression   7.478578  110.887259  10.530302\n",
              "9              Bagged Lasso   7.479410  110.961987  10.533850\n",
              "8             Bagged Linear   7.479120  110.993509  10.535346\n",
              "10             Bagged Ridge   7.479123  110.993823  10.535361\n",
              "7             Boosted Ridge   7.738000  113.864855  10.670748\n",
              "5            Boosted Linear   7.729947  113.871730  10.671070\n",
              "6             Boosted Lasso   7.755158  114.381046  10.694907\n",
              "4   Decision Tree Regressor   8.173250  142.869362  11.952797\n",
              "3   Random forest Regressor  11.346000  245.298000  15.661992"
            ]
          },
          "metadata": {},
          "execution_count": 26
        }
      ],
      "metadata": {
        "id": "hur_TAwfZla0",
        "outputId": "232866a7-37f6-4403-d0c8-217533209066"
      }
    },
    {
      "cell_type": "code",
      "execution_count": null,
      "source": [
        "plt.subplots(figsize=(15,4))\n",
        "sns.lineplot(x=\"Model Name\", y=\"MSE\",data=models_compare,label='Train Accuracy')\n",
        "# sns.lineplot(x=\"Model Name\", y=\"Model Test Accuracy\",data=models_compare,label='Test Accuracy')\n",
        "plt.xticks(rotation=90)\n",
        "plt.title('Model Accuracy Comparison')\n",
        "plt.legend()\n",
        "plt.show()"
      ],
      "outputs": [
        {
          "output_type": "display_data",
          "data": {
            "image/png": "[encoded data removed]",
            "text/plain": [
              "<Figure size 1080x288 with 1 Axes>"
            ]
          },
          "metadata": {}
        }
      ],
      "metadata": {
        "id": "EB8lcrz0Zla1",
        "outputId": "85004a13-56ef-4ab7-92e7-468065fb911a"
      }
    },
    {
      "cell_type": "code",
      "execution_count": null,
      "source": [
        "plt.subplots(figsize=(15,6))\n",
        "sns.lineplot(x=\"Model Name\", y=\"MSE\",data=models_compare,palette='hot',label='Accuracy')\n",
        "\n",
        "plt.xticks(rotation=90)\n",
        "plt.title('Models Accuracy Comparison')\n",
        "plt.legend()\n",
        "plt.show()"
      ],
      "outputs": [
        {
          "output_type": "display_data",
          "data": {
            "image/png": "[encoded data removed]",
            "text/plain": [
              "<Figure size 1080x432 with 1 Axes>"
            ]
          },
          "metadata": {}
        }
      ],
      "metadata": {
        "id": "CVl3MS4aZla1",
        "outputId": "b714c116-da36-4fcb-cfff-94d7bfe98aa6"
      }
    },
    {
      "cell_type": "code",
      "execution_count": null,
      "source": [
        "flights_train.info()"
      ],
      "outputs": [
        {
          "output_type": "stream",
          "name": "stdout",
          "text": [
            "<class 'pandas.core.frame.DataFrame'>\n",
            "RangeIndex: 2818553 entries, 0 to 2818552\n",
            "Data columns (total 24 columns):\n",
            " #   Column                         Dtype  \n",
            "---  ------                         -----  \n",
            " 0   id                             int64  \n",
            " 1   YEAR                           int64  \n",
            " 2   MONTH                          int64  \n",
            " 3   DAY                            int64  \n",
            " 4   DAY_OF_WEEK                    int64  \n",
            " 5   AIRLINE                        int64  \n",
            " 6   FLIGHT_NUMBER                  int64  \n",
            " 7   TAIL_NUMBER                    object \n",
            " 8   ORIGIN_AIRPORT                 int64  \n",
            " 9   DESTINATION_AIRPORT            int64  \n",
            " 10  SCHEDULED_DEPARTURE            int64  \n",
            " 11  DEPARTURE_TIME                 float64\n",
            " 12  TAXI_OUT                       float64\n",
            " 13  WHEELS_OFF                     float64\n",
            " 14  SCHEDULED_TIME                 float64\n",
            " 15  DISTANCE                       int64  \n",
            " 16  SCHEDULED_ARRIVAL              int64  \n",
            " 17  ARRIVAL_DELAY                  float64\n",
            " 18  scheduled_departure_date_time  object \n",
            " 19  scheduled_departure_date       object \n",
            " 20  scheduled_departure_timestamp  float64\n",
            " 21  departure_date_time            object \n",
            " 22  departure_timestamp            float64\n",
            " 23  initial_delay                  float64\n",
            "dtypes: float64(8), int64(12), object(4)\n",
            "memory usage: 516.1+ MB\n"
          ]
        }
      ],
      "metadata": {
        "id": "vBWtC78OZla1",
        "outputId": "18b2be0c-63d9-41f8-9db6-244b5217c1b3"
      }
    },
    {
      "cell_type": "code",
      "execution_count": null,
      "source": [
        "origin_features = [\n",
        "            'initial_delay', \n",
        "            'initial_delay_mean',\n",
        "            # 'ORIGIN_AIRPORT',\n",
        "            # 'DESTINATION_AIRPORT',\n",
        "            'DISTANCE', \n",
        "            'DAY',\n",
        "            'DAY_OF_WEEK',\n",
        "            'MONTH',\n",
        "            'ARRIVAL_DELAY'\n",
        "            ]\n",
        "\n",
        "features_test = np.array([a for a in origin_features if a != 'ARRIVAL_DELAY'])\n",
        "submission_set = test_set[features_test]\n",
        "\n",
        "# only do this if you got categorical features\n",
        "# submission_set = pd.get_dummies(submission_set)\n",
        "\n",
        "arrival_delay = 'ARRIVAL_DELAY'\n",
        "\n",
        "# if the full set should be used for training\n",
        "# training_subset = training_set[origin_features]\n",
        "training_subset = training_set.sample(300000)[origin_features]\n",
        "\n",
        "# separating the variable that is to be predicted by the model from the rest\n",
        "X = training_subset.drop(arrival_delay, axis=1)\n",
        "y = training_subset[arrival_delay]\n",
        "\n",
        "# simple way of one-hot encoding (if categorical features are in the training set)\n",
        "# X = pd.get_dummies(X)\n",
        "# X = X[submission_set.columns]\n",
        "\n",
        "features = X.columns\n",
        "\n",
        "# built a validation set on flights_train\n",
        "# X_train, X_val, y_train, y_val = train_test_split(X, y, test_size=0.2)\n",
        "\n",
        "X_train,X_test,y_train,y_test = train_test_split(X,y,test_size=0.3,random_state = 2)\n",
        "\n",
        "\n",
        "\n"
      ],
      "outputs": [],
      "metadata": {
        "id": "lpdftdNcZla2"
      }
    },
    {
      "cell_type": "code",
      "execution_count": null,
      "source": [
        "important_features = ['DISTANCE', 'SCHEDULED_TIME', 'initial_delay',\n",
        "                      'SCHEDULED_ARRIVAL', 'scheduled_departure_timestamp',\n",
        "                      'TAXI_OUT', 'SCHEDULED_DEPARTURE', 'DEPARTURE_TIME',\n",
        "                      'WHEELS_OFF', 'departure_timestamp', 'DAY', \n",
        "                      # 'FLIGHT_NUMBER', 'TAIL_NUMBER', \n",
        "                      # 'ORIGIN_AIRPORT', 'DESTINATION_AIRPORT'\n",
        "                      ]\n",
        "\n",
        "training_set = flights_train#.sample(300000)\n",
        "\n",
        "X_train, X_val, y_train, y_val = train_test_split(training_set[important_features], training_set['ARRIVAL_DELAY'], test_size=0.2)"
      ],
      "outputs": [],
      "metadata": {
        "id": "LfpgVULNZla2"
      }
    },
    {
      "cell_type": "code",
      "execution_count": null,
      "source": [
        "sc1=StandardScaler()\n",
        "X_train_sc=sc1.fit_transform(X_train)\n",
        "X_test_sc=sc1.transform(X_test)"
      ],
      "outputs": [],
      "metadata": {
        "id": "LFMiiXb-Zla3"
      }
    },
    {
      "cell_type": "code",
      "execution_count": null,
      "source": [
        "\n",
        "\n",
        "Las = Lasso()\n",
        "LinR = LinearRegression()\n",
        "Rid = Ridge()\n",
        "Rfc = RandomForestRegressor(random_state=2)\n",
        "Dtc = DecisionTreeRegressor(random_state = 2)\n",
        "Boost_Lin = AdaBoostRegressor(base_estimator=LinR,random_state=2)\n",
        "Boost_las = AdaBoostRegressor(base_estimator=Las,random_state=2)\n",
        "Boost_rid = AdaBoostRegressor(base_estimator=Rid,random_state=2)\n",
        "Bg_Lin = BaggingRegressor(base_estimator=LinR,random_state=2)\n",
        "Bg_las = BaggingRegressor(base_estimator=Las,random_state=2)\n",
        "Bg_rid = BaggingRegressor(base_estimator=Rid,random_state=2)"
      ],
      "outputs": [],
      "metadata": {
        "id": "vkH5Yts6Zla3"
      }
    },
    {
      "cell_type": "code",
      "execution_count": null,
      "source": [
        "for model, name in zip([Las,LinR,Rid,Dtc,Rfc,Boost_Lin,Boost_las,Boost_rid,Bg_Lin,Bg_las,Bg_rid], \n",
        "     ['Lasso','Linear Regression','Ridge','Random forest Regressor','Decision Tree Regressor','Boosted Linear',\n",
        "      'Boosted Lasso','Boosted Ridge','Bagged Linear','Bagged Lasso','Bagged Ridge']):\n",
        "    model1 = model.fit(X_train_sc,y_train)\n",
        "    Y_predict=model1.predict(X_test_sc)\n",
        "    print(name)\n",
        "    print('Mean Absolute Error:', mean_absolute_error(y_test, Y_predict))  \n",
        "    print('Mean Squared Error:', mean_squared_error(y_test, Y_predict))  \n",
        "    print('Root Mean Squared Error:', np.sqrt(mean_squared_error(y_test, Y_predict)))\n",
        "    print('R2 : ',r2_score(y_test, Y_predict))\n",
        "    print()\n",
        "    "
      ],
      "outputs": [
        {
          "output_type": "stream",
          "name": "stdout",
          "text": [
            "Lasso\n",
            "Mean Absolute Error: 9.643078717060016\n",
            "Mean Squared Error: 252.2779428466003\n",
            "Root Mean Squared Error: 15.88325983060783\n",
            "R2 :  0.8475222028021444\n",
            "\n",
            "Linear Regression\n",
            "Mean Absolute Error: 9.538908920713514\n",
            "Mean Squared Error: 247.3969345059253\n",
            "Root Mean Squared Error: 15.728856745037934\n",
            "R2 :  0.8504723037562458\n",
            "\n",
            "Ridge\n",
            "Mean Absolute Error: 9.53893341843388\n",
            "Mean Squared Error: 247.39757327899167\n",
            "Root Mean Squared Error: 15.72887705079392\n",
            "R2 :  0.8504719176792508\n",
            "\n",
            "Random forest Regressor\n",
            "Mean Absolute Error: 13.500854629629629\n",
            "Mean Squared Error: 379.17364390432107\n",
            "Root Mean Squared Error: 19.472381567346122\n",
            "R2 :  0.7708259337869653\n",
            "\n",
            "Decision Tree Regressor\n",
            "Mean Absolute Error: 9.58097634713404\n",
            "Mean Squared Error: 205.65437761711817\n",
            "Root Mean Squared Error: 14.340654713684385\n",
            "R2 :  0.8757016720156884\n",
            "\n",
            "Boosted Linear\n",
            "Mean Absolute Error: 15.621463591544263\n",
            "Mean Squared Error: 719.9937617126766\n",
            "Root Mean Squared Error: 26.832699486124696\n",
            "R2 :  0.5648328920737191\n",
            "\n",
            "Boosted Lasso\n",
            "Mean Absolute Error: 14.926100845865315\n",
            "Mean Squared Error: 661.2883364458809\n",
            "Root Mean Squared Error: 25.71552714695697\n",
            "R2 :  0.6003146857939383\n",
            "\n",
            "Boosted Ridge\n",
            "Mean Absolute Error: 15.491702400590261\n",
            "Mean Squared Error: 710.1685867476062\n",
            "Root Mean Squared Error: 26.6489884751299\n",
            "R2 :  0.5707712671010927\n",
            "\n",
            "Bagged Linear\n",
            "Mean Absolute Error: 9.559517317388272\n",
            "Mean Squared Error: 247.97968105671018\n",
            "Root Mean Squared Error: 15.747370607714489\n",
            "R2 :  0.8501200894112828\n",
            "\n",
            "Bagged Lasso\n",
            "Mean Absolute Error: 9.667558286519576\n",
            "Mean Squared Error: 253.09917462905355\n",
            "Root Mean Squared Error: 15.909090942887138\n",
            "R2 :  0.8470258470297594\n",
            "\n",
            "Bagged Ridge\n",
            "Mean Absolute Error: 9.559542716022175\n",
            "Mean Squared Error: 247.9803694983607\n",
            "Root Mean Squared Error: 15.747392466639063\n",
            "R2 :  0.850119673314397\n",
            "\n"
          ]
        }
      ],
      "metadata": {
        "id": "H2b6DNj5Zla3",
        "outputId": "3a88cd23-8459-4275-decf-91b621499d70"
      }
    },
    {
      "cell_type": "code",
      "execution_count": null,
      "source": [
        "\n",
        "\n",
        "# model_columns = []\n",
        "# models_compare = pd.DataFrame(columns = model_columns)\n",
        "# results=[]\n",
        "\n",
        "# row_index = 0\n",
        "# for model, name in zip([Las,LinR,Rid,Dtc,Rfc,Boost_Lin,Boost_las,Boost_rid,Bg_Lin,Bg_las,Bg_rid], \n",
        "#      ['Lasso','Linear Regression','Ridge','Random forest Regressor','Decision Tree Regressor','Boosted Linear',\n",
        "#       'Boosted Lasso','Boosted Ridge','Bagged Linear','Bagged Lasso','Bagged Ridge']):\n",
        "\n",
        "#     model1 = model.fit(X_train_sc,y_train)\n",
        "#     Y_predict = model1.predict(X_test_sc)\n",
        "#     results.append(Y_predict)\n",
        "#     mae_score = mean_absolute_error(y_test, Y_predict)\n",
        "#     mse_score = mean_squared_error(y_test, Y_predict)\n",
        "#     rmse_score = np.sqrt(mean_squared_error(y_test, Y_predict))\n",
        "#     # r2_score = r2_score(y_test, Y_predict)\n",
        "#     # MLA_name = alg.__class__.__name__\n",
        "#     models_compare.loc[row_index,'Model Name'] = name\n",
        "#     models_compare.loc[row_index, 'MAE'] = mae_score\n",
        "#     models_compare.loc[row_index, 'MSE'] = mse_score\n",
        "#     models_compare.loc[row_index, 'RMSE'] = rmse_score   \n",
        "\n",
        "    \n",
        "    \n",
        "#     row_index+=1\n",
        "    \n",
        "# models_compare.sort_values(by = ['MSE'], ascending = True, inplace = True)    \n",
        "# models_compare\n"
      ],
      "outputs": [],
      "metadata": {
        "id": "bu7sVi2PZla3"
      }
    },
    {
      "cell_type": "code",
      "execution_count": null,
      "source": [
        "# model_columns = []\n",
        "# models_compare = pd.DataFrame(columns = model_columns)\n",
        "# results=[]\n",
        "\n",
        "# row_index = 0\n",
        "# for model, name in zip([Las,LinR,Rid,Dtc,Rfc,Boost_Lin,Boost_las,Boost_rid,Bg_Lin,Bg_las,Bg_rid], \n",
        "#      ['Lasso','Linear Regression','Ridge','Random forest Regressor','Decision Tree Regressor','Boosted Linear',\n",
        "#       'Boosted Lasso','Boosted Ridge','Bagged Linear','Bagged Lasso','Bagged Ridge']):\n",
        "\n",
        "#     model1 = model.fit(X_train_sc,y_train)\n",
        "#     Y_predict = model1.predict(X_test_sc)\n",
        "#     results.append(Y_predict)\n",
        "#     mae_score = mean_absolute_error(y_test, Y_predict)\n",
        "#     mse_score = mean_squared_error(y_test, Y_predict)\n",
        "#     rmse_score = np.sqrt(mean_squared_error(y_test, Y_predict))\n",
        "#     # r2_score = r2_score(y_test, Y_predict)\n",
        "#     # MLA_name = alg.__class__.__name__\n",
        "#     models_compare.loc[row_index,'Model Name'] = name\n",
        "#     models_compare.loc[row_index, 'MAE'] = mae_score\n",
        "#     # models_compare.loc[row_index, 'MSE'] = mse_score\n",
        "#     models_compare.loc[row_index, 'RMSE'] = rmse_score   \n",
        "#     models_compare.loc[row_index, 'R2 score'] = r2_score   \n",
        "#     models_compare.loc[row_index, 'MSE Train'] = round(model.score(X_train, y_train), 4)\n",
        "#     models_compare.loc[row_index, 'MSE Test'] = round(model.score(X_test, y_test), 4)\n",
        "#     models_compare.loc[row_index, 'MSE Train Accuracy'] = round(model.score(X_train, y_train), 4)\n",
        "#     models_compare.loc[row_index, 'MSE Test Accuracy'] = round(model.score(X_test, y_test), 4)\n",
        "\n",
        "\n",
        "    \n",
        "#     row_index+=1\n",
        "    \n",
        "# models_compare.sort_values(by = ['MSE'], ascending = True, inplace = True)    \n",
        "# models_compare\n"
      ],
      "outputs": [],
      "metadata": {
        "id": "acsxz8-tZla4"
      }
    },
    {
      "cell_type": "code",
      "execution_count": null,
      "source": [
        "# # plt.subplots(figsize=(15,4))\n",
        "# # sns.lineplot(x=\"Model Name\", y=\"MSE\",data=models_compare,palette='hot',label='MSE')\n",
        "# # sns.lineplot(x=\"Model Name\", y=\"MAE\",data=models_compare,palette='hot',label='MAE')\n",
        "# # plt.xticks(rotation=90)\n",
        "# # plt.title('MSE Accuracy Comparison')\n",
        "# # plt.legend()\n",
        "# # plt.show()\n",
        "\n",
        "# plt.subplots(figsize=(15,4))\n",
        "# sns.lineplot(x=\"MLA Name\", y=\"MLA Train Accuracy\",data=MLA_compare,palette='hot',label='Train Accuracy')\n",
        "# sns.lineplot(x=\"MLA Name\", y=\"MLA Test Accuracy\",data=MLA_compare,palette='hot',label='Test Accuracy')\n",
        "# plt.xticks(rotation=90)\n",
        "# plt.title('MLA Accuracy Comparison')\n",
        "# plt.legend()\n",
        "# plt.show()"
      ],
      "outputs": [],
      "metadata": {
        "id": "qo1SDCdIZla4"
      }
    },
    {
      "cell_type": "code",
      "execution_count": null,
      "source": [
        "# plt.subplots(figsize=(15,6))\n",
        "# sns.lineplot(x=\"Model Name\", y=\"MSE\",data=models_compare,palette='hot',label='Accuracy')\n",
        "\n",
        "# plt.xticks(rotation=90)\n",
        "# plt.title('MSE Accuracy Comparison')\n",
        "# plt.legend()\n",
        "# plt.show()"
      ],
      "outputs": [],
      "metadata": {
        "id": "NxfzZqPEZla5"
      }
    },
    {
      "cell_type": "code",
      "execution_count": null,
      "source": [
        "dtc = DecisionTreeRegressor(random_state = 2)\n",
        "\n",
        "# {'max_depth': 8, 'max_features': 'auto', 'n_estimators': 12}\n",
        "# rf = Pipeline(steps=[#('preprocessor', preprocessor),\n",
        "#                      ('regressor', rfr)])\n",
        "\n",
        "# cv_scores = cross_val_score(rf, X, y, cv=5)\n",
        "# print(cv_scores)\n",
        "\n",
        "dtc.fit(X_train, y_train)\n",
        "\n",
        "# dtc1 = dtc.fit(X_train_sc,y_train)\n",
        "# Y_predict = dtc1.predict(X_test_sc)\n",
        "# print(name)\n",
        "# print('Mean Absolute Error:', mean_absolute_error(y_test, Y_predict))  \n",
        "# print('Mean Squared Error:', mean_squared_error(y_test, Y_predict))  \n",
        "# print('Root Mean Squared Error:', np.sqrt(mean_squared_error(y_test, Y_predict)))\n",
        "# print('R2 : ',r2_score(y_test, Y_predict))\n",
        "# print()\n",
        "\n",
        "# dtc1.fit(X_train, y_train)"
      ],
      "outputs": [
        {
          "output_type": "execute_result",
          "data": {
            "text/plain": [
              "DecisionTreeRegressor(random_state=2)"
            ]
          },
          "metadata": {},
          "execution_count": 26
        }
      ],
      "metadata": {
        "id": "H3c17BI0Zla5",
        "outputId": "6708190f-3694-4399-f39b-44565ec53ea1"
      }
    },
    {
      "cell_type": "code",
      "execution_count": null,
      "source": [
        "y_pred = dtc.predict(X_val[important_features])\n",
        "\n",
        "predictions = pd.DataFrame({'predicted': y_pred, 'actual': y_val})"
      ],
      "outputs": [],
      "metadata": {
        "id": "XOt01EVqZla5"
      }
    },
    {
      "cell_type": "code",
      "execution_count": null,
      "source": [
        "y_pred = dtc.predict(X_test)\n",
        "score = dtc.score(X_test, y_test)\n",
        "mean_squared_error = mse(y_test, y_pred)\n",
        "\n",
        "print(\"R2: \", round(score, 3))\n",
        "print(\"Mean Squared Error: \", round(mean_squared_error, 3))"
      ],
      "outputs": [
        {
          "output_type": "error",
          "ename": "ValueError",
          "evalue": "X has 6 features, but DecisionTreeRegressor is expecting 11 features as input.",
          "traceback": [
            "\u001b[0;31m---------------------------------------------------------------------------\u001b[0m",
            "\u001b[0;31mValueError\u001b[0m                                Traceback (most recent call last)",
            "\u001b[0;32m<ipython-input-31-c15b5f0df378>\u001b[0m in \u001b[0;36m<module>\u001b[0;34m\u001b[0m\n\u001b[0;32m----> 1\u001b[0;31m \u001b[0my_pred\u001b[0m \u001b[0;34m=\u001b[0m \u001b[0mdtc\u001b[0m\u001b[0;34m.\u001b[0m\u001b[0mpredict\u001b[0m\u001b[0;34m(\u001b[0m\u001b[0mX_test\u001b[0m\u001b[0;34m)\u001b[0m\u001b[0;34m\u001b[0m\u001b[0;34m\u001b[0m\u001b[0m\n\u001b[0m\u001b[1;32m      2\u001b[0m \u001b[0mscore\u001b[0m \u001b[0;34m=\u001b[0m \u001b[0mdtc\u001b[0m\u001b[0;34m.\u001b[0m\u001b[0mscore\u001b[0m\u001b[0;34m(\u001b[0m\u001b[0mX_test\u001b[0m\u001b[0;34m,\u001b[0m \u001b[0my_test\u001b[0m\u001b[0;34m)\u001b[0m\u001b[0;34m\u001b[0m\u001b[0;34m\u001b[0m\u001b[0m\n\u001b[1;32m      3\u001b[0m \u001b[0mmean_squared_error\u001b[0m \u001b[0;34m=\u001b[0m \u001b[0mmse\u001b[0m\u001b[0;34m(\u001b[0m\u001b[0my_test\u001b[0m\u001b[0;34m,\u001b[0m \u001b[0my_pred\u001b[0m\u001b[0;34m)\u001b[0m\u001b[0;34m\u001b[0m\u001b[0;34m\u001b[0m\u001b[0m\n\u001b[1;32m      4\u001b[0m \u001b[0;34m\u001b[0m\u001b[0m\n\u001b[1;32m      5\u001b[0m \u001b[0mprint\u001b[0m\u001b[0;34m(\u001b[0m\u001b[0;34m\"R2: \"\u001b[0m\u001b[0;34m,\u001b[0m \u001b[0mround\u001b[0m\u001b[0;34m(\u001b[0m\u001b[0mscore\u001b[0m\u001b[0;34m,\u001b[0m \u001b[0;36m3\u001b[0m\u001b[0;34m)\u001b[0m\u001b[0;34m)\u001b[0m\u001b[0;34m\u001b[0m\u001b[0;34m\u001b[0m\u001b[0m\n",
            "\u001b[0;32m~/opt/anaconda3/envs/aml/lib/python3.6/site-packages/sklearn/tree/_classes.py\u001b[0m in \u001b[0;36mpredict\u001b[0;34m(self, X, check_input)\u001b[0m\n\u001b[1;32m    440\u001b[0m         \"\"\"\n\u001b[1;32m    441\u001b[0m         \u001b[0mcheck_is_fitted\u001b[0m\u001b[0;34m(\u001b[0m\u001b[0mself\u001b[0m\u001b[0;34m)\u001b[0m\u001b[0;34m\u001b[0m\u001b[0;34m\u001b[0m\u001b[0m\n\u001b[0;32m--> 442\u001b[0;31m         \u001b[0mX\u001b[0m \u001b[0;34m=\u001b[0m \u001b[0mself\u001b[0m\u001b[0;34m.\u001b[0m\u001b[0m_validate_X_predict\u001b[0m\u001b[0;34m(\u001b[0m\u001b[0mX\u001b[0m\u001b[0;34m,\u001b[0m \u001b[0mcheck_input\u001b[0m\u001b[0;34m)\u001b[0m\u001b[0;34m\u001b[0m\u001b[0;34m\u001b[0m\u001b[0m\n\u001b[0m\u001b[1;32m    443\u001b[0m         \u001b[0mproba\u001b[0m \u001b[0;34m=\u001b[0m \u001b[0mself\u001b[0m\u001b[0;34m.\u001b[0m\u001b[0mtree_\u001b[0m\u001b[0;34m.\u001b[0m\u001b[0mpredict\u001b[0m\u001b[0;34m(\u001b[0m\u001b[0mX\u001b[0m\u001b[0;34m)\u001b[0m\u001b[0;34m\u001b[0m\u001b[0;34m\u001b[0m\u001b[0m\n\u001b[1;32m    444\u001b[0m         \u001b[0mn_samples\u001b[0m \u001b[0;34m=\u001b[0m \u001b[0mX\u001b[0m\u001b[0;34m.\u001b[0m\u001b[0mshape\u001b[0m\u001b[0;34m[\u001b[0m\u001b[0;36m0\u001b[0m\u001b[0;34m]\u001b[0m\u001b[0;34m\u001b[0m\u001b[0;34m\u001b[0m\u001b[0m\n",
            "\u001b[0;32m~/opt/anaconda3/envs/aml/lib/python3.6/site-packages/sklearn/tree/_classes.py\u001b[0m in \u001b[0;36m_validate_X_predict\u001b[0;34m(self, X, check_input)\u001b[0m\n\u001b[1;32m    406\u001b[0m         \u001b[0;32mif\u001b[0m \u001b[0mcheck_input\u001b[0m\u001b[0;34m:\u001b[0m\u001b[0;34m\u001b[0m\u001b[0;34m\u001b[0m\u001b[0m\n\u001b[1;32m    407\u001b[0m             X = self._validate_data(X, dtype=DTYPE, accept_sparse=\"csr\",\n\u001b[0;32m--> 408\u001b[0;31m                                     reset=False)\n\u001b[0m\u001b[1;32m    409\u001b[0m             if issparse(X) and (X.indices.dtype != np.intc or\n\u001b[1;32m    410\u001b[0m                                 X.indptr.dtype != np.intc):\n",
            "\u001b[0;32m~/opt/anaconda3/envs/aml/lib/python3.6/site-packages/sklearn/base.py\u001b[0m in \u001b[0;36m_validate_data\u001b[0;34m(self, X, y, reset, validate_separately, **check_params)\u001b[0m\n\u001b[1;32m    435\u001b[0m \u001b[0;34m\u001b[0m\u001b[0m\n\u001b[1;32m    436\u001b[0m         \u001b[0;32mif\u001b[0m \u001b[0mcheck_params\u001b[0m\u001b[0;34m.\u001b[0m\u001b[0mget\u001b[0m\u001b[0;34m(\u001b[0m\u001b[0;34m'ensure_2d'\u001b[0m\u001b[0;34m,\u001b[0m \u001b[0;32mTrue\u001b[0m\u001b[0;34m)\u001b[0m\u001b[0;34m:\u001b[0m\u001b[0;34m\u001b[0m\u001b[0;34m\u001b[0m\u001b[0m\n\u001b[0;32m--> 437\u001b[0;31m             \u001b[0mself\u001b[0m\u001b[0;34m.\u001b[0m\u001b[0m_check_n_features\u001b[0m\u001b[0;34m(\u001b[0m\u001b[0mX\u001b[0m\u001b[0;34m,\u001b[0m \u001b[0mreset\u001b[0m\u001b[0;34m=\u001b[0m\u001b[0mreset\u001b[0m\u001b[0;34m)\u001b[0m\u001b[0;34m\u001b[0m\u001b[0;34m\u001b[0m\u001b[0m\n\u001b[0m\u001b[1;32m    438\u001b[0m \u001b[0;34m\u001b[0m\u001b[0m\n\u001b[1;32m    439\u001b[0m         \u001b[0;32mreturn\u001b[0m \u001b[0mout\u001b[0m\u001b[0;34m\u001b[0m\u001b[0;34m\u001b[0m\u001b[0m\n",
            "\u001b[0;32m~/opt/anaconda3/envs/aml/lib/python3.6/site-packages/sklearn/base.py\u001b[0m in \u001b[0;36m_check_n_features\u001b[0;34m(self, X, reset)\u001b[0m\n\u001b[1;32m    364\u001b[0m         \u001b[0;32mif\u001b[0m \u001b[0mn_features\u001b[0m \u001b[0;34m!=\u001b[0m \u001b[0mself\u001b[0m\u001b[0;34m.\u001b[0m\u001b[0mn_features_in_\u001b[0m\u001b[0;34m:\u001b[0m\u001b[0;34m\u001b[0m\u001b[0;34m\u001b[0m\u001b[0m\n\u001b[1;32m    365\u001b[0m             raise ValueError(\n\u001b[0;32m--> 366\u001b[0;31m                 \u001b[0;34mf\"X has {n_features} features, but {self.__class__.__name__} \"\u001b[0m\u001b[0;34m\u001b[0m\u001b[0;34m\u001b[0m\u001b[0m\n\u001b[0m\u001b[1;32m    367\u001b[0m                 f\"is expecting {self.n_features_in_} features as input.\")\n\u001b[1;32m    368\u001b[0m \u001b[0;34m\u001b[0m\u001b[0m\n",
            "\u001b[0;31mValueError\u001b[0m: X has 6 features, but DecisionTreeRegressor is expecting 11 features as input."
          ]
        }
      ],
      "metadata": {
        "id": "-ngk3ZcgZla6",
        "outputId": "69ad2a6b-5914-4f55-b5f6-bd4f9215808e"
      }
    },
    {
      "cell_type": "code",
      "execution_count": null,
      "source": [
        "predictions = model.predict(flights_test[important_features])\n",
        "\n",
        "submission = pd.DataFrame({'id': flights_test['id'], 'ARRIVAL_DELAY': predictions})\n",
        "submission.to_csv('../submission_test1.csv', index=False)\n",
        "\n",
        "# submission must have 514,384 rows\n",
        "print(len(submission))"
      ],
      "outputs": [
        {
          "output_type": "stream",
          "name": "stdout",
          "text": [
            "514384\n"
          ]
        }
      ],
      "metadata": {
        "id": "VTA-AbjtZla6",
        "outputId": "06e0bfb0-643a-4b23-e393-b6e4e0f33e4a"
      }
    },
    {
      "cell_type": "code",
      "execution_count": null,
      "source": [
        "# y_pred = dtc.predict(X_test)\n",
        "# score = dtc.score(X_test, y_test)\n",
        "# mean_squared_error = mse(y_test, y_pred)\n",
        "\n",
        "y_pred = dtc.predict(X_test)\n",
        "score = dtc.score(X_test, y_test)\n",
        "mean_squared_error = mse(y_test, y_pred)\n",
        "\n",
        "X_train, X_val, y_train, y_val = train_test_split(training_set[important_features], training_set['ARRIVAL_DELAY'], test_size=0.2)\n",
        "\n",
        "print(\"R2: \", round(score, 3))\n",
        "print(\"Mean Squared Error: \", round(mean_squared_error, 3))"
      ],
      "outputs": [
        {
          "output_type": "error",
          "ename": "ValueError",
          "evalue": "X has 6 features, but DecisionTreeRegressor is expecting 11 features as input.",
          "traceback": [
            "\u001b[0;31m---------------------------------------------------------------------------\u001b[0m",
            "\u001b[0;31mValueError\u001b[0m                                Traceback (most recent call last)",
            "\u001b[0;32m<ipython-input-27-c15b5f0df378>\u001b[0m in \u001b[0;36m<module>\u001b[0;34m\u001b[0m\n\u001b[0;32m----> 1\u001b[0;31m \u001b[0my_pred\u001b[0m \u001b[0;34m=\u001b[0m \u001b[0mdtc\u001b[0m\u001b[0;34m.\u001b[0m\u001b[0mpredict\u001b[0m\u001b[0;34m(\u001b[0m\u001b[0mX_test\u001b[0m\u001b[0;34m)\u001b[0m\u001b[0;34m\u001b[0m\u001b[0;34m\u001b[0m\u001b[0m\n\u001b[0m\u001b[1;32m      2\u001b[0m \u001b[0mscore\u001b[0m \u001b[0;34m=\u001b[0m \u001b[0mdtc\u001b[0m\u001b[0;34m.\u001b[0m\u001b[0mscore\u001b[0m\u001b[0;34m(\u001b[0m\u001b[0mX_test\u001b[0m\u001b[0;34m,\u001b[0m \u001b[0my_test\u001b[0m\u001b[0;34m)\u001b[0m\u001b[0;34m\u001b[0m\u001b[0;34m\u001b[0m\u001b[0m\n\u001b[1;32m      3\u001b[0m \u001b[0mmean_squared_error\u001b[0m \u001b[0;34m=\u001b[0m \u001b[0mmse\u001b[0m\u001b[0;34m(\u001b[0m\u001b[0my_test\u001b[0m\u001b[0;34m,\u001b[0m \u001b[0my_pred\u001b[0m\u001b[0;34m)\u001b[0m\u001b[0;34m\u001b[0m\u001b[0;34m\u001b[0m\u001b[0m\n\u001b[1;32m      4\u001b[0m \u001b[0;34m\u001b[0m\u001b[0m\n\u001b[1;32m      5\u001b[0m \u001b[0mprint\u001b[0m\u001b[0;34m(\u001b[0m\u001b[0;34m\"R2: \"\u001b[0m\u001b[0;34m,\u001b[0m \u001b[0mround\u001b[0m\u001b[0;34m(\u001b[0m\u001b[0mscore\u001b[0m\u001b[0;34m,\u001b[0m \u001b[0;36m3\u001b[0m\u001b[0;34m)\u001b[0m\u001b[0;34m)\u001b[0m\u001b[0;34m\u001b[0m\u001b[0;34m\u001b[0m\u001b[0m\n",
            "\u001b[0;32m~/opt/anaconda3/envs/aml/lib/python3.6/site-packages/sklearn/tree/_classes.py\u001b[0m in \u001b[0;36mpredict\u001b[0;34m(self, X, check_input)\u001b[0m\n\u001b[1;32m    440\u001b[0m         \"\"\"\n\u001b[1;32m    441\u001b[0m         \u001b[0mcheck_is_fitted\u001b[0m\u001b[0;34m(\u001b[0m\u001b[0mself\u001b[0m\u001b[0;34m)\u001b[0m\u001b[0;34m\u001b[0m\u001b[0;34m\u001b[0m\u001b[0m\n\u001b[0;32m--> 442\u001b[0;31m         \u001b[0mX\u001b[0m \u001b[0;34m=\u001b[0m \u001b[0mself\u001b[0m\u001b[0;34m.\u001b[0m\u001b[0m_validate_X_predict\u001b[0m\u001b[0;34m(\u001b[0m\u001b[0mX\u001b[0m\u001b[0;34m,\u001b[0m \u001b[0mcheck_input\u001b[0m\u001b[0;34m)\u001b[0m\u001b[0;34m\u001b[0m\u001b[0;34m\u001b[0m\u001b[0m\n\u001b[0m\u001b[1;32m    443\u001b[0m         \u001b[0mproba\u001b[0m \u001b[0;34m=\u001b[0m \u001b[0mself\u001b[0m\u001b[0;34m.\u001b[0m\u001b[0mtree_\u001b[0m\u001b[0;34m.\u001b[0m\u001b[0mpredict\u001b[0m\u001b[0;34m(\u001b[0m\u001b[0mX\u001b[0m\u001b[0;34m)\u001b[0m\u001b[0;34m\u001b[0m\u001b[0;34m\u001b[0m\u001b[0m\n\u001b[1;32m    444\u001b[0m         \u001b[0mn_samples\u001b[0m \u001b[0;34m=\u001b[0m \u001b[0mX\u001b[0m\u001b[0;34m.\u001b[0m\u001b[0mshape\u001b[0m\u001b[0;34m[\u001b[0m\u001b[0;36m0\u001b[0m\u001b[0;34m]\u001b[0m\u001b[0;34m\u001b[0m\u001b[0;34m\u001b[0m\u001b[0m\n",
            "\u001b[0;32m~/opt/anaconda3/envs/aml/lib/python3.6/site-packages/sklearn/tree/_classes.py\u001b[0m in \u001b[0;36m_validate_X_predict\u001b[0;34m(self, X, check_input)\u001b[0m\n\u001b[1;32m    406\u001b[0m         \u001b[0;32mif\u001b[0m \u001b[0mcheck_input\u001b[0m\u001b[0;34m:\u001b[0m\u001b[0;34m\u001b[0m\u001b[0;34m\u001b[0m\u001b[0m\n\u001b[1;32m    407\u001b[0m             X = self._validate_data(X, dtype=DTYPE, accept_sparse=\"csr\",\n\u001b[0;32m--> 408\u001b[0;31m                                     reset=False)\n\u001b[0m\u001b[1;32m    409\u001b[0m             if issparse(X) and (X.indices.dtype != np.intc or\n\u001b[1;32m    410\u001b[0m                                 X.indptr.dtype != np.intc):\n",
            "\u001b[0;32m~/opt/anaconda3/envs/aml/lib/python3.6/site-packages/sklearn/base.py\u001b[0m in \u001b[0;36m_validate_data\u001b[0;34m(self, X, y, reset, validate_separately, **check_params)\u001b[0m\n\u001b[1;32m    435\u001b[0m \u001b[0;34m\u001b[0m\u001b[0m\n\u001b[1;32m    436\u001b[0m         \u001b[0;32mif\u001b[0m \u001b[0mcheck_params\u001b[0m\u001b[0;34m.\u001b[0m\u001b[0mget\u001b[0m\u001b[0;34m(\u001b[0m\u001b[0;34m'ensure_2d'\u001b[0m\u001b[0;34m,\u001b[0m \u001b[0;32mTrue\u001b[0m\u001b[0;34m)\u001b[0m\u001b[0;34m:\u001b[0m\u001b[0;34m\u001b[0m\u001b[0;34m\u001b[0m\u001b[0m\n\u001b[0;32m--> 437\u001b[0;31m             \u001b[0mself\u001b[0m\u001b[0;34m.\u001b[0m\u001b[0m_check_n_features\u001b[0m\u001b[0;34m(\u001b[0m\u001b[0mX\u001b[0m\u001b[0;34m,\u001b[0m \u001b[0mreset\u001b[0m\u001b[0;34m=\u001b[0m\u001b[0mreset\u001b[0m\u001b[0;34m)\u001b[0m\u001b[0;34m\u001b[0m\u001b[0;34m\u001b[0m\u001b[0m\n\u001b[0m\u001b[1;32m    438\u001b[0m \u001b[0;34m\u001b[0m\u001b[0m\n\u001b[1;32m    439\u001b[0m         \u001b[0;32mreturn\u001b[0m \u001b[0mout\u001b[0m\u001b[0;34m\u001b[0m\u001b[0;34m\u001b[0m\u001b[0m\n",
            "\u001b[0;32m~/opt/anaconda3/envs/aml/lib/python3.6/site-packages/sklearn/base.py\u001b[0m in \u001b[0;36m_check_n_features\u001b[0;34m(self, X, reset)\u001b[0m\n\u001b[1;32m    364\u001b[0m         \u001b[0;32mif\u001b[0m \u001b[0mn_features\u001b[0m \u001b[0;34m!=\u001b[0m \u001b[0mself\u001b[0m\u001b[0;34m.\u001b[0m\u001b[0mn_features_in_\u001b[0m\u001b[0;34m:\u001b[0m\u001b[0;34m\u001b[0m\u001b[0;34m\u001b[0m\u001b[0m\n\u001b[1;32m    365\u001b[0m             raise ValueError(\n\u001b[0;32m--> 366\u001b[0;31m                 \u001b[0;34mf\"X has {n_features} features, but {self.__class__.__name__} \"\u001b[0m\u001b[0;34m\u001b[0m\u001b[0;34m\u001b[0m\u001b[0m\n\u001b[0m\u001b[1;32m    367\u001b[0m                 f\"is expecting {self.n_features_in_} features as input.\")\n\u001b[1;32m    368\u001b[0m \u001b[0;34m\u001b[0m\u001b[0m\n",
            "\u001b[0;31mValueError\u001b[0m: X has 6 features, but DecisionTreeRegressor is expecting 11 features as input."
          ]
        }
      ],
      "metadata": {
        "id": "zA8ZS8O_Zla6",
        "outputId": "1b3be70a-949a-4911-f780-38897f602d91"
      }
    },
    {
      "cell_type": "code",
      "execution_count": null,
      "source": [
        "# Dtc = DecisionTreeRegressor(random_state = 2)\n",
        "\n",
        "# # {'max_depth': 8, 'max_features': 'auto', 'n_estimators': 12}\n",
        "# # rf = Pipeline(steps=[#('preprocessor', preprocessor),\n",
        "# #                      ('regressor', rfr)])\n",
        "\n",
        "# # cv_scores = cross_val_score(rf, X, y, cv=5)\n",
        "# # print(cv_scores)\n",
        "\n",
        "# Dtc1 = Dtc.fit(X_train_sc,y_train)\n",
        "# Y_predict=Dtc1.predict(X_test_sc)\n",
        "# print(name)\n",
        "# print('Mean Absolute Error:', mean_absolute_error(y_test, Y_predict))  \n",
        "# print('Mean Squared Error:', mean_squared_error(y_test, Y_predict))  \n",
        "# print('Root Mean Squared Error:', np.sqrt(mean_squared_error(y_test, Y_predict)))\n",
        "# print('R2 : ',r2_score(y_test, Y_predict))\n",
        "# print()\n",
        "\n",
        "# Dtc1.fit(X_train, y_train)"
      ],
      "outputs": [],
      "metadata": {
        "id": "u7q9QhM0Zla6"
      }
    },
    {
      "cell_type": "code",
      "execution_count": null,
      "source": [
        "predictions = dtc.predict(flights_test)\n",
        "\n",
        "submission = pd.DataFrame({'id': flights_test['id'], 'ARRIVAL_DELAY': predictions})\n",
        "submission.to_csv('submission_1.csv', index=False)\n",
        "\n",
        "# submission must have 514,384 rows\n",
        "print(len(submission))"
      ],
      "outputs": [
        {
          "output_type": "error",
          "ename": "ValueError",
          "evalue": "could not convert string to float: 'NK'",
          "traceback": [
            "\u001b[0;31m---------------------------------------------------------------------------\u001b[0m",
            "\u001b[0;31mValueError\u001b[0m                                Traceback (most recent call last)",
            "\u001b[0;32m<ipython-input-28-d0bd219f542e>\u001b[0m in \u001b[0;36m<module>\u001b[0;34m\u001b[0m\n\u001b[0;32m----> 1\u001b[0;31m \u001b[0mpredictions\u001b[0m \u001b[0;34m=\u001b[0m \u001b[0mdtc\u001b[0m\u001b[0;34m.\u001b[0m\u001b[0mpredict\u001b[0m\u001b[0;34m(\u001b[0m\u001b[0mflights_test\u001b[0m\u001b[0;34m)\u001b[0m\u001b[0;34m\u001b[0m\u001b[0;34m\u001b[0m\u001b[0m\n\u001b[0m\u001b[1;32m      2\u001b[0m \u001b[0;34m\u001b[0m\u001b[0m\n\u001b[1;32m      3\u001b[0m \u001b[0msubmission\u001b[0m \u001b[0;34m=\u001b[0m \u001b[0mpd\u001b[0m\u001b[0;34m.\u001b[0m\u001b[0mDataFrame\u001b[0m\u001b[0;34m(\u001b[0m\u001b[0;34m{\u001b[0m\u001b[0;34m'id'\u001b[0m\u001b[0;34m:\u001b[0m \u001b[0mflights_test\u001b[0m\u001b[0;34m[\u001b[0m\u001b[0;34m'id'\u001b[0m\u001b[0;34m]\u001b[0m\u001b[0;34m,\u001b[0m \u001b[0;34m'ARRIVAL_DELAY'\u001b[0m\u001b[0;34m:\u001b[0m \u001b[0mpredictions\u001b[0m\u001b[0;34m}\u001b[0m\u001b[0;34m)\u001b[0m\u001b[0;34m\u001b[0m\u001b[0;34m\u001b[0m\u001b[0m\n\u001b[1;32m      4\u001b[0m \u001b[0msubmission\u001b[0m\u001b[0;34m.\u001b[0m\u001b[0mto_csv\u001b[0m\u001b[0;34m(\u001b[0m\u001b[0;34m'submission_1.csv'\u001b[0m\u001b[0;34m,\u001b[0m \u001b[0mindex\u001b[0m\u001b[0;34m=\u001b[0m\u001b[0;32mFalse\u001b[0m\u001b[0;34m)\u001b[0m\u001b[0;34m\u001b[0m\u001b[0;34m\u001b[0m\u001b[0m\n\u001b[1;32m      5\u001b[0m \u001b[0;34m\u001b[0m\u001b[0m\n",
            "\u001b[0;32m~/opt/anaconda3/envs/aml/lib/python3.6/site-packages/sklearn/tree/_classes.py\u001b[0m in \u001b[0;36mpredict\u001b[0;34m(self, X, check_input)\u001b[0m\n\u001b[1;32m    440\u001b[0m         \"\"\"\n\u001b[1;32m    441\u001b[0m         \u001b[0mcheck_is_fitted\u001b[0m\u001b[0;34m(\u001b[0m\u001b[0mself\u001b[0m\u001b[0;34m)\u001b[0m\u001b[0;34m\u001b[0m\u001b[0;34m\u001b[0m\u001b[0m\n\u001b[0;32m--> 442\u001b[0;31m         \u001b[0mX\u001b[0m \u001b[0;34m=\u001b[0m \u001b[0mself\u001b[0m\u001b[0;34m.\u001b[0m\u001b[0m_validate_X_predict\u001b[0m\u001b[0;34m(\u001b[0m\u001b[0mX\u001b[0m\u001b[0;34m,\u001b[0m \u001b[0mcheck_input\u001b[0m\u001b[0;34m)\u001b[0m\u001b[0;34m\u001b[0m\u001b[0;34m\u001b[0m\u001b[0m\n\u001b[0m\u001b[1;32m    443\u001b[0m         \u001b[0mproba\u001b[0m \u001b[0;34m=\u001b[0m \u001b[0mself\u001b[0m\u001b[0;34m.\u001b[0m\u001b[0mtree_\u001b[0m\u001b[0;34m.\u001b[0m\u001b[0mpredict\u001b[0m\u001b[0;34m(\u001b[0m\u001b[0mX\u001b[0m\u001b[0;34m)\u001b[0m\u001b[0;34m\u001b[0m\u001b[0;34m\u001b[0m\u001b[0m\n\u001b[1;32m    444\u001b[0m         \u001b[0mn_samples\u001b[0m \u001b[0;34m=\u001b[0m \u001b[0mX\u001b[0m\u001b[0;34m.\u001b[0m\u001b[0mshape\u001b[0m\u001b[0;34m[\u001b[0m\u001b[0;36m0\u001b[0m\u001b[0;34m]\u001b[0m\u001b[0;34m\u001b[0m\u001b[0;34m\u001b[0m\u001b[0m\n",
            "\u001b[0;32m~/opt/anaconda3/envs/aml/lib/python3.6/site-packages/sklearn/tree/_classes.py\u001b[0m in \u001b[0;36m_validate_X_predict\u001b[0;34m(self, X, check_input)\u001b[0m\n\u001b[1;32m    406\u001b[0m         \u001b[0;32mif\u001b[0m \u001b[0mcheck_input\u001b[0m\u001b[0;34m:\u001b[0m\u001b[0;34m\u001b[0m\u001b[0;34m\u001b[0m\u001b[0m\n\u001b[1;32m    407\u001b[0m             X = self._validate_data(X, dtype=DTYPE, accept_sparse=\"csr\",\n\u001b[0;32m--> 408\u001b[0;31m                                     reset=False)\n\u001b[0m\u001b[1;32m    409\u001b[0m             if issparse(X) and (X.indices.dtype != np.intc or\n\u001b[1;32m    410\u001b[0m                                 X.indptr.dtype != np.intc):\n",
            "\u001b[0;32m~/opt/anaconda3/envs/aml/lib/python3.6/site-packages/sklearn/base.py\u001b[0m in \u001b[0;36m_validate_data\u001b[0;34m(self, X, y, reset, validate_separately, **check_params)\u001b[0m\n\u001b[1;32m    419\u001b[0m             \u001b[0mout\u001b[0m \u001b[0;34m=\u001b[0m \u001b[0mX\u001b[0m\u001b[0;34m\u001b[0m\u001b[0;34m\u001b[0m\u001b[0m\n\u001b[1;32m    420\u001b[0m         \u001b[0;32melif\u001b[0m \u001b[0misinstance\u001b[0m\u001b[0;34m(\u001b[0m\u001b[0my\u001b[0m\u001b[0;34m,\u001b[0m \u001b[0mstr\u001b[0m\u001b[0;34m)\u001b[0m \u001b[0;32mand\u001b[0m \u001b[0my\u001b[0m \u001b[0;34m==\u001b[0m \u001b[0;34m'no_validation'\u001b[0m\u001b[0;34m:\u001b[0m\u001b[0;34m\u001b[0m\u001b[0;34m\u001b[0m\u001b[0m\n\u001b[0;32m--> 421\u001b[0;31m             \u001b[0mX\u001b[0m \u001b[0;34m=\u001b[0m \u001b[0mcheck_array\u001b[0m\u001b[0;34m(\u001b[0m\u001b[0mX\u001b[0m\u001b[0;34m,\u001b[0m \u001b[0;34m**\u001b[0m\u001b[0mcheck_params\u001b[0m\u001b[0;34m)\u001b[0m\u001b[0;34m\u001b[0m\u001b[0;34m\u001b[0m\u001b[0m\n\u001b[0m\u001b[1;32m    422\u001b[0m             \u001b[0mout\u001b[0m \u001b[0;34m=\u001b[0m \u001b[0mX\u001b[0m\u001b[0;34m\u001b[0m\u001b[0;34m\u001b[0m\u001b[0m\n\u001b[1;32m    423\u001b[0m         \u001b[0;32melse\u001b[0m\u001b[0;34m:\u001b[0m\u001b[0;34m\u001b[0m\u001b[0;34m\u001b[0m\u001b[0m\n",
            "\u001b[0;32m~/opt/anaconda3/envs/aml/lib/python3.6/site-packages/sklearn/utils/validation.py\u001b[0m in \u001b[0;36minner_f\u001b[0;34m(*args, **kwargs)\u001b[0m\n\u001b[1;32m     61\u001b[0m             \u001b[0mextra_args\u001b[0m \u001b[0;34m=\u001b[0m \u001b[0mlen\u001b[0m\u001b[0;34m(\u001b[0m\u001b[0margs\u001b[0m\u001b[0;34m)\u001b[0m \u001b[0;34m-\u001b[0m \u001b[0mlen\u001b[0m\u001b[0;34m(\u001b[0m\u001b[0mall_args\u001b[0m\u001b[0;34m)\u001b[0m\u001b[0;34m\u001b[0m\u001b[0;34m\u001b[0m\u001b[0m\n\u001b[1;32m     62\u001b[0m             \u001b[0;32mif\u001b[0m \u001b[0mextra_args\u001b[0m \u001b[0;34m<=\u001b[0m \u001b[0;36m0\u001b[0m\u001b[0;34m:\u001b[0m\u001b[0;34m\u001b[0m\u001b[0;34m\u001b[0m\u001b[0m\n\u001b[0;32m---> 63\u001b[0;31m                 \u001b[0;32mreturn\u001b[0m \u001b[0mf\u001b[0m\u001b[0;34m(\u001b[0m\u001b[0;34m*\u001b[0m\u001b[0margs\u001b[0m\u001b[0;34m,\u001b[0m \u001b[0;34m**\u001b[0m\u001b[0mkwargs\u001b[0m\u001b[0;34m)\u001b[0m\u001b[0;34m\u001b[0m\u001b[0;34m\u001b[0m\u001b[0m\n\u001b[0m\u001b[1;32m     64\u001b[0m \u001b[0;34m\u001b[0m\u001b[0m\n\u001b[1;32m     65\u001b[0m             \u001b[0;31m# extra_args > 0\u001b[0m\u001b[0;34m\u001b[0m\u001b[0;34m\u001b[0m\u001b[0;34m\u001b[0m\u001b[0m\n",
            "\u001b[0;32m~/opt/anaconda3/envs/aml/lib/python3.6/site-packages/sklearn/utils/validation.py\u001b[0m in \u001b[0;36mcheck_array\u001b[0;34m(array, accept_sparse, accept_large_sparse, dtype, order, copy, force_all_finite, ensure_2d, allow_nd, ensure_min_samples, ensure_min_features, estimator)\u001b[0m\n\u001b[1;32m    671\u001b[0m                     \u001b[0marray\u001b[0m \u001b[0;34m=\u001b[0m \u001b[0marray\u001b[0m\u001b[0;34m.\u001b[0m\u001b[0mastype\u001b[0m\u001b[0;34m(\u001b[0m\u001b[0mdtype\u001b[0m\u001b[0;34m,\u001b[0m \u001b[0mcasting\u001b[0m\u001b[0;34m=\u001b[0m\u001b[0;34m\"unsafe\"\u001b[0m\u001b[0;34m,\u001b[0m \u001b[0mcopy\u001b[0m\u001b[0;34m=\u001b[0m\u001b[0;32mFalse\u001b[0m\u001b[0;34m)\u001b[0m\u001b[0;34m\u001b[0m\u001b[0;34m\u001b[0m\u001b[0m\n\u001b[1;32m    672\u001b[0m                 \u001b[0;32melse\u001b[0m\u001b[0;34m:\u001b[0m\u001b[0;34m\u001b[0m\u001b[0;34m\u001b[0m\u001b[0m\n\u001b[0;32m--> 673\u001b[0;31m                     \u001b[0marray\u001b[0m \u001b[0;34m=\u001b[0m \u001b[0mnp\u001b[0m\u001b[0;34m.\u001b[0m\u001b[0masarray\u001b[0m\u001b[0;34m(\u001b[0m\u001b[0marray\u001b[0m\u001b[0;34m,\u001b[0m \u001b[0morder\u001b[0m\u001b[0;34m=\u001b[0m\u001b[0morder\u001b[0m\u001b[0;34m,\u001b[0m \u001b[0mdtype\u001b[0m\u001b[0;34m=\u001b[0m\u001b[0mdtype\u001b[0m\u001b[0;34m)\u001b[0m\u001b[0;34m\u001b[0m\u001b[0;34m\u001b[0m\u001b[0m\n\u001b[0m\u001b[1;32m    674\u001b[0m             \u001b[0;32mexcept\u001b[0m \u001b[0mComplexWarning\u001b[0m \u001b[0;32mas\u001b[0m \u001b[0mcomplex_warning\u001b[0m\u001b[0;34m:\u001b[0m\u001b[0;34m\u001b[0m\u001b[0;34m\u001b[0m\u001b[0m\n\u001b[1;32m    675\u001b[0m                 raise ValueError(\"Complex data not supported\\n\"\n",
            "\u001b[0;32m~/opt/anaconda3/envs/aml/lib/python3.6/site-packages/numpy/core/_asarray.py\u001b[0m in \u001b[0;36masarray\u001b[0;34m(a, dtype, order)\u001b[0m\n\u001b[1;32m     81\u001b[0m \u001b[0;34m\u001b[0m\u001b[0m\n\u001b[1;32m     82\u001b[0m     \"\"\"\n\u001b[0;32m---> 83\u001b[0;31m     \u001b[0;32mreturn\u001b[0m \u001b[0marray\u001b[0m\u001b[0;34m(\u001b[0m\u001b[0ma\u001b[0m\u001b[0;34m,\u001b[0m \u001b[0mdtype\u001b[0m\u001b[0;34m,\u001b[0m \u001b[0mcopy\u001b[0m\u001b[0;34m=\u001b[0m\u001b[0;32mFalse\u001b[0m\u001b[0;34m,\u001b[0m \u001b[0morder\u001b[0m\u001b[0;34m=\u001b[0m\u001b[0morder\u001b[0m\u001b[0;34m)\u001b[0m\u001b[0;34m\u001b[0m\u001b[0;34m\u001b[0m\u001b[0m\n\u001b[0m\u001b[1;32m     84\u001b[0m \u001b[0;34m\u001b[0m\u001b[0m\n\u001b[1;32m     85\u001b[0m \u001b[0;34m\u001b[0m\u001b[0m\n",
            "\u001b[0;32m~/opt/anaconda3/envs/aml/lib/python3.6/site-packages/pandas/core/generic.py\u001b[0m in \u001b[0;36m__array__\u001b[0;34m(self, dtype)\u001b[0m\n\u001b[1;32m   1779\u001b[0m \u001b[0;34m\u001b[0m\u001b[0m\n\u001b[1;32m   1780\u001b[0m     \u001b[0;32mdef\u001b[0m \u001b[0m__array__\u001b[0m\u001b[0;34m(\u001b[0m\u001b[0mself\u001b[0m\u001b[0;34m,\u001b[0m \u001b[0mdtype\u001b[0m\u001b[0;34m=\u001b[0m\u001b[0;32mNone\u001b[0m\u001b[0;34m)\u001b[0m \u001b[0;34m->\u001b[0m \u001b[0mnp\u001b[0m\u001b[0;34m.\u001b[0m\u001b[0mndarray\u001b[0m\u001b[0;34m:\u001b[0m\u001b[0;34m\u001b[0m\u001b[0;34m\u001b[0m\u001b[0m\n\u001b[0;32m-> 1781\u001b[0;31m         \u001b[0;32mreturn\u001b[0m \u001b[0mnp\u001b[0m\u001b[0;34m.\u001b[0m\u001b[0masarray\u001b[0m\u001b[0;34m(\u001b[0m\u001b[0mself\u001b[0m\u001b[0;34m.\u001b[0m\u001b[0m_values\u001b[0m\u001b[0;34m,\u001b[0m \u001b[0mdtype\u001b[0m\u001b[0;34m=\u001b[0m\u001b[0mdtype\u001b[0m\u001b[0;34m)\u001b[0m\u001b[0;34m\u001b[0m\u001b[0;34m\u001b[0m\u001b[0m\n\u001b[0m\u001b[1;32m   1782\u001b[0m \u001b[0;34m\u001b[0m\u001b[0m\n\u001b[1;32m   1783\u001b[0m     \u001b[0;32mdef\u001b[0m \u001b[0m__array_wrap__\u001b[0m\u001b[0;34m(\u001b[0m\u001b[0mself\u001b[0m\u001b[0;34m,\u001b[0m \u001b[0mresult\u001b[0m\u001b[0;34m,\u001b[0m \u001b[0mcontext\u001b[0m\u001b[0;34m=\u001b[0m\u001b[0;32mNone\u001b[0m\u001b[0;34m)\u001b[0m\u001b[0;34m:\u001b[0m\u001b[0;34m\u001b[0m\u001b[0;34m\u001b[0m\u001b[0m\n",
            "\u001b[0;32m~/opt/anaconda3/envs/aml/lib/python3.6/site-packages/numpy/core/_asarray.py\u001b[0m in \u001b[0;36masarray\u001b[0;34m(a, dtype, order)\u001b[0m\n\u001b[1;32m     81\u001b[0m \u001b[0;34m\u001b[0m\u001b[0m\n\u001b[1;32m     82\u001b[0m     \"\"\"\n\u001b[0;32m---> 83\u001b[0;31m     \u001b[0;32mreturn\u001b[0m \u001b[0marray\u001b[0m\u001b[0;34m(\u001b[0m\u001b[0ma\u001b[0m\u001b[0;34m,\u001b[0m \u001b[0mdtype\u001b[0m\u001b[0;34m,\u001b[0m \u001b[0mcopy\u001b[0m\u001b[0;34m=\u001b[0m\u001b[0;32mFalse\u001b[0m\u001b[0;34m,\u001b[0m \u001b[0morder\u001b[0m\u001b[0;34m=\u001b[0m\u001b[0morder\u001b[0m\u001b[0;34m)\u001b[0m\u001b[0;34m\u001b[0m\u001b[0;34m\u001b[0m\u001b[0m\n\u001b[0m\u001b[1;32m     84\u001b[0m \u001b[0;34m\u001b[0m\u001b[0m\n\u001b[1;32m     85\u001b[0m \u001b[0;34m\u001b[0m\u001b[0m\n",
            "\u001b[0;31mValueError\u001b[0m: could not convert string to float: 'NK'"
          ]
        }
      ],
      "metadata": {
        "id": "2PPI3TtnZla7",
        "outputId": "93215da7-76cc-4fea-f21c-c9d876cc64b1"
      }
    },
    {
      "cell_type": "code",
      "execution_count": null,
      "source": [
        ""
      ],
      "outputs": [],
      "metadata": {
        "id": "NtTk0hEDZla7"
      }
    }
  ],
  "metadata": {
    "orig_nbformat": 4,
    "language_info": {
      "name": "python",
      "version": "3.6.13",
      "mimetype": "text/x-python",
      "codemirror_mode": {
        "name": "ipython",
        "version": 3
      },
      "pygments_lexer": "ipython3",
      "nbconvert_exporter": "python",
      "file_extension": ".py"
    },
    "kernelspec": {
      "name": "python3",
      "display_name": "Python 3.8.12 64-bit ('aml': conda)"
    },
    "interpreter": {
      "hash": "a12d8fea27beb5e8d37e7c44b330dd32d905e1b12ac1d486fbfe1f8b547961f9"
    },
    "colab": {
      "name": "regressionmodels.ipynb",
      "provenance": []
    }
  },
  "nbformat": 4,
  "nbformat_minor": 0
}