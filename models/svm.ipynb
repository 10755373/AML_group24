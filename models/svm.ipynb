{
 "cells": [
  {
   "cell_type": "code",
   "execution_count": null,
   "id": "2291f7c8",
   "metadata": {},
   "outputs": [],
   "source": [
    "import pandas as pd\n",
    "import seaborn as sns\n",
    "import numpy as np\n",
    "import matplotlib.pyplot as plt\n",
    "import datetime\n",
    "from sklearn.model_selection import train_test_split\n",
    "\n",
    "\n",
    "from sklearn.pipeline import Pipeline\n",
    "from sklearn.preprocessing import OneHotEncoder\n",
    "from sklearn.model_selection import train_test_split\n",
    "from sklearn.compose import ColumnTransformer\n",
    "from sklearn.ensemble import RandomForestRegressor\n",
    "from sklearn.model_selection import cross_val_score\n",
    "from sklearn.model_selection import GridSearchCV\n",
    "\n",
    "from sklearn import svm"
   ]
  },
  {
   "cell_type": "code",
   "execution_count": null,
   "id": "703cc858",
   "metadata": {},
   "outputs": [],
   "source": [
    "from google.colab import files\n",
    "uploaded = files.upload()"
   ]
  },
  {
   "cell_type": "code",
   "execution_count": null,
   "id": "d6b253c0",
   "metadata": {},
   "outputs": [],
   "source": [
    "# data to test and train on\n",
    "\n",
    "flights_test = pd.read_csv('./flights_test.csv')\n",
    "flights_train = pd.read_csv('./flights_train.csv')\n",
    "\n",
    "flights_train = flights_train.sort_values(['AIRLINE', 'FLIGHT_NUMBER']).fillna(method='backfill')\n",
    "flights_test = flights_test.sort_values(['AIRLINE', 'FLIGHT_NUMBER']).fillna(method='backfill')\n"
   ]
  },
  {
   "cell_type": "code",
   "execution_count": null,
   "id": "a0012eb5",
   "metadata": {},
   "outputs": [],
   "source": [
    "def aggregate_date_time(values):\n",
    "    if(len(values) == 5):\n",
    "        year, month, day, time, departure = values\n",
    "        year = int(year)\n",
    "        month = int(month)\n",
    "        day = int(day)\n",
    "        time = int(time)\n",
    "\n",
    "        hour, minutes = int(time/100), time % 100\n",
    "        if(hour == 24):\n",
    "            hour = 0\n",
    "        dateTime = datetime.datetime(year, month, day, hour, minutes)\n",
    "        if( dateTime < departure and (departure-dateTime).total_seconds()/60 > 50):\n",
    "            return dateTime + datetime.timedelta(days=1)\n",
    "        return dateTime\n",
    "\n",
    "       \n",
    "    year, month, day, time = [int(x) for x in values]\n",
    "    hour, minutes = int(time/100), time % 100\n",
    "    if(hour == 24):\n",
    "        hour = 0\n",
    "    return datetime.datetime(year, month, day, hour, minutes)\n",
    "\n",
    "\n",
    "def aggregate_time_in_minutes(dateTime):\n",
    "    return dateTime.hour*60 + dateTime.minute\n",
    "\n",
    "def preprocessing(x): \n",
    "    x['scheduled_departure_date_time'] = x[['YEAR', 'MONTH', 'DAY', 'SCHEDULED_DEPARTURE']].apply(lambda x: aggregate_date_time(x), axis=1)\n",
    "    x['scheduled_departure_date'] = x['scheduled_departure_date_time'].apply(lambda x: x.date())\n",
    "    x['scheduled_departure_timestamp'] = x['scheduled_departure_date_time'].apply(lambda x: x.timestamp())\n",
    "    # x['scheduled_arrival_date_time'] = x[['YEAR', 'MONTH', 'DAY', 'SCHEDULED_ARRIVAL']].apply(lambda x: aggregate_date_time(x), axis=1)\n",
    "    x['departure_date_time'] = x[['YEAR', 'MONTH', 'DAY', 'DEPARTURE_TIME', 'scheduled_departure_date_time']].apply(lambda x: aggregate_date_time(x), axis=1)\n",
    "    x['departure_timestamp'] = x['departure_date_time'].apply(lambda x: x.timestamp())\n",
    "    # x['scheduled_departure_minutes'] = x['scheduled_departure_date_time'].apply(lambda x: aggregate_time_in_minutes(x))\n",
    "    x['initial_delay'] = (x['departure_date_time'] - x['scheduled_departure_date_time']).apply(lambda x: x.total_seconds() / 60)\n",
    "\n",
    "    # aggregate mean of initial_delay during day and origin_airport\n",
    "    delay_at_origin_features = ['ORIGIN_AIRPORT', 'scheduled_departure_date']\n",
    "    groupedX = x.groupby(delay_at_origin_features).agg({'initial_delay': ['sum', 'mean']})\n",
    "    groupedX.columns = ['_'.join(column) for column in groupedX.columns]\n",
    "    x = x.join(groupedX, on=delay_at_origin_features)\n",
    "    return x"
   ]
  },
  {
   "cell_type": "code",
   "execution_count": null,
   "id": "0e4f3162",
   "metadata": {},
   "outputs": [],
   "source": [
    "# Feature Selection\n",
    "flights_train = preprocessing(flights_train)\n",
    "flights_test = preprocessing(flights_test)"
   ]
  },
  {
   "cell_type": "code",
   "execution_count": null,
   "id": "cfe66b9f",
   "metadata": {},
   "outputs": [],
   "source": [
    "origin_features = [\n",
    "            'initial_delay', \n",
    "            'initial_delay_mean',\n",
    "            'DISTANCE', \n",
    "            'DAY',\n",
    "            'DAY_OF_WEEK',\n",
    "            'MONTH',\n",
    "            'ARRIVAL_DELAY'\n",
    "            ]\n",
    "\n",
    "arrival_delay = 'ARRIVAL_DELAY'\n",
    "\n",
    "# using the full set for training\n",
    "training_set = flights_train[origin_features].sample(30000)\n",
    "\n",
    "# separating the variable that is to be predicted by the model from the rest\n",
    "X = training_set.drop(arrival_delay, axis=1)\n",
    "y = training_set[arrival_delay]\n",
    "\n",
    "features = X.columns"
   ]
  },
  {
   "cell_type": "code",
   "execution_count": null,
   "id": "f3125776",
   "metadata": {},
   "outputs": [],
   "source": [
    "X_train, X_test, y_train, y_test = train_test_split(X, y, test_size=0.2)"
   ]
  },
  {
   "cell_type": "code",
   "execution_count": null,
   "id": "02633386",
   "metadata": {},
   "outputs": [],
   "source": [
    "#Create a svm Classifier\n",
    "clf = svm.SVC(kernel='linear') # Linear Kernel\n",
    "\n",
    "#Train the model using the training sets\n",
    "clf.fit(X_train, y_train)\n",
    "\n",
    "#Predict the response for test dataset\n",
    "y_pred = clf.predict(X_test)"
   ]
  },
  {
   "cell_type": "code",
   "execution_count": null,
   "id": "ded277de",
   "metadata": {},
   "outputs": [],
   "source": [
    "from sklearn.metrics import mean_squared_error\n",
    "\n",
    "#rms = mean_squared_error(y_actual, y_predicted, squared=False)"
   ]
  },
  {
   "cell_type": "code",
   "execution_count": null,
   "id": "94cf3c08",
   "metadata": {},
   "outputs": [],
   "source": [
    "#evaluation\n",
    "#score = clf.score(X_test, y_test)\n",
    "mse=mean_squared_error (y_test, y_pred)\n",
    "\n",
    "print(\"R2: \", round(score, 3))\n",
    "print(\"Mean Squared Error: \", round(mean_squared_error, 3))"
   ]
  },
  {
   "cell_type": "code",
   "execution_count": null,
   "id": "68b784cc",
   "metadata": {},
   "outputs": [],
   "source": []
  },
  {
   "cell_type": "code",
   "execution_count": null,
   "id": "2195e681",
   "metadata": {},
   "outputs": [],
   "source": []
  },
  {
   "cell_type": "code",
   "execution_count": null,
   "id": "c0840b7e",
   "metadata": {},
   "outputs": [],
   "source": []
  },
  {
   "cell_type": "code",
   "execution_count": null,
   "id": "9d0da79c",
   "metadata": {},
   "outputs": [],
   "source": []
  }
 ],
 "metadata": {
  "kernelspec": {
   "display_name": "Python 3",
   "language": "python",
   "name": "python3"
  },
  "language_info": {
   "codemirror_mode": {
    "name": "ipython",
    "version": 3
   },
   "file_extension": ".py",
   "mimetype": "text/x-python",
   "name": "python",
   "nbconvert_exporter": "python",
   "pygments_lexer": "ipython3",
   "version": "3.8.8"
  }
 },
 "nbformat": 4,
 "nbformat_minor": 5
}
