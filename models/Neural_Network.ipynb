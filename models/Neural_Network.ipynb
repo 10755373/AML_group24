{
 "cells": [
  {
   "cell_type": "markdown",
   "metadata": {},
   "source": [
    "# First Try with a sequential Neural Network"
   ]
  },
  {
   "cell_type": "code",
   "execution_count": null,
   "metadata": {},
   "outputs": [],
   "source": [
    "import matplotlib.pyplot as plt\n",
    "import numpy as np\n",
    "import pandas as pd\n",
    "\n",
    "from sklearn.model_selection import train_test_split\n",
    "from sklearn.model_selection import cross_val_score\n",
    "from sklearn.model_selection import KFold\n",
    "from sklearn.pipeline import Pipeline\n",
    "from sklearn.preprocessing import MinMaxScaler\n",
    "\n",
    "from tensorflow.python.keras.models import Sequential\n",
    "from tensorflow.python.keras.layers import Dense\n",
    "from tensorflow.python.keras.wrappers.scikit_learn import KerasRegressor\n",
    "\n",
    "from functions import *\n",
    "from data_loading import load_data"
   ]
  },
  {
   "cell_type": "markdown",
   "metadata": {},
   "source": [
    "Heavily inspired by [this tutorial](https://towardsdatascience.com/regression-based-neural-networks-with-tensorflow-v2-0-predicting-average-daily-rates-e20fffa7ac9a)"
   ]
  },
  {
   "cell_type": "code",
   "execution_count": null,
   "metadata": {},
   "outputs": [],
   "source": [
    "flights_test, flights_train = load_data()"
   ]
  },
  {
   "cell_type": "code",
   "execution_count": null,
   "metadata": {},
   "outputs": [],
   "source": [
    "origin_features = [\n",
    "            'initial_delay', \n",
    "            'initial_delay_mean',\n",
    "            # 'ORIGIN_AIRPORT',\n",
    "            # 'DESTINATION_AIRPORT',\n",
    "            'DISTANCE', \n",
    "            'DAY',\n",
    "            'DAY_OF_WEEK',\n",
    "            'MONTH',\n",
    "            'ARRIVAL_DELAY'\n",
    "            ]\n",
    "\n",
    "features_test = np.array([a for a in origin_features if a != 'ARRIVAL_DELAY'])\n",
    "submission_set = test_set[features_test]\n",
    "\n",
    "# only do this if you got categorical features\n",
    "# submission_set = pd.get_dummies(submission_set)\n",
    "\n",
    "arrival_delay = 'ARRIVAL_DELAY'\n",
    "\n",
    "# if the full set should be used for training\n",
    "# training_subset = training_set[origin_features]\n",
    "training_subset = training_set.sample(300000)[origin_features]\n",
    "\n",
    "# separating the variable that is to be predicted by the model from the rest\n",
    "X = training_subset.drop(arrival_delay, axis=1)\n",
    "y = training_subset[arrival_delay]\n",
    "\n",
    "# simple way of one-hot encoding (if categorical features are in the training set)\n",
    "# X = pd.get_dummies(X)\n",
    "# X = X[submission_set.columns]\n",
    "\n",
    "features = X.columns\n",
    "\n",
    "# built a validation set on flights_train\n",
    "X_train, X_val, y_train, y_val = train_test_split(X, y, test_size=0.2)"
   ]
  },
  {
   "cell_type": "code",
   "execution_count": null,
   "metadata": {},
   "outputs": [],
   "source": [
    "scaler_x = MinMaxScaler()\n",
    "scaler_y = MinMaxScaler()\n",
    "\n",
    "print(y_train.shape)\n",
    "y_train = np.reshape([y_train], (-1,1))\n",
    "\n",
    "print(y_val.shape)\n",
    "y_val = np.reshape([y_val], (-1,1))\n",
    "\n",
    "print(scaler_x.fit(X_train))\n",
    "X_train_scale=scaler_x.transform(X_train)\n",
    "\n",
    "print(scaler_y.fit(y_train))\n",
    "y_train_scale=scaler_y.transform(y_train)\n",
    "\n",
    "\n",
    "\n",
    "print(scaler_x.fit(X_val))\n",
    "X_val_scale=scaler_x.transform(X_val)\n",
    "\n",
    "print(scaler_y.fit(y_val))\n",
    "y_val_scale=scaler_y.transform(y_val)"
   ]
  },
  {
   "cell_type": "markdown",
   "metadata": {},
   "source": [
    "## Creation of Model"
   ]
  },
  {
   "cell_type": "code",
   "execution_count": null,
   "metadata": {},
   "outputs": [],
   "source": [
    "model = Sequential()\n",
    "\n",
    "# input_dim should be the same as the amount of features\n",
    "model.add(Dense(12, input_dim=len(features_test), kernel_initializer='normal', activation='relu'))\n",
    "model.add(Dense(8, activation='relu'))\n",
    "model.add(Dense(1, activation='linear'))\n",
    "model.summary()\n"
   ]
  },
  {
   "cell_type": "code",
   "execution_count": null,
   "metadata": {},
   "outputs": [],
   "source": [
    "\n",
    "model.compile(loss='mse', optimizer='adam', metrics=['mse','mae'])"
   ]
  },
  {
   "cell_type": "markdown",
   "metadata": {},
   "source": [
    "## Training of Model"
   ]
  },
  {
   "cell_type": "code",
   "execution_count": null,
   "metadata": {},
   "outputs": [],
   "source": [
    "history = model.fit(X_train_scale, y_train_scale, epochs=80, batch_size=50,  verbose=1, validation_split=0.2)"
   ]
  },
  {
   "cell_type": "markdown",
   "metadata": {},
   "source": [
    "## Visualisation of Learning"
   ]
  },
  {
   "cell_type": "code",
   "execution_count": null,
   "metadata": {},
   "outputs": [],
   "source": [
    "print(history.history.keys())\n",
    "# \"Loss\"\n",
    "plt.plot(history.history['loss'])\n",
    "plt.plot(history.history['val_loss'])\n",
    "plt.title('model loss')\n",
    "plt.ylabel('loss')\n",
    "plt.xlabel('epoch')\n",
    "plt.legend(['train', 'validation'], loc='upper left')\n",
    "plt.show()"
   ]
  },
  {
   "cell_type": "markdown",
   "metadata": {},
   "source": [
    "## Create Prediction"
   ]
  },
  {
   "cell_type": "code",
   "execution_count": null,
   "metadata": {},
   "outputs": [],
   "source": [
    "y_pred_scale = model.predict(X_val_scale)\n",
    "# invert normalize\n",
    "y_val_inv = scaler_y.inverse_transform(y_val_scale) \n",
    "y_pred_inv = scaler_y.inverse_transform(y_pred_scale) \n",
    "X_val_inv = scaler_x.inverse_transform(X_val_scale)\n",
    "\n",
    "print(range(0, len(y_val)))\n",
    "predictions = pd.DataFrame({\"actual\": y_val_inv.reshape(1, -1)[0], \"predicted\": y_pred_inv.reshape(1, -1)[0]}, index=range(0, len(y_val)))\n",
    "\n",
    "mse(predictions['actual'], predictions['predicted'])"
   ]
  }
 ],
 "metadata": {
  "interpreter": {
   "hash": "10ad6a40b9d4ad7996ae181d0f93a12cd891ffe7bf54b97f16f3d8f70a85a36d"
  },
  "kernelspec": {
   "display_name": "Python 3.9.6 64-bit ('fds': conda)",
   "language": "python",
   "name": "python3"
  },
  "language_info": {
   "name": "python",
   "version": "3.9.6"
  },
  "orig_nbformat": 4
 },
 "nbformat": 4,
 "nbformat_minor": 2
}
