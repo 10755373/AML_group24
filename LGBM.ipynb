{
  "cells": [
    {
      "cell_type": "markdown",
      "metadata": {
        "id": "V0J-FyWMdPvT"
      },
      "source": [
        "# LGBM"
      ]
    },
    {
      "cell_type": "code",
      "execution_count": null,
      "metadata": {
        "id": "9UPUC6NCdPvX",
        "outputId": "389aca6a-8df6-40ac-c27f-b083e3de23b0"
      },
      "outputs": [
        {
          "name": "stdout",
          "output_type": "stream",
          "text": [
            "source: Error encountered while sourcing file '/usr/local/opt/nvm/nvm.sh':\n",
            "source: No such file or directory\n",
            "Collecting lightgbm\n",
            "  Downloading lightgbm-3.3.1-py3-none-macosx_10_14_x86_64.macosx_10_15_x86_64.macosx_11_0_x86_64.whl (1.2 MB)\n",
            "\u001b[K     |████████████████████████████████| 1.2 MB 8.8 MB/s \n",
            "\u001b[?25hRequirement already satisfied: scikit-learn!=0.22.0 in /opt/anaconda3/lib/python3.8/site-packages (from lightgbm) (0.24.1)\n",
            "Requirement already satisfied: wheel in /opt/anaconda3/lib/python3.8/site-packages (from lightgbm) (0.36.2)\n",
            "Requirement already satisfied: numpy in /opt/anaconda3/lib/python3.8/site-packages (from lightgbm) (1.20.1)\n",
            "Requirement already satisfied: scipy in /opt/anaconda3/lib/python3.8/site-packages (from lightgbm) (1.6.2)\n",
            "Requirement already satisfied: threadpoolctl>=2.0.0 in /opt/anaconda3/lib/python3.8/site-packages (from scikit-learn!=0.22.0->lightgbm) (2.1.0)\n",
            "Requirement already satisfied: joblib>=0.11 in /opt/anaconda3/lib/python3.8/site-packages (from scikit-learn!=0.22.0->lightgbm) (1.0.1)\n",
            "Installing collected packages: lightgbm\n",
            "Successfully installed lightgbm-3.3.1\n"
          ]
        }
      ],
      "source": [
        "!pip install lightgbm"
      ]
    },
    {
      "cell_type": "code",
      "execution_count": 1,
      "metadata": {
        "id": "b7Vsd1m6dPvZ"
      },
      "outputs": [],
      "source": [
        "import lightgbm as lgbm\n",
        "\n",
        "from functions import *\n",
        "from data_loading import load_data\n",
        "\n",
        "import pandas as pd\n",
        "import seaborn as sns\n",
        "import numpy as np\n",
        "import matplotlib.pyplot as plt\n",
        "import datetime\n",
        "\n",
        "from sklearn.model_selection import train_test_split\n",
        "\n",
        "\n",
        "sns.set_theme(style=\"darkgrid\")\n"
      ]
    },
    {
      "cell_type": "code",
      "execution_count": 2,
      "metadata": {
        "id": "H-e86r-adPva"
      },
      "outputs": [],
      "source": [
        "flights_test, flights_train = load_data()"
      ]
    },
    {
      "cell_type": "markdown",
      "metadata": {
        "id": "Iz-oNLbodPvb"
      },
      "source": [
        "## Feature selection with LGBM"
      ]
    },
    {
      "cell_type": "code",
      "execution_count": 45,
      "metadata": {
        "id": "s7Ul8TANdPvb",
        "outputId": "b9b0e7e5-2189-40f2-cda2-c94edd86f580",
        "colab": {
          "base_uri": "https://localhost:8080/"
        }
      },
      "outputs": [
        {
          "output_type": "stream",
          "name": "stdout",
          "text": [
            "(160000, 13)\n",
            "(160000,)\n",
            "(160000, 13)\n",
            "(160000,)\n"
          ]
        }
      ],
      "source": [
        "training_set = flights_train.sample(200000)\n",
        "\n",
        "training_set.columns\n",
        "\n",
        "features_train = ['MONTH', 'DAY', 'DAY_OF_WEEK',\n",
        "                  'SCHEDULED_DEPARTURE', 'DEPARTURE_TIME', 'TAXI_OUT', 'WHEELS_OFF',\n",
        "                  'SCHEDULED_TIME', 'DISTANCE', 'SCHEDULED_ARRIVAL',\n",
        "                  #  'scheduled_departure_date_time',\n",
        "                  #  'scheduled_departure_date',\n",
        "                  'scheduled_departure_timestamp',\n",
        "                  #  'departure_date_time',\n",
        "                  'departure_timestamp',\n",
        "                  'initial_delay']\n",
        "\n",
        "target_train = 'ARRIVAL_DELAY'\n",
        "\n",
        "categorical_features = ['AIRLINE', 'FLIGHT_NUMBER',\n",
        "                        'TAIL_NUMBER', 'ORIGIN_AIRPORT', 'DESTINATION_AIRPORT']\n",
        "\n",
        "X_train, X_val, y_train, y_val = train_test_split(\n",
        "    training_set[features_train], training_set[target_train], test_size=0.2)\n",
        "\n",
        "from sklearn.preprocessing import MinMaxScaler\n",
        "\n",
        "print(X_train.shape)\n",
        "print(y_train.shape)\n",
        "\n",
        "y_val = np.reshape([y_val], (-1,1))\n",
        "y_train = np.reshape([y_train], (-1,1))\n",
        "\n",
        "x_scaler = MinMaxScaler()\n",
        "y_scaler = MinMaxScaler()\n",
        "\n",
        "x_scaler.fit(X_val)\n",
        "X_val = x_scaler.transform(X_val)\n",
        "\n",
        "x_scaler.fit(X_train)\n",
        "X_train = x_scaler.transform(X_train)\n",
        "\n",
        "y_scaler.fit(y_train)\n",
        "y_train = y_scaler.transform(y_train).flatten()\n",
        "\n",
        "print(X_train.shape)\n",
        "print(y_train.shape)\n"
      ]
    },
    {
      "cell_type": "code",
      "execution_count": 43,
      "metadata": {
        "id": "5z3HLVeTdPvd"
      },
      "outputs": [],
      "source": [
        "train_data = lgbm.Dataset(X_train, label=y_train)#, categorical_feature=categorical_features)\n",
        "\n",
        "test_data = lgbm.Dataset(X_val, label=y_val)#, categorical_feature=categorical_features)"
      ]
    },
    {
      "cell_type": "code",
      "execution_count": 46,
      "metadata": {
        "colab": {
          "base_uri": "https://localhost:8080/",
          "height": 1000
        },
        "id": "g278CEE7dPvd",
        "outputId": "bcbd02b6-9b49-4b20-95c2-bf96439f2d25"
      },
      "outputs": [
        {
          "output_type": "stream",
          "name": "stdout",
          "text": [
            "[1]\tvalid_0's l2: 0.999988\n",
            "Training until validation scores don't improve for 100 rounds.\n",
            "[2]\tvalid_0's l2: 0.999989\n",
            "[3]\tvalid_0's l2: 0.999989\n",
            "[4]\tvalid_0's l2: 0.999989\n",
            "[5]\tvalid_0's l2: 0.999989\n",
            "[6]\tvalid_0's l2: 0.999989\n",
            "[7]\tvalid_0's l2: 0.999989\n",
            "[8]\tvalid_0's l2: 0.999989\n",
            "[9]\tvalid_0's l2: 0.999989\n",
            "[10]\tvalid_0's l2: 0.999989\n",
            "[11]\tvalid_0's l2: 0.999989\n",
            "[12]\tvalid_0's l2: 0.999989\n",
            "[13]\tvalid_0's l2: 0.999989\n",
            "[14]\tvalid_0's l2: 0.999989\n",
            "[15]\tvalid_0's l2: 0.999989\n",
            "[16]\tvalid_0's l2: 0.999989\n",
            "[17]\tvalid_0's l2: 0.999989\n",
            "[18]\tvalid_0's l2: 0.999989\n",
            "[19]\tvalid_0's l2: 0.999989\n",
            "[20]\tvalid_0's l2: 0.999989\n",
            "[21]\tvalid_0's l2: 0.999989\n",
            "[22]\tvalid_0's l2: 0.999989\n",
            "[23]\tvalid_0's l2: 0.999989\n",
            "[24]\tvalid_0's l2: 0.999989\n",
            "[25]\tvalid_0's l2: 0.999989\n",
            "[26]\tvalid_0's l2: 0.999989\n",
            "[27]\tvalid_0's l2: 0.999989\n",
            "[28]\tvalid_0's l2: 0.999989\n",
            "[29]\tvalid_0's l2: 0.999989\n",
            "[30]\tvalid_0's l2: 0.999989\n",
            "[31]\tvalid_0's l2: 0.999989\n",
            "[32]\tvalid_0's l2: 0.999989\n",
            "[33]\tvalid_0's l2: 0.999989\n",
            "[34]\tvalid_0's l2: 0.999989\n",
            "[35]\tvalid_0's l2: 0.999989\n",
            "[36]\tvalid_0's l2: 0.999989\n",
            "[37]\tvalid_0's l2: 0.999989\n",
            "[38]\tvalid_0's l2: 0.999989\n",
            "[39]\tvalid_0's l2: 0.999989\n",
            "[40]\tvalid_0's l2: 0.999989\n",
            "[41]\tvalid_0's l2: 0.999989\n",
            "[42]\tvalid_0's l2: 0.999989\n",
            "[43]\tvalid_0's l2: 0.999989\n",
            "[44]\tvalid_0's l2: 0.999989\n",
            "[45]\tvalid_0's l2: 0.999989\n",
            "[46]\tvalid_0's l2: 0.999989\n",
            "[47]\tvalid_0's l2: 0.999989\n",
            "[48]\tvalid_0's l2: 0.999989\n",
            "[49]\tvalid_0's l2: 0.999989\n",
            "[50]\tvalid_0's l2: 0.999989\n",
            "[51]\tvalid_0's l2: 0.999989\n",
            "[52]\tvalid_0's l2: 0.999989\n",
            "[53]\tvalid_0's l2: 0.999989\n",
            "[54]\tvalid_0's l2: 0.999989\n",
            "[55]\tvalid_0's l2: 0.999989\n",
            "[56]\tvalid_0's l2: 0.999989\n",
            "[57]\tvalid_0's l2: 0.999989\n",
            "[58]\tvalid_0's l2: 0.999989\n",
            "[59]\tvalid_0's l2: 0.999989\n",
            "[60]\tvalid_0's l2: 0.999989\n",
            "[61]\tvalid_0's l2: 0.999989\n",
            "[62]\tvalid_0's l2: 0.999989\n",
            "[63]\tvalid_0's l2: 0.999989\n",
            "[64]\tvalid_0's l2: 0.999989\n",
            "[65]\tvalid_0's l2: 0.999989\n",
            "[66]\tvalid_0's l2: 0.999989\n",
            "[67]\tvalid_0's l2: 0.999989\n",
            "[68]\tvalid_0's l2: 0.999989\n",
            "[69]\tvalid_0's l2: 0.999989\n",
            "[70]\tvalid_0's l2: 0.999989\n",
            "[71]\tvalid_0's l2: 0.999989\n",
            "[72]\tvalid_0's l2: 0.999989\n",
            "[73]\tvalid_0's l2: 0.999989\n",
            "[74]\tvalid_0's l2: 0.999989\n",
            "[75]\tvalid_0's l2: 0.999989\n",
            "[76]\tvalid_0's l2: 0.999989\n",
            "[77]\tvalid_0's l2: 0.999989\n",
            "[78]\tvalid_0's l2: 0.999989\n",
            "[79]\tvalid_0's l2: 0.999989\n",
            "[80]\tvalid_0's l2: 0.999989\n",
            "[81]\tvalid_0's l2: 0.999989\n",
            "[82]\tvalid_0's l2: 0.999989\n",
            "[83]\tvalid_0's l2: 0.999989\n",
            "[84]\tvalid_0's l2: 0.999989\n",
            "[85]\tvalid_0's l2: 0.999989\n",
            "[86]\tvalid_0's l2: 0.999989\n",
            "[87]\tvalid_0's l2: 0.999989\n",
            "[88]\tvalid_0's l2: 0.999989\n",
            "[89]\tvalid_0's l2: 0.999989\n",
            "[90]\tvalid_0's l2: 0.999989\n",
            "[91]\tvalid_0's l2: 0.999989\n",
            "[92]\tvalid_0's l2: 0.999989\n",
            "[93]\tvalid_0's l2: 0.999989\n",
            "[94]\tvalid_0's l2: 0.999989\n",
            "[95]\tvalid_0's l2: 0.999989\n",
            "[96]\tvalid_0's l2: 0.999989\n",
            "[97]\tvalid_0's l2: 0.999989\n",
            "[98]\tvalid_0's l2: 0.999989\n",
            "[99]\tvalid_0's l2: 0.999989\n",
            "[100]\tvalid_0's l2: 0.999989\n",
            "[101]\tvalid_0's l2: 0.999989\n",
            "Early stopping, best iteration is:\n",
            "[1]\tvalid_0's l2: 0.999988\n"
          ]
        },
        {
          "output_type": "display_data",
          "data": {
            "image/png": "[encoded data removed]",
            "text/plain": [
              "<Figure size 1080x1080 with 1 Axes>"
            ]
          },
          "metadata": {
            "needs_background": "light"
          }
        }
      ],
      "source": [
        "#basic parameter:\n",
        "parameters = {\n",
        "    'application': 'binary',\n",
        "    'objective': 'binary',\n",
        "    'metric': 'mse',\n",
        "    'is_unbalance': 'true',\n",
        "    'boosting': 'gbdt',\n",
        "    'num_leaves': 25,\n",
        "    'feature_fraction': 0.5,\n",
        "    'bagging_fraction': 0.5,\n",
        "    'bagging_freq': 20,\n",
        "    'learning_rate': 0.05,\n",
        "    'verbose': 0\n",
        "}\n",
        "\n",
        "model = lgbm.train(parameters,\n",
        "                       train_data,\n",
        "                       valid_sets=test_data,\n",
        "                       num_boost_round=500,\n",
        "                       early_stopping_rounds=100\n",
        "                   )\n",
        "\n",
        "\n",
        "ax = lgbm.plot_importance(model, max_num_features=40, figsize=(15, 15))\n",
        "plt.show()\n"
      ]
    },
    {
      "cell_type": "markdown",
      "metadata": {
        "id": "Y7wBF5jtdPve"
      },
      "source": [
        "## LGBM Regressor"
      ]
    },
    {
      "cell_type": "code",
      "execution_count": 38,
      "metadata": {
        "id": "2draVxHBdPvf"
      },
      "outputs": [],
      "source": [
        "important_features = ['DISTANCE', 'SCHEDULED_TIME', 'initial_delay',\n",
        "                      'SCHEDULED_ARRIVAL', 'scheduled_departure_timestamp',\n",
        "                      'TAXI_OUT', 'SCHEDULED_DEPARTURE', 'DEPARTURE_TIME',\n",
        "                      'WHEELS_OFF', 'departure_timestamp', 'DAY', \n",
        "                      # 'FLIGHT_NUMBER', 'TAIL_NUMBER', \n",
        "                      # 'ORIGIN_AIRPORT', 'DESTINATION_AIRPORT'\n",
        "                      ]\n",
        "\n",
        "training_set = flights_train.sample(300000)\n",
        "\n",
        "X_train, X_val, y_train, y_val = train_test_split(training_set[important_features], training_set['ARRIVAL_DELAY'], test_size=0.2)\n",
        "\n",
        "# from sklearn.preprocessing import MinMaxScaler\n",
        "\n",
        "# y_val = np.reshape([y_val], (-1,1))\n",
        "# y_train = np.reshape([y_train], (-1,1))\n",
        "\n",
        "# x_scaler = MinMaxScaler()\n",
        "# y_scaler = MinMaxScaler()\n",
        "\n",
        "# x_scaler.fit(X_val)\n",
        "# X_val = x_scaler.transform(X_val)\n",
        "\n",
        "# x_scaler.fit(X_train)\n",
        "# X_train = x_scaler.transform(X_train)\n",
        "\n",
        "# y_scaler.fit(y_train)\n",
        "# y_train = y_scaler.transform(y_train).flatten()\n",
        "\n"
      ]
    },
    {
      "cell_type": "code",
      "execution_count": 39,
      "metadata": {
        "id": "_q6uniFsdPvf"
      },
      "outputs": [],
      "source": [
        "# {'learning_rate': 0.003, 'max_depth': 25, 'metric': 'mse', 'min_data_in_leaf': 500, 'num_leaves': 35} -> MSE 983.560\n",
        "# {'learning_rate': 0.005, 'max_depth': 15, 'metric': 'mse', 'min_data_in_leaf': 300, 'num_leaves': 40} -> MSE 719.125\n",
        "# {'learning_rate': 0.008, 'max_depth': 10, 'metric': 'mse', 'min_data_in_leaf': 150, 'num_leaves': 50} -> MSE 466.621\n",
        "# {'learning_rate': 0.02, 'max_depth': 9, 'metric': 'mse', 'min_data_in_leaf': 70, 'num_leaves': 70} -> MSE 176.565\n",
        "\n",
        "hyper_params = {\n",
        "    'random_state': 420,\n",
        "    'task': 'train',\n",
        "    'boosting_type': 'gbdt',\n",
        "    'objective': 'regression',\n",
        "    'metric': ['mse'],\n",
        "    'learning_rate': 0.1,\n",
        "    \"num_leaves\": 256,\n",
        "    'max_depth': 9,\n",
        "    # 'min_data_in_leaf': 70,\n",
        "    # \"max_bin\": 512,\n",
        "}\n",
        "\n",
        "train_data = lgbm.Dataset(X_train, label=y_train, categorical_feature='auto')\n",
        "test_data = lgbm.Dataset(X_val, label=y_val, categorical_feature='auto')\n",
        "\n",
        "model = lgbm.train(hyper_params, train_data, num_boost_round=500, verbose_eval=False)"
      ]
    },
    {
      "cell_type": "markdown",
      "metadata": {
        "id": "D6tV7B7LRVr6"
      },
      "source": [
        "## Model Loading and Saving"
      ]
    },
    {
      "cell_type": "code",
      "execution_count": null,
      "metadata": {
        "id": "T42AStExRVr7"
      },
      "outputs": [],
      "source": [
        "import pickle\n",
        "\n",
        "# save\n",
        "with open('models/LGBM_MSE_minmax.pkl','wb') as f:\n",
        "    pickle.dump(model,f)\n",
        "\n",
        "# # load\n",
        "# with open('models/LGBM_MSE_94_29.pkl', 'rb') as f:\n",
        "#     model = pickle.load(f)"
      ]
    },
    {
      "cell_type": "markdown",
      "metadata": {
        "id": "eZTOn56vRVr7"
      },
      "source": [
        "## Evaluation"
      ]
    },
    {
      "cell_type": "code",
      "execution_count": 40,
      "metadata": {
        "id": "AOkQ_2M-dPvg"
      },
      "outputs": [],
      "source": [
        "y_pred = model.predict(X_val)\n",
        "# y_pred = y_scaler.inverse_transform(y_pred.reshape(-1,1)).flatten()\n",
        "# y_val = y_val.flatten()\n",
        "\n",
        "predictions = pd.DataFrame({'predicted': y_pred, 'actual': y_val})"
      ]
    },
    {
      "cell_type": "code",
      "execution_count": 41,
      "metadata": {
        "colab": {
          "base_uri": "https://localhost:8080/"
        },
        "id": "OzuyYxPHdPvg",
        "outputId": "63e2cfb7-3d8a-48bc-f94d-a4003a31ba46"
      },
      "outputs": [
        {
          "output_type": "execute_result",
          "data": {
            "text/plain": [
              "94.64192937166169"
            ]
          },
          "metadata": {},
          "execution_count": 41
        }
      ],
      "source": [
        "mse(predictions['actual'], predictions['predicted'])\n",
        "# 94.29060620975959\n",
        "# 99.96015202124698 (after loading)"
      ]
    },
    {
      "cell_type": "markdown",
      "metadata": {
        "id": "2SGYcvFnRVr8"
      },
      "source": [
        "## Hyperparameter Tuning"
      ]
    },
    {
      "cell_type": "code",
      "execution_count": null,
      "metadata": {
        "id": "36AZXr4-RVr8"
      },
      "outputs": [],
      "source": [
        "param_grid = {\n",
        "    'max_depth': [9, 10],\n",
        "    'min_data_in_leaf': [70, 75],\n",
        "    # 'feature_fraction': [0.6, 0.8],\n",
        "    # 'bagging_fraction': [],\n",
        "    # 'early_stopping_round': [50, 100],\n",
        "    # 'lambda': [0, 0.5, 1],\n",
        "    # 'min_gain_to_split': [],\n",
        "    # 'num_boost_round': [100, 150, 200],\n",
        "    'learning_rate': [0.01, 0.02],\n",
        "    'num_leaves': [50, 70],\n",
        "    'metric': ['mse']\n",
        "}\n",
        "\n",
        "CV = GridSearchCV(estimator=lgbm.LGBMRegressor(random_state=420), param_grid=param_grid, cv=5)\n",
        "CV.fit(X_train, y_train)\n",
        "print(CV.best_params_)\n",
        "print(CV.best_score_)"
      ]
    },
    {
      "cell_type": "markdown",
      "metadata": {
        "id": "FbWkZfKqdPvh"
      },
      "source": [
        "## Creating Submission"
      ]
    },
    {
      "cell_type": "code",
      "execution_count": null,
      "metadata": {
        "id": "jrJZgsE3dPvh",
        "outputId": "4f7f6c16-8dea-4631-f989-dfcd05554d31"
      },
      "outputs": [
        {
          "name": "stdout",
          "output_type": "stream",
          "text": [
            "514384\n"
          ]
        }
      ],
      "source": [
        "predictions = model.predict(flights_test[important_features])\n",
        "\n",
        "submission = pd.DataFrame({'id': flights_test['id'], 'ARRIVAL_DELAY': predictions})\n",
        "submission.to_csv('submissions/submission_6_LGBM.csv', index=False)\n",
        "\n",
        "# submission must have 514,384 rows\n",
        "print(len(submission))"
      ]
    }
  ],
  "metadata": {
    "colab": {
      "name": "LGBM.ipynb",
      "provenance": []
    },
    "interpreter": {
      "hash": "10ad6a40b9d4ad7996ae181d0f93a12cd891ffe7bf54b97f16f3d8f70a85a36d"
    },
    "kernelspec": {
      "display_name": "Python 3.9.6 64-bit ('fds': conda)",
      "language": "python",
      "name": "python3"
    },
    "language_info": {
      "codemirror_mode": {
        "name": "ipython",
        "version": 3
      },
      "file_extension": ".py",
      "mimetype": "text/x-python",
      "name": "python",
      "nbconvert_exporter": "python",
      "pygments_lexer": "ipython3",
      "version": "3.9.6"
    },
    "orig_nbformat": 4
  },
  "nbformat": 4,
  "nbformat_minor": 0
}