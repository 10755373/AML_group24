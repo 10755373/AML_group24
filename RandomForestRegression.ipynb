{
 "cells": [
  {
   "cell_type": "markdown",
   "metadata": {},
   "source": [
    "# Random Forest Regression"
   ]
  },
  {
   "cell_type": "code",
   "execution_count": 2,
   "metadata": {},
   "outputs": [],
   "source": [
    "from functions import *\n",
    "\n",
    "import pandas as pd\n",
    "import seaborn as sns\n",
    "import numpy as np\n",
    "import matplotlib.pyplot as plt\n",
    "import datetime\n",
    "\n",
    "sns.set_theme(style=\"darkgrid\")\n",
    "\n",
    "\n",
    "from sklearn.pipeline import Pipeline\n",
    "from sklearn.preprocessing import OneHotEncoder\n",
    "from sklearn.model_selection import train_test_split\n",
    "from sklearn.compose import ColumnTransformer\n",
    "from sklearn.ensemble import RandomForestRegressor\n",
    "from sklearn.model_selection import cross_val_score\n",
    "from sklearn.model_selection import GridSearchCV\n",
    "\n"
   ]
  },
  {
   "cell_type": "code",
   "execution_count": null,
   "metadata": {},
   "outputs": [],
   "source": [
    "flights_test = pd.read_csv('./flights_test.csv')\n",
    "flights_train = pd.read_csv('./flights_train.csv')\n",
    "\n",
    "flights_train = flights_train.sort_values(['AIRLINE', 'FLIGHT_NUMBER']).fillna(method='backfill')\n",
    "flights_test = flights_test.sort_values(['AIRLINE', 'FLIGHT_NUMBER']).fillna(method='backfill')\n",
    "\n",
    "print(len(flights_test))\n",
    "print(len(flights_train))"
   ]
  },
  {
   "cell_type": "code",
   "execution_count": null,
   "metadata": {},
   "outputs": [],
   "source": [
    "# Feature Selection\n",
    "flights_train = preprocessing(flights_train)\n",
    "flights_test = preprocessing(flights_test)\n",
    "\n",
    "sns.scatterplot(y='ARRIVAL_DELAY', x='initial_delay', data= training_set)"
   ]
  },
  {
   "cell_type": "code",
   "execution_count": null,
   "metadata": {},
   "outputs": [],
   "source": [
    "origin_features = [\n",
    "            'initial_delay', \n",
    "            'initial_delay_mean',\n",
    "            # 'ORIGIN_AIRPORT',\n",
    "            # 'DESTINATION_AIRPORT',\n",
    "            'DISTANCE', \n",
    "            'DAY',\n",
    "            'DAY_OF_WEEK',\n",
    "            'MONTH',\n",
    "            'ARRIVAL_DELAY'\n",
    "            ]\n",
    "\n",
    "arrival_delay = 'ARRIVAL_DELAY'\n",
    "\n",
    "# using the full set for training\n",
    "training_set = flights_train[origin_features].sample(300000)\n",
    "\n",
    "# separating the variable that is to be predicted by the model from the rest\n",
    "X = training_set.drop(arrival_delay, axis=1)\n",
    "y = training_set[arrival_delay]\n",
    "\n",
    "features = X.columns\n",
    "\n",
    "# built a validation set on flights_train\n",
    "X_train, X_test, y_train, y_test = train_test_split(X, y, test_size=0.2)"
   ]
  },
  {
   "cell_type": "markdown",
   "metadata": {},
   "source": [
    "## Training "
   ]
  },
  {
   "cell_type": "code",
   "execution_count": null,
   "metadata": {},
   "outputs": [],
   "source": [
    "\n",
    "rfr = RandomForestRegressor(n_estimators=12, max_depth=8, random_state=42)\n",
    "\n",
    "# {'max_depth': 8, 'max_features': 'auto', 'n_estimators': 12}\n",
    "rf = Pipeline(steps=[#('preprocessor', preprocessor),\n",
    "                     ('regressor', rfr)])\n",
    "\n",
    "# cv_scores = cross_val_score(rf, X, y, cv=5)\n",
    "# print(cv_scores)\n",
    "rf.fit(X_train, y_train)"
   ]
  },
  {
   "cell_type": "markdown",
   "metadata": {},
   "source": [
    "## Evaluation"
   ]
  },
  {
   "cell_type": "code",
   "execution_count": null,
   "metadata": {},
   "outputs": [],
   "source": [
    "y_pred = rf.predict(X_test)\n",
    "score = rf.score(X_test, y_test)\n",
    "mean_squared_error = mse(y_test, y_pred)\n",
    "\n",
    "print(\"R2: \", round(score, 3))\n",
    "print(\"Mean Squared Error: \", round(mean_squared_error, 3))"
   ]
  },
  {
   "cell_type": "markdown",
   "metadata": {},
   "source": [
    "## Creating Submission"
   ]
  },
  {
   "cell_type": "code",
   "execution_count": null,
   "metadata": {},
   "outputs": [],
   "source": [
    "predictions = rf.predict(flights_test)\n",
    "\n",
    "submission = pd.DataFrame({'id': flights_test['id'], 'ARRIVAL_DELAY': predictions})\n",
    "submission.to_csv('submission_5.csv', index=False)\n",
    "\n",
    "# submission must have 514,384 rows\n",
    "print(len(submission))"
   ]
  },
  {
   "cell_type": "markdown",
   "metadata": {},
   "source": [
    "## Hyperparameter Tuning\n",
    "\n",
    "With the help of GridSearch we can try to fine-tune the random forest regression, determining what is the optimal number of trees to get the best score.\n",
    "\n",
    "Depending on the amount of hyperparameters you can defined in the param_grid, this can take a while..."
   ]
  },
  {
   "cell_type": "code",
   "execution_count": null,
   "metadata": {},
   "outputs": [],
   "source": [
    "param_grid = {\n",
    "    'n_estimators': [12, 21],\n",
    "    'max_features': ['auto', 'sqrt', 'log2'],\n",
    "    'max_depth': [4, 5, 6, 7, 8]\n",
    "    # 'criterion': ['gini', 'entropy']\n",
    "}\n",
    "\n",
    "CV = GridSearchCV(estimator=RandomForestRegressor(), param_grid=param_grid, cv=5)\n",
    "CV.fit(X_train, y_train)\n",
    "print(CV.best_params_)\n",
    "print(CV.best_score_)"
   ]
  }
 ],
 "metadata": {
  "interpreter": {
   "hash": "10ad6a40b9d4ad7996ae181d0f93a12cd891ffe7bf54b97f16f3d8f70a85a36d"
  },
  "kernelspec": {
   "display_name": "Python 3.9.6 64-bit ('fds': conda)",
   "language": "python",
   "name": "python3"
  },
  "language_info": {
   "codemirror_mode": {
    "name": "ipython",
    "version": 3
   },
   "file_extension": ".py",
   "mimetype": "text/x-python",
   "name": "python",
   "nbconvert_exporter": "python",
   "pygments_lexer": "ipython3",
   "version": "3.9.6"
  },
  "orig_nbformat": 4
 },
 "nbformat": 4,
 "nbformat_minor": 2
}
